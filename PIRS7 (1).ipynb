{
 "cells": [
  {
   "cell_type": "markdown",
   "metadata": {
    "id": "vr-gtvgUV0X-"
   },
   "source": [
    "# MAJ : \n",
    "1. err_fast pour als et her_als, ok.\n",
    "2. err_rand_fast pour CPRAND, cette fonction prend la même idée que err_fast, mais en échantillonant. Data fitting error très mauvais si on prend le même échantillon que l'étape random least square calculation. Même si on prend n_samples = 400, ça marche pas.\n",
    "3. CPRAND avec err_rand, avec n_samples=400, ça marche. (cf article CPRAND Stopping criteria). \n",
    "3. her_CPRAND : première version calcul d'erreur avec V,M en échantillonant.  \n",
    "   Deuxième version calcul d'erreur avec err_rand (j'ai gardé la même echantillon pour calculer les erreurs).\n",
    "5. comparaison avec le temps\n",
    "6. comparaison avec les factors plus compliqués\n",
    "\n",
    "Questions : \n",
    "0. err_rand / err_rand_fast \n",
    "2.  condition number to 100?"
   ]
  },
  {
   "cell_type": "code",
   "execution_count": 1,
   "metadata": {
    "colab": {
     "base_uri": "https://localhost:8080/"
    },
    "id": "wPqhk22PpS8P",
    "outputId": "cbd384bc-e0cd-4027-fc90-21c35544b3ba"
   },
   "outputs": [
    {
     "name": "stdout",
     "output_type": "stream",
     "text": [
      "Collecting tensorly\n",
      "\u001b[?25l  Downloading https://files.pythonhosted.org/packages/d2/14/a399fbea0b8e651bfdcba0cf96e842550204dc2ff24251015fd969b6adec/tensorly-0.5.0.tar.gz (103kB)\n",
      "\u001b[K     |████████████████████████████████| 112kB 2.6MB/s \n",
      "\u001b[?25hRequirement already satisfied, skipping upgrade: numpy in /usr/local/lib/python3.6/dist-packages (from tensorly) (1.18.5)\n",
      "Requirement already satisfied, skipping upgrade: scipy in /usr/local/lib/python3.6/dist-packages (from tensorly) (1.4.1)\n",
      "Collecting nose\n",
      "\u001b[?25l  Downloading https://files.pythonhosted.org/packages/15/d8/dd071918c040f50fa1cf80da16423af51ff8ce4a0f2399b7bf8de45ac3d9/nose-1.3.7-py3-none-any.whl (154kB)\n",
      "\u001b[K     |████████████████████████████████| 163kB 8.4MB/s \n",
      "\u001b[?25hBuilding wheels for collected packages: tensorly\n",
      "  Building wheel for tensorly (setup.py) ... \u001b[?25l\u001b[?25hdone\n",
      "  Created wheel for tensorly: filename=tensorly-0.5.0-cp36-none-any.whl size=143028 sha256=1d41a27306a8df82aa011fb039379dab41a2c4845eecb65ae2438acbe17a445f\n",
      "  Stored in directory: /root/.cache/pip/wheels/29/54/bc/46d12f7739ad709844b21801e3a91127bc91002111448e3572\n",
      "Successfully built tensorly\n",
      "Installing collected packages: nose, tensorly\n",
      "Successfully installed nose-1.3.7 tensorly-0.5.0\n"
     ]
    }
   ],
   "source": [
    "pip install -U tensorly"
   ]
  },
  {
   "cell_type": "code",
   "execution_count": 2,
   "metadata": {
    "id": "vgIKe3ZhpeCO"
   },
   "outputs": [],
   "source": [
    "import numpy as np"
   ]
  },
  {
   "cell_type": "code",
   "execution_count": 3,
   "metadata": {
    "id": "qql9Eberh_jX"
   },
   "outputs": [],
   "source": [
    "import tensorly as tl"
   ]
  },
  {
   "cell_type": "code",
   "execution_count": 4,
   "metadata": {
    "id": "9ojNuF8jlp1e"
   },
   "outputs": [],
   "source": [
    "import matplotlib.pyplot as plt"
   ]
  },
  {
   "cell_type": "code",
   "execution_count": 5,
   "metadata": {
    "id": "OoeRDG2uBhSY"
   },
   "outputs": [],
   "source": [
    "from tensorly.decomposition import parafac"
   ]
  },
  {
   "cell_type": "code",
   "execution_count": 6,
   "metadata": {
    "id": "3MMLhyosL_fd"
   },
   "outputs": [],
   "source": [
    "from tensorly.decomposition import sample_khatri_rao"
   ]
  },
  {
   "cell_type": "code",
   "execution_count": 7,
   "metadata": {
    "id": "sbeq9IvcGvNE"
   },
   "outputs": [],
   "source": [
    "from scipy.optimize import linear_sum_assignment"
   ]
  },
  {
   "cell_type": "code",
   "execution_count": 8,
   "metadata": {
    "id": "u9TxGc-0BMXm"
   },
   "outputs": [],
   "source": [
    "from statistics import median"
   ]
  },
  {
   "cell_type": "code",
   "execution_count": 9,
   "metadata": {
    "id": "xC8AVu5s4wTp"
   },
   "outputs": [],
   "source": [
    "import time"
   ]
  },
  {
   "cell_type": "markdown",
   "metadata": {
    "id": "8_RTreV8qTT8"
   },
   "source": [
    "# Basic operations"
   ]
  },
  {
   "cell_type": "markdown",
   "metadata": {
    "id": "HeOKykNzthXB"
   },
   "source": [
    "### Creation of tensors"
   ]
  },
  {
   "cell_type": "code",
   "execution_count": null,
   "metadata": {
    "id": "W_U-YtKOqYSa"
   },
   "outputs": [],
   "source": [
    "# create a random 3x3x3 tensor\n",
    "t_rand = np.random.random((3, 3, 3))"
   ]
  },
  {
   "cell_type": "code",
   "execution_count": null,
   "metadata": {
    "id": "1_87W-T_r2Bg"
   },
   "outputs": [],
   "source": [
    "# create a constant 3x4x2 tensor\n",
    "t_cons = tl.tensor(np.arange(24,dtype='d').reshape((3, 4, 2)))"
   ]
  },
  {
   "cell_type": "code",
   "execution_count": null,
   "metadata": {
    "id": "T5G348pr86Nd"
   },
   "outputs": [],
   "source": [
    "# create a kruskal tensor\n",
    "# factor matrices\n",
    "A=np.arange(9).reshape(3,3)\n",
    "B=np.arange(6).reshape(2,3)+9\n",
    "C=np.arange(6).reshape(2,3)+15\n",
    "factors=[]\n",
    "factors+=[A]\n",
    "factors+=[B]\n",
    "factors+=[C]\n",
    "t_krus = tl.cp_to_tensor((None,factors))\n",
    "weights_cp,factors_cp=tl.cp_normalize((None,factors))"
   ]
  },
  {
   "cell_type": "code",
   "execution_count": null,
   "metadata": {
    "colab": {
     "base_uri": "https://localhost:8080/"
    },
    "id": "Lz5Md77p7Kvr",
    "outputId": "7f9f03e3-d0b8-4ba7-ae82-394e22354363"
   },
   "outputs": [
    {
     "data": {
      "text/plain": [
       "array([[[ 534,  630],\n",
       "        [ 684,  807]],\n",
       "\n",
       "       [[1980, 2346],\n",
       "        [2562, 3036]],\n",
       "\n",
       "       [[3426, 4062],\n",
       "        [4440, 5265]]])"
      ]
     },
     "execution_count": 26,
     "metadata": {
      "tags": []
     },
     "output_type": "execute_result"
    }
   ],
   "source": [
    "t_krus"
   ]
  },
  {
   "cell_type": "code",
   "execution_count": null,
   "metadata": {
    "colab": {
     "base_uri": "https://localhost:8080/"
    },
    "id": "WbehZxAd_aDL",
    "outputId": "405c57b0-0903-4bb3-8e42-2cdae9d724d5"
   },
   "outputs": [
    {
     "data": {
      "text/plain": [
       "array([[0, 1, 2],\n",
       "       [3, 4, 5],\n",
       "       [6, 7, 8]])"
      ]
     },
     "execution_count": 34,
     "metadata": {
      "tags": []
     },
     "output_type": "execute_result"
    }
   ],
   "source": [
    "factors[0]"
   ]
  },
  {
   "cell_type": "code",
   "execution_count": null,
   "metadata": {
    "colab": {
     "base_uri": "https://localhost:8080/"
    },
    "id": "XndOK0VT_c1M",
    "outputId": "2e61b817-8e3c-4a8e-9c53-ec117f54c3f3"
   },
   "outputs": [
    {
     "data": {
      "text/plain": [
       "array([[ 9, 10, 11],\n",
       "       [12, 13, 14]])"
      ]
     },
     "execution_count": 35,
     "metadata": {
      "tags": []
     },
     "output_type": "execute_result"
    }
   ],
   "source": [
    "factors[1]"
   ]
  },
  {
   "cell_type": "code",
   "execution_count": null,
   "metadata": {
    "colab": {
     "base_uri": "https://localhost:8080/"
    },
    "id": "cdW--TKw_c-i",
    "outputId": "e9934031-49f8-4529-ee8b-9d5bfba421e2"
   },
   "outputs": [
    {
     "data": {
      "text/plain": [
       "array([[15, 16, 17],\n",
       "       [18, 19, 20]])"
      ]
     },
     "execution_count": 36,
     "metadata": {
      "tags": []
     },
     "output_type": "execute_result"
    }
   ],
   "source": [
    "factors[2]"
   ]
  },
  {
   "cell_type": "code",
   "execution_count": null,
   "metadata": {
    "colab": {
     "base_uri": "https://localhost:8080/",
     "height": 260
    },
    "id": "PE6tvt8LwmoU",
    "outputId": "463785f2-f351-4e5b-d820-28f162c47b39"
   },
   "outputs": [
    {
     "data": {
      "text/plain": [
       "array([[[ 0.,  1.],\n",
       "        [ 2.,  3.],\n",
       "        [ 4.,  5.],\n",
       "        [ 6.,  7.]],\n",
       "\n",
       "       [[ 8.,  9.],\n",
       "        [10., 11.],\n",
       "        [12., 13.],\n",
       "        [14., 15.]],\n",
       "\n",
       "       [[16., 17.],\n",
       "        [18., 19.],\n",
       "        [20., 21.],\n",
       "        [22., 23.]]])"
      ]
     },
     "execution_count": 6,
     "metadata": {
      "tags": []
     },
     "output_type": "execute_result"
    }
   ],
   "source": [
    "t_cons"
   ]
  },
  {
   "cell_type": "code",
   "execution_count": null,
   "metadata": {
    "colab": {
     "base_uri": "https://localhost:8080/",
     "height": 35
    },
    "id": "aw_I9Z-WQVHR",
    "outputId": "0c8c4bbb-6f58-4e8d-d416-49008c3cd34a"
   },
   "outputs": [
    {
     "data": {
      "text/plain": [
       "4323.999999999999"
      ]
     },
     "execution_count": 7,
     "metadata": {
      "tags": []
     },
     "output_type": "execute_result"
    }
   ],
   "source": [
    "# squared Frobenius norm \n",
    "tl.norm(t_cons,2)**2"
   ]
  },
  {
   "cell_type": "code",
   "execution_count": null,
   "metadata": {
    "colab": {
     "base_uri": "https://localhost:8080/",
     "height": 69
    },
    "id": "XyE6K3Oks-vV",
    "outputId": "8c51fea2-3660-4f69-c183-a4a3f5749461"
   },
   "outputs": [
    {
     "data": {
      "text/plain": [
       "array([[ 0.,  2.,  4.,  6.],\n",
       "       [ 8., 10., 12., 14.],\n",
       "       [16., 18., 20., 22.]])"
      ]
     },
     "execution_count": 8,
     "metadata": {
      "tags": []
     },
     "output_type": "execute_result"
    }
   ],
   "source": [
    "# show frontal slices\n",
    "t_cons[..., 0]"
   ]
  },
  {
   "cell_type": "code",
   "execution_count": null,
   "metadata": {
    "colab": {
     "base_uri": "https://localhost:8080/",
     "height": 69
    },
    "id": "TR9PfAZxs_6F",
    "outputId": "856f5c85-5b9d-4e5b-ef38-a4c21c55da4b"
   },
   "outputs": [
    {
     "data": {
      "text/plain": [
       "array([[ 1.,  3.,  5.,  7.],\n",
       "       [ 9., 11., 13., 15.],\n",
       "       [17., 19., 21., 23.]])"
      ]
     },
     "execution_count": 9,
     "metadata": {
      "tags": []
     },
     "output_type": "execute_result"
    }
   ],
   "source": [
    "t_cons[..., 1]"
   ]
  },
  {
   "cell_type": "markdown",
   "metadata": {
    "id": "jaK87iJXwy2O"
   },
   "source": [
    "### Unfolding"
   ]
  },
  {
   "cell_type": "code",
   "execution_count": null,
   "metadata": {
    "id": "MG9deHbnqsD8"
   },
   "outputs": [],
   "source": [
    "# mode-1 unfolding (i.e. zeroth mode)\n",
    "unfolded = tl.unfold(t_cons, mode=0)"
   ]
  },
  {
   "cell_type": "code",
   "execution_count": null,
   "metadata": {
    "colab": {
     "base_uri": "https://localhost:8080/",
     "height": 69
    },
    "id": "ulHvpRe2rWmW",
    "outputId": "0558bdf1-84da-4af0-9405-e096d2af714c"
   },
   "outputs": [
    {
     "name": "stdout",
     "output_type": "stream",
     "text": [
      "[[ 0.  1.  2.  3.  4.  5.  6.  7.]\n",
      " [ 8.  9. 10. 11. 12. 13. 14. 15.]\n",
      " [16. 17. 18. 19. 20. 21. 22. 23.]]\n"
     ]
    }
   ],
   "source": [
    "print(unfolded)"
   ]
  },
  {
   "cell_type": "code",
   "execution_count": null,
   "metadata": {
    "colab": {
     "base_uri": "https://localhost:8080/",
     "height": 260
    },
    "id": "YIXIuPRWqsw5",
    "outputId": "7d2bde87-ad5d-41ff-a7a9-56c0052ef2e0"
   },
   "outputs": [
    {
     "data": {
      "text/plain": [
       "array([[[ 0.,  1.],\n",
       "        [ 2.,  3.],\n",
       "        [ 4.,  5.],\n",
       "        [ 6.,  7.]],\n",
       "\n",
       "       [[ 8.,  9.],\n",
       "        [10., 11.],\n",
       "        [12., 13.],\n",
       "        [14., 15.]],\n",
       "\n",
       "       [[16., 17.],\n",
       "        [18., 19.],\n",
       "        [20., 21.],\n",
       "        [22., 23.]]])"
      ]
     },
     "execution_count": 12,
     "metadata": {
      "tags": []
     },
     "output_type": "execute_result"
    }
   ],
   "source": [
    "# refold the unfolded tensor\n",
    "tl.fold(unfolded, mode=0, shape=t_cons.shape)"
   ]
  },
  {
   "cell_type": "markdown",
   "metadata": {
    "id": "lE7UPcpbBFRt"
   },
   "source": [
    "### Other basic operations"
   ]
  },
  {
   "cell_type": "code",
   "execution_count": null,
   "metadata": {
    "colab": {
     "base_uri": "https://localhost:8080/",
     "height": 35
    },
    "id": "AC50ysLuBJhn",
    "outputId": "cecb87a1-32e9-43d5-bcc3-612facfe4d59"
   },
   "outputs": [
    {
     "data": {
      "text/plain": [
       "(3, 3, 3)"
      ]
     },
     "execution_count": 29,
     "metadata": {
      "tags": []
     },
     "output_type": "execute_result"
    }
   ],
   "source": [
    "# dimension of tensor\n",
    "tl.shape(t_rand)"
   ]
  },
  {
   "cell_type": "markdown",
   "metadata": {
    "id": "HlpS-9tXIrlt"
   },
   "source": [
    "# Decomposition"
   ]
  },
  {
   "cell_type": "markdown",
   "metadata": {
    "id": "JODkeWzrJHZW"
   },
   "source": [
    "### ALS"
   ]
  },
  {
   "cell_type": "code",
   "execution_count": 10,
   "metadata": {
    "id": "gKJc6YJPKZzl"
   },
   "outputs": [],
   "source": [
    "# stopping criteria \n",
    "def err(tensor,weight,factors): \n",
    "  t_tilde=tl.kruskal_to_tensor((weight,factors)) # transform tensor decomposition (kruskal tensor) to tensor\n",
    "  return(tl.norm(tensor-t_tilde))"
   ]
  },
  {
   "cell_type": "code",
   "execution_count": 11,
   "metadata": {
    "id": "xifbsp_C8r8e"
   },
   "outputs": [],
   "source": [
    "def err_fast(norm_tensor,A,V,W):\n",
    "  res=sum(sum(V*(np.transpose(A).dot(A))))\n",
    "  res=res-2*sum(sum(W*A))\n",
    "  return(np.sqrt(norm_tensor**2+res))"
   ]
  },
  {
   "cell_type": "code",
   "execution_count": 12,
   "metadata": {
    "id": "eAXDMEj2H3DJ"
   },
   "outputs": [],
   "source": [
    "def err_fac(fac,fac_est) :\n",
    "  weights,fac=tl.cp_normalize((None,fac))\n",
    "  weights_est,fac_est=tl.cp_normalize((None,fac_est))\n",
    "  err=0\n",
    "  for i in range(len(fac)):\n",
    "    row_ind, col_ind = linear_sum_assignment(-np.dot(np.transpose(fac[i]),fac_est[i]))\n",
    "    err=err+(tl.norm(fac[i]-fac_est[i][:,col_ind])/tl.norm(fac[i]))\n",
    "  return(err/len(fac))"
   ]
  },
  {
   "cell_type": "code",
   "execution_count": 114,
   "metadata": {
    "id": "f-2qmNUpIuRZ"
   },
   "outputs": [],
   "source": [
    "# ALS method to compute tensor decomposition\n",
    "def als(tensor,rank,it_max=100,tol=1e-5,list_factors=False,error_fast=True,time_rec=False):\n",
    "  N=tl.ndim(tensor) # order of tensor\n",
    "  norm_tensor=tl.norm(tensor) # norm of tensor\n",
    "  factors=[] # factor matrices\n",
    "  if time_rec == True : list_time=[]\n",
    "  if list_factors==True : list_fac=[] # list of factor matrices\n",
    "  # Initializtion of factor matrices by left singular vectors\n",
    "  for mode in range(N):\n",
    "    unfolded=tl.unfold(tensor, mode)\n",
    "    if rank<=tl.shape(tensor)[mode] : \n",
    "      u,s,v=tl.partial_svd(unfolded,n_eigenvecs=rank) # first rank eigenvectors/values (ascendent)\n",
    "    else : \n",
    "      u,s,v=tl.partial_svd(unfolded,n_eigenvecs=tl.shape(tensor)[mode]) \n",
    "      u=np.append(u,np.random.random((np.shape(u)[0],rank-tl.shape(tensor)[mode])),axis=1)  # sometimes we have singular matrix error\n",
    "    factors+=[u]\n",
    "  weights,factors=tl.cp_tensor.cp_normalize((None,factors)) # normalise factor matrices\n",
    "  if list_factors==True : list_fac.append(factors)\n",
    "  it=0\n",
    "  error=[err(tensor,weights,factors)/norm_tensor]\n",
    "  while (error[len(error)-1]>tol and it<it_max):\n",
    "    if time_rec == True : tic=time.time() \n",
    "    for n in range(N):\n",
    "      V=np.ones((rank,rank))\n",
    "      for i in range(len(factors)):\n",
    "        if i != n : V=V*tl.dot(tl.transpose(factors[i]),factors[i])\n",
    "      W=tl.cp_tensor.unfolding_dot_khatri_rao(tensor, (None,factors), n) # do I need to reverse factors ? --> no deja bon ordre (même matricization que dans le chapitre)\n",
    "      factors[n]= tl.transpose(tl.solve(tl.transpose(V),tl.transpose(W)))\n",
    "    weights,factors=tl.cp_tensor.cp_normalize((None,factors))\n",
    "    if list_factors==True : list_fac.append(factors)\n",
    "    it=it+1\n",
    "    if(error_fast==False) : error.append(err(tensor,weights,factors)/norm_tensor)\n",
    "    else : error.append(err_fast(norm_tensor,factors[N-1],V,W)/norm_tensor)\n",
    "    if time_rec == True : \n",
    "      toc=time.time() \n",
    "      list_time.append(toc-tic)\n",
    "  if list_factors==True and time_rec==True: return(weights,factors,it,error,list_fac,list_time)\n",
    "  if time_rec==True : return(weights,factors,it,error,list_time)\n",
    "  if list_factors==True : return(weights,factors,it,error,list_fac)\n",
    "  return(weights,factors,it,error)"
   ]
  },
  {
   "cell_type": "markdown",
   "metadata": {
    "id": "1FQaVrZQ5mHj"
   },
   "source": [
    "#### Test"
   ]
  },
  {
   "cell_type": "code",
   "execution_count": null,
   "metadata": {
    "colab": {
     "base_uri": "https://localhost:8080/",
     "height": 202
    },
    "id": "iI1KcXURSP9F",
    "outputId": "756138a5-d46c-4a0d-9c23-f6eddafea02d"
   },
   "outputs": [
    {
     "ename": "NameError",
     "evalue": "ignored",
     "output_type": "error",
     "traceback": [
      "\u001b[0;31m---------------------------------------------------------------------------\u001b[0m",
      "\u001b[0;31mNameError\u001b[0m                                 Traceback (most recent call last)",
      "\u001b[0;32m<ipython-input-65-eeabcd309de3>\u001b[0m in \u001b[0;36m<module>\u001b[0;34m()\u001b[0m\n\u001b[1;32m      1\u001b[0m \u001b[0;31m# test err\u001b[0m\u001b[0;34m\u001b[0m\u001b[0;34m\u001b[0m\u001b[0;34m\u001b[0m\u001b[0m\n\u001b[1;32m      2\u001b[0m \u001b[0mtensor\u001b[0m\u001b[0;34m=\u001b[0m\u001b[0mtl\u001b[0m\u001b[0;34m.\u001b[0m\u001b[0mtensor\u001b[0m\u001b[0;34m(\u001b[0m\u001b[0mnp\u001b[0m\u001b[0;34m.\u001b[0m\u001b[0marange\u001b[0m\u001b[0;34m(\u001b[0m\u001b[0;36m12\u001b[0m\u001b[0;34m,\u001b[0m\u001b[0mdtype\u001b[0m\u001b[0;34m=\u001b[0m\u001b[0;34m'd'\u001b[0m\u001b[0;34m)\u001b[0m\u001b[0;34m.\u001b[0m\u001b[0mreshape\u001b[0m\u001b[0;34m(\u001b[0m\u001b[0;34m(\u001b[0m\u001b[0;36m3\u001b[0m\u001b[0;34m,\u001b[0m \u001b[0;36m2\u001b[0m\u001b[0;34m,\u001b[0m \u001b[0;36m2\u001b[0m\u001b[0;34m)\u001b[0m\u001b[0;34m)\u001b[0m\u001b[0;34m)\u001b[0m\u001b[0;34m\u001b[0m\u001b[0;34m\u001b[0m\u001b[0m\n\u001b[0;32m----> 3\u001b[0;31m \u001b[0merr\u001b[0m\u001b[0;34m(\u001b[0m\u001b[0mtensor\u001b[0m\u001b[0;34m,\u001b[0m\u001b[0;32mNone\u001b[0m\u001b[0;34m,\u001b[0m\u001b[0mfactors\u001b[0m\u001b[0;34m)\u001b[0m \u001b[0;31m# with factors of t_krus\u001b[0m\u001b[0;34m\u001b[0m\u001b[0;34m\u001b[0m\u001b[0m\n\u001b[0m",
      "\u001b[0;31mNameError\u001b[0m: name 'factors' is not defined"
     ]
    }
   ],
   "source": [
    "# test err\n",
    "tensor=tl.tensor(np.arange(12,dtype='d').reshape((3, 2, 2)))\n",
    "err(tensor,None,factors) # with factors of t_krus"
   ]
  },
  {
   "cell_type": "markdown",
   "metadata": {
    "id": "pP0QZ5_TQ-6a"
   },
   "source": [
    "##### Test als random tensor"
   ]
  },
  {
   "cell_type": "code",
   "execution_count": null,
   "metadata": {
    "id": "M2QEzhOvMYiI"
   },
   "outputs": [],
   "source": [
    "# test als with a random tensor, rank = 3 (order)\n",
    "weights,factors,it,error=als(t_rand,3)\n",
    "tl.kruskal_to_tensor((weights,factors))"
   ]
  },
  {
   "cell_type": "code",
   "execution_count": null,
   "metadata": {
    "id": "sXRtXEOsuX4Z"
   },
   "outputs": [],
   "source": [
    "it"
   ]
  },
  {
   "cell_type": "code",
   "execution_count": null,
   "metadata": {
    "id": "mIMG96oSK0sU"
   },
   "outputs": [],
   "source": [
    "# compare with parafac in tensorly\n",
    "kt=parafac(t_rand,3)\n",
    "tl.kruskal_to_tensor(kt)"
   ]
  },
  {
   "cell_type": "code",
   "execution_count": null,
   "metadata": {
    "id": "-wpLlIgvDdXc"
   },
   "outputs": [],
   "source": [
    "# compare with the initial tensor\n",
    "t_rand"
   ]
  },
  {
   "cell_type": "code",
   "execution_count": null,
   "metadata": {
    "id": "-bIyq42LB-rw"
   },
   "outputs": [],
   "source": [
    "# test als with a random tensor, rank = 100\n",
    "weights,factors,it,error=als(t_rand,100)\n",
    "tl.kruskal_to_tensor((weights,factors))"
   ]
  },
  {
   "cell_type": "code",
   "execution_count": null,
   "metadata": {
    "id": "13Kbh18wtssc"
   },
   "outputs": [],
   "source": [
    "weights,factors,it,error=als(tensor,3)"
   ]
  },
  {
   "cell_type": "code",
   "execution_count": null,
   "metadata": {
    "id": "60wMaP1rtwXk"
   },
   "outputs": [],
   "source": [
    "it"
   ]
  },
  {
   "cell_type": "code",
   "execution_count": null,
   "metadata": {
    "id": "WHoQWTUAtyzL"
   },
   "outputs": [],
   "source": [
    "error"
   ]
  },
  {
   "cell_type": "code",
   "execution_count": null,
   "metadata": {
    "id": "gDnVz26Rt321"
   },
   "outputs": [],
   "source": [
    "tl.kruskal_to_tensor((weights,factors))"
   ]
  },
  {
   "cell_type": "code",
   "execution_count": null,
   "metadata": {
    "id": "RhEB8FwpuEqa"
   },
   "outputs": [],
   "source": [
    "tensor"
   ]
  },
  {
   "cell_type": "markdown",
   "metadata": {
    "id": "2z51Ooy3RE0r"
   },
   "source": [
    "##### Test als cp tensor"
   ]
  },
  {
   "cell_type": "code",
   "execution_count": null,
   "metadata": {
    "id": "i7HJlZRNCSfl"
   },
   "outputs": [],
   "source": [
    "# test als with the Kurskal tensor in section Basic operations\n",
    "np.random.seed(1)\n",
    "weights,factors,it,error1,l=als(t_krus,3,list_factors=True)\n",
    "it"
   ]
  },
  {
   "cell_type": "code",
   "execution_count": null,
   "metadata": {
    "id": "zrVWU-oJMD46"
   },
   "outputs": [],
   "source": [
    "np.random.seed(1)\n",
    "weights,factors,it,error,l=als(t_krus,3,list_factors=True,error_fast=False)\n",
    "it"
   ]
  },
  {
   "cell_type": "code",
   "execution_count": null,
   "metadata": {
    "id": "0_8gtRuXIMIY"
   },
   "outputs": [],
   "source": [
    "tl.kruskal_to_tensor((weights,factors))"
   ]
  },
  {
   "cell_type": "code",
   "execution_count": null,
   "metadata": {
    "id": "KrQkFswpIKYd"
   },
   "outputs": [],
   "source": [
    "# compare with the initial tensor\n",
    "t_krus"
   ]
  },
  {
   "cell_type": "markdown",
   "metadata": {
    "id": "gOtSFomrJIPQ"
   },
   "source": [
    "We obtain the same tensor, but not the same decomposition (weights and factors are different from the definition of t_krus), because of permutation and normalization."
   ]
  },
  {
   "cell_type": "code",
   "execution_count": null,
   "metadata": {
    "id": "1uxWMw_O5uFN"
   },
   "outputs": [],
   "source": [
    "# Test err_fac\n",
    "err_fac(factors_cp,factors)"
   ]
  },
  {
   "cell_type": "code",
   "execution_count": null,
   "metadata": {
    "id": "9sol0y1FM-Kp"
   },
   "outputs": [],
   "source": [
    "# with another random cp_tensor\n",
    "A=np.random.random((3, 3))\n",
    "B=np.random.random((2, 3))\n",
    "C=np.random.random((2, 3))\n",
    "factors=[]\n",
    "factors+=[A]\n",
    "factors+=[B]\n",
    "factors+=[C]\n",
    "t_krus = tl.cp_to_tensor((None,factors))\n",
    "weights_cp,factors_cp=tl.cp_normalize((None,factors))"
   ]
  },
  {
   "cell_type": "code",
   "execution_count": null,
   "metadata": {
    "id": "JLGSBiTkOmcn"
   },
   "outputs": [],
   "source": [
    "weights,factors,it,error=als(t_krus,3)\n",
    "it"
   ]
  },
  {
   "cell_type": "code",
   "execution_count": null,
   "metadata": {
    "id": "gPxQOXd-PHCy"
   },
   "outputs": [],
   "source": [
    "tl.cp_to_tensor((weights,factors))"
   ]
  },
  {
   "cell_type": "code",
   "execution_count": null,
   "metadata": {
    "id": "e4xT77s1PQwp"
   },
   "outputs": [],
   "source": [
    "t_krus"
   ]
  },
  {
   "cell_type": "code",
   "execution_count": null,
   "metadata": {
    "id": "rRhVAf3WOqkU"
   },
   "outputs": [],
   "source": [
    "err_fac(factors_cp,factors)"
   ]
  },
  {
   "cell_type": "code",
   "execution_count": null,
   "metadata": {
    "id": "SDPjVxJmOsTR"
   },
   "outputs": [],
   "source": [
    "cp_para=parafac(t_krus,3)"
   ]
  },
  {
   "cell_type": "code",
   "execution_count": null,
   "metadata": {
    "id": "IQqiBxCOOyWB"
   },
   "outputs": [],
   "source": [
    "err_fac(factors_cp,cp_para.factors)"
   ]
  },
  {
   "cell_type": "code",
   "execution_count": null,
   "metadata": {
    "id": "3BF0nCvEP0fk"
   },
   "outputs": [],
   "source": [
    "tl.cp_to_tensor(cp_para)"
   ]
  },
  {
   "cell_type": "markdown",
   "metadata": {
    "id": "hGfIM7ptuKwf"
   },
   "source": [
    "### her_Als"
   ]
  },
  {
   "cell_type": "code",
   "execution_count": 112,
   "metadata": {
    "id": "dL_ZTB6aTmRF"
   },
   "outputs": [],
   "source": [
    "def her_Als(tensor,rank,it_max=100,err_it_max=20,tol=1e-5,beta=0.5,eta=1.5,gamma=1.05,gamma_bar=1.01,list_factors=False,error_fast=True,time_rec=False):\n",
    "  beta_bar=1\n",
    "  N=tl.ndim(tensor) # order of tensor\n",
    "  norm_tensor=tl.norm(tensor) # norm of tensor\n",
    "  factors=[]\n",
    "  if time_rec == True : list_time=[]\n",
    "  if list_factors==True : list_fac=[]\n",
    "\n",
    "  # Initializtion of factor matrices by left singular vectors (same as in als)\n",
    "  for mode in range(N):\n",
    "    unfolded=tl.unfold(tensor, mode)\n",
    "    if rank<=tl.shape(tensor)[mode] : \n",
    "      u,s,v=tl.partial_svd(unfolded,n_eigenvecs=rank) \n",
    "    else : \n",
    "      u,s,v=tl.partial_svd(unfolded,n_eigenvecs=tl.shape(tensor)[mode]) \n",
    "      u=np.append(u,np.random.random((np.shape(u)[0],rank-tl.shape(tensor)[mode])),axis=1)  \n",
    "    factors+=[u] \n",
    "  # Initialization of factor hat matrices by factor matrices\n",
    "  factors_hat=factors\n",
    "  if list_factors==True : list_fac.append(factors)\n",
    "\n",
    "  it=0\n",
    "  err_it=0\n",
    "  cpt=0\n",
    "  F_hat_bf=err(tensor,None,factors) # cost\n",
    "  error=[F_hat_bf/norm_tensor]\n",
    "  min_err=error[len(error)-1]\n",
    "\n",
    "  while (min_err > tol and it<it_max and err_it<err_it_max):\n",
    "    if time_rec == True : tic=time.time()\n",
    "    for n in range(N):\n",
    "      V=np.ones((rank,rank))\n",
    "      for i in range(len(factors)):\n",
    "        if i != n : V=V*tl.dot(tl.transpose(factors_hat[i]),factors_hat[i])\n",
    "      W=tl.cp_tensor.unfolding_dot_khatri_rao(tensor, (None,factors_hat), n) \n",
    "      factor_bf=factors[n]\n",
    "      # update\n",
    "      factors[n]= tl.transpose(tl.solve(tl.transpose(V),tl.transpose(W)))\n",
    "      # extrapolate\n",
    "      factors_hat[n]=factors[n]+beta*(factors[n]-factor_bf)\n",
    "\n",
    "    if(error_fast==False) : F_hat_new = err(tensor,None,factors_hat) # cost update \n",
    "    else : F_hat_new = err_fast(norm_tensor,factors[N-1],V,W)\n",
    "    if (F_hat_new>F_hat_bf):\n",
    "      factors_hat=factors\n",
    "      beta_bar=beta\n",
    "      beta=beta/eta\n",
    "      cpt=cpt+1\n",
    "    else :\n",
    "      factors=factors_hat\n",
    "      beta_bar=min(1,beta_bar*gamma_bar)\n",
    "      beta=min(beta_bar,gamma*beta)\n",
    "    F_hat_bf=F_hat_new\n",
    "    it=it+1\n",
    "    if list_factors==True : list_fac.append(factors)\n",
    "    error.append(F_hat_new/norm_tensor)\n",
    "    if(error[len(error)-1]<min_err) : min_err=error[len(error)-1] # err update\n",
    "    else : err_it=err_it+1\n",
    "    if time_rec == True : \n",
    "      toc=time.time()\n",
    "      list_time.append(toc-tic)\n",
    "  weights,factors=tl.cp_normalize((None,factors))\n",
    "  if time_rec == True and list_factors==True: return(weights,factors,it,error,cpt/it,list_fac,list_time)\n",
    "  if list_factors==True : return(weights,factors,it,error,cpt/it,list_fac)\n",
    "  if time_rec == True : return(weights,factors,it,error,cpt/it,list_time)\n",
    "  return(weights,factors,it,error,cpt/it)\n"
   ]
  },
  {
   "cell_type": "markdown",
   "metadata": {
    "id": "U8sVDeXuyZ-Z"
   },
   "source": [
    "#### Test"
   ]
  },
  {
   "cell_type": "code",
   "execution_count": null,
   "metadata": {
    "id": "KFLBBNwxybrT"
   },
   "outputs": [],
   "source": [
    "np.random.seed(1)\n",
    "weights,factors,it,error,cpt=her_Als(t_krus,3)\n",
    "it"
   ]
  },
  {
   "cell_type": "code",
   "execution_count": null,
   "metadata": {
    "id": "3lyr1TaMRLRo"
   },
   "outputs": [],
   "source": [
    "np.random.seed(1)\n",
    "weights,factors,it,error,cpt=her_Als(t_krus,3,error_fast=False)\n",
    "it"
   ]
  },
  {
   "cell_type": "code",
   "execution_count": null,
   "metadata": {
    "id": "8_XBxujG0IBZ"
   },
   "outputs": [],
   "source": [
    "cpt"
   ]
  },
  {
   "cell_type": "code",
   "execution_count": null,
   "metadata": {
    "id": "Eypf63_9yrCy"
   },
   "outputs": [],
   "source": [
    "tl.kruskal_to_tensor((weights,factors))"
   ]
  },
  {
   "cell_type": "markdown",
   "metadata": {
    "id": "iOSWsevBuPRT"
   },
   "source": [
    "### CPRAND"
   ]
  },
  {
   "cell_type": "markdown",
   "metadata": {
    "id": "g9AC_UkREjTn"
   },
   "source": [
    "#### Stopping criteria"
   ]
  },
  {
   "cell_type": "code",
   "execution_count": 15,
   "metadata": {
    "id": "gZoUOpCkhPNz"
   },
   "outputs": [],
   "source": [
    "# Stopping criteria of CPRAND\n",
    "def err_rand(tensor,weights,factors,nb_samples,indices_list=None): \n",
    "  if indices_list==None : \n",
    "    indices_list = [np.random.randint(0, tl.shape(m)[0], size=nb_samples, dtype=int) for m in factors] \n",
    "    indices_list = [i.tolist() for i in indices_list]\n",
    "    indices_list = tuple(indices_list)\n",
    "  est_values=[]\n",
    "  P=1\n",
    "  for i in tl.shape(tensor) : P=P*i\n",
    "  for i in range(nb_samples):\n",
    "     if weights is None : value=1\n",
    "     else : value=weights\n",
    "     for mode in range(tl.ndim(tensor)) :\n",
    "       value=value*factors[mode][indices_list[mode][i],:]\n",
    "     est_values+=[sum(value)]\n",
    "  list_e=(tensor[indices_list]-est_values)**2  # max(list_e) = 1 (general ? mais si les donnees sont grandes ?)\n",
    "  return(np.sqrt(sum(list_e)*P/nb_samples),indices_list) "
   ]
  },
  {
   "cell_type": "code",
   "execution_count": 16,
   "metadata": {
    "id": "sfKdi9s7kqoH"
   },
   "outputs": [],
   "source": [
    "def err_rand_fast(tensor,A,V,W,nb_samples,indices_list=None): \n",
    "  if indices_list==None : \n",
    "    indices_list = [np.random.randint(0, tl.shape(m)[0], size=nb_samples, dtype=int) for m in factors] \n",
    "    indices_list = [i.tolist() for i in indices_list]\n",
    "    indices_list = tuple(indices_list)\n",
    "  norm_tensor=tl.norm(tensor[indices_list])\n",
    "  res=sum(sum(V*(np.transpose(A).dot(A))))\n",
    "  res=norm_tensor**2+res-2*sum(sum(W*A)) \n",
    "  res=np.sqrt(res)/nb_samples\n",
    "  P=1\n",
    "  for i in tl.shape(tensor) : P=P*i\n",
    "  return(res*P,indices_list) "
   ]
  },
  {
   "cell_type": "markdown",
   "metadata": {
    "id": "dqe_g21dDz_E"
   },
   "source": [
    "##### Test for err"
   ]
  },
  {
   "cell_type": "code",
   "execution_count": null,
   "metadata": {
    "id": "6eFd263nH26C"
   },
   "outputs": [],
   "source": [
    "indices_list=[np.random.randint(0, tl.shape(m)[0], size=4, dtype=int) for m in factors]"
   ]
  },
  {
   "cell_type": "code",
   "execution_count": null,
   "metadata": {
    "id": "ld4X_douJnaQ"
   },
   "outputs": [],
   "source": [
    "indices_list = [i.tolist() for i in indices_list]\n",
    "indices_list = tuple(indices_list) \n",
    "indices_list"
   ]
  },
  {
   "cell_type": "code",
   "execution_count": null,
   "metadata": {
    "id": "T_uDNFG9KLOs"
   },
   "outputs": [],
   "source": [
    "t_krus[indices_list] "
   ]
  },
  {
   "cell_type": "code",
   "execution_count": null,
   "metadata": {
    "id": "8ePYqJmQKkW4"
   },
   "outputs": [],
   "source": [
    "est_values=[]\n",
    "for i in range(4) : # P \n",
    "  value=weights\n",
    "  for mode in range(tl.ndim(t_krus)) : \n",
    "     value=value*factors[mode][indices_list[mode][i],:]\n",
    "  est_values+=[sum(value)]"
   ]
  },
  {
   "cell_type": "code",
   "execution_count": null,
   "metadata": {
    "id": "sTXsrnCNChCI"
   },
   "outputs": [],
   "source": [
    "est_values"
   ]
  },
  {
   "cell_type": "code",
   "execution_count": null,
   "metadata": {
    "id": "-q1rmxN-DoaN"
   },
   "outputs": [],
   "source": [
    "err_rand(t_krus,weights,factors,4)[0]"
   ]
  },
  {
   "cell_type": "markdown",
   "metadata": {
    "id": "XztnS6YjWKJ_"
   },
   "source": [
    "#### Main method"
   ]
  },
  {
   "cell_type": "code",
   "execution_count": 137,
   "metadata": {
    "id": "T4txK4cRuRUK"
   },
   "outputs": [],
   "source": [
    "# version 1 variance trop grande : error comme dans her, mais les matrices V,W et la norme tensor etantes randomisees.\n",
    "def CPRAND(tensor,rank,n_samples,exact_err=False,it_max=100,err_it_max=20,tol=1e-6,list_factors=False,time_rec=False):\n",
    "  N=tl.ndim(tensor) # order of tensor\n",
    "  norm_tensor=tl.norm(tensor) # norm of tensor\n",
    "  factors=[]\n",
    "  if list_factors==True : list_fac=[]\n",
    "  if time_rec == True : list_time=[]\n",
    "  # Initializtion of factor matrices \n",
    "  for mode in range(N):\n",
    "    unfolded=tl.unfold(tensor, mode)\n",
    "    if rank<=tl.shape(tensor)[mode] : \n",
    "      u,s,v=tl.partial_svd(unfolded,n_eigenvecs=rank) \n",
    "    else : \n",
    "      u,s,v=tl.partial_svd(unfolded,n_eigenvecs=tl.shape(tensor)[mode]) \n",
    "      u=np.append(u,np.random.random((np.shape(u)[0],rank-tl.shape(tensor)[mode])),axis=1)  \n",
    "    factors+=[u]\n",
    "  weights,factors=tl.cp_tensor.cp_normalize((None,factors))\n",
    "  if list_factors==True : list_fac.append(factors) \n",
    "\n",
    "  it=0\n",
    "  err_it=0\n",
    "  ########################################\n",
    "  ######### error initialization #########\n",
    "  ########################################\n",
    "  if(exact_err==False):\n",
    "    temp,ind_err=err_rand(tensor,weights,factors,400) \n",
    "    error=[temp/norm_tensor] \n",
    "  else :\n",
    "    error=[err(tensor,weights,factors)/norm_tensor]\n",
    "\n",
    "  min_err=error[len(error)-1]\n",
    "  rng = tl.random.check_random_state(None)\n",
    "  while (min_err>tol and it<it_max and err_it<err_it_max): \n",
    "    if time_rec == True : tic=time.time()\n",
    "    for n in range(N):\n",
    "      Zs,indices=tl.decomposition.sample_khatri_rao(factors,n_samples,skip_matrix=n,random_state=rng)\n",
    "      indices_list = [i.tolist() for i in indices]\n",
    "      indices_list.insert(n, slice(None, None, None))\n",
    "      indices_list = tuple(indices_list)\n",
    "      if (n==0) :sampled_unfolding = tensor[indices_list]\n",
    "      else : sampled_unfolding =tl.transpose(tensor[indices_list])\n",
    "      V=tl.dot(tl.transpose(Zs),Zs)\n",
    "      W=tl.dot(sampled_unfolding,Zs)\n",
    "      # update\n",
    "      factors[n] = tl.transpose(tl.solve(V,tl.transpose(W))) # solve needs a squared matrix\n",
    "    \n",
    "    weights,factors=tl.cp_tensor.cp_normalize((None,factors))\n",
    "    if list_factors==True : list_fac.append(factors)\n",
    "    it=it+1\n",
    "    ################################\n",
    "    ######### error update #########\n",
    "    ################################\n",
    "    if(exact_err==False):\n",
    "      error.append(err_rand_fast(tensor,factors[N-1],V,W,n_samples,indices_list)[0]/norm_tensor) # same indices used as for Random Lesat Square Calculation\n",
    "    else : error.append(err(tensor,weights,factors)/norm_tensor)\n",
    "\n",
    "    if(error[len(error)-1]<min_err) : min_err=error[len(error)-1] # err update\n",
    "    else : err_it=err_it+1\n",
    "    if time_rec == True : \n",
    "      toc=time.time()\n",
    "      list_time.append(toc-tic)\n",
    "  if time_rec == True and list_factors==True: return(weights,factors,it,error,list_fac,list_time)\n",
    "  if list_factors==True : return(weights,factors,it,error,list_fac)\n",
    "  if time_rec==True : return(weights,factors,it,error,list_time)\n",
    "  return(weights,factors,it,error)"
   ]
  },
  {
   "cell_type": "code",
   "execution_count": 133,
   "metadata": {
    "id": "1xAysAdF1Fk8"
   },
   "outputs": [],
   "source": [
    "# version 2 : error comme dans article CPRAND, ici l'interet est de pouvoir prendre plus d'indices\n",
    "def CPRAND(tensor,rank,n_samples,exact_err=False,it_max=100,err_it_max=20,tol=1e-6,list_factors=False,time_rec=False):\n",
    "  N=tl.ndim(tensor) # order of tensor\n",
    "  norm_tensor=tl.norm(tensor) # norm of tensor\n",
    "  factors=[]\n",
    "  if list_factors==True : list_fac=[]\n",
    "  if time_rec == True : list_time=[]\n",
    "\n",
    "  # Initializtion of factor matrices\n",
    "  for mode in range(N):\n",
    "    unfolded=tl.unfold(tensor, mode)\n",
    "    if rank<=tl.shape(tensor)[mode] : \n",
    "      u,s,v=tl.partial_svd(unfolded,n_eigenvecs=rank) \n",
    "    else : \n",
    "      u,s,v=tl.partial_svd(unfolded,n_eigenvecs=tl.shape(tensor)[mode]) \n",
    "      u=np.append(u,np.random.random((np.shape(u)[0],rank-tl.shape(tensor)[mode])),axis=1)  \n",
    "    factors+=[u]\n",
    "  weights,factors=tl.cp_tensor.cp_normalize((None,factors))\n",
    "  if list_factors==True : list_fac.append(factors) \n",
    "\n",
    "  it=0\n",
    "  err_it=0\n",
    "  ########################################\n",
    "  ######### error initialization #########\n",
    "  ########################################\n",
    "  if(exact_err==False):\n",
    "    temp,ind_err=err_rand(tensor,weights,factors,400)\n",
    "    error=[temp/norm_tensor] \n",
    "  else :\n",
    "    error=[err(tensor,weights,factors)/norm_tensor]\n",
    "  min_err=error[len(error)-1]\n",
    "  rng = tl.random.check_random_state(None)\n",
    "  while (min_err>tol and it<it_max and err_it<err_it_max): \n",
    "    if time_rec == True : tic=time.time()\n",
    "    for n in range(N):\n",
    "      Zs,indices=tl.decomposition.sample_khatri_rao(factors,n_samples,skip_matrix=n,random_state=rng)\n",
    "      indices_list = [i.tolist() for i in indices]\n",
    "      indices_list.insert(n, slice(None, None, None))\n",
    "      indices_list = tuple(indices_list)\n",
    "      if (n==0) :sampled_unfolding = tensor[indices_list]\n",
    "      else : sampled_unfolding =tl.transpose(tensor[indices_list])\n",
    "      V=tl.dot(tl.transpose(Zs),Zs)\n",
    "      W=tl.dot(sampled_unfolding,Zs)\n",
    "      # update\n",
    "      factors[n] = tl.transpose(tl.solve(V,tl.transpose(W))) # solve needs a squared matrix\n",
    "    \n",
    "    weights,factors=tl.cp_tensor.cp_normalize((None,factors))\n",
    "    if list_factors==True : list_fac.append(factors)\n",
    "    it=it+1\n",
    "    ################################\n",
    "    ######### error update #########\n",
    "    ################################\n",
    "    if(exact_err==False):\n",
    "      temp,ind_err=err_rand(tensor,weights,factors,400,ind_err)\n",
    "      error.append(temp/norm_tensor)\n",
    "    else : error.append(err(tensor,weights,factors)/norm_tensor)\n",
    "\n",
    "    if(error[len(error)-1]<min_err) : min_err=error[len(error)-1] # min err update\n",
    "    else : err_it=err_it+1\n",
    "    if time_rec == True : \n",
    "      toc=time.time()\n",
    "      list_time.append(toc-tic)\n",
    "  if time_rec == True and list_factors==True: return(weights,factors,it,error,list_fac,list_time)\n",
    "  if list_factors==True : return(weights,factors,it,error,list_fac)\n",
    "  if time_rec==True : return(weights,factors,it,error,list_time)\n",
    "  return(weights,factors,it,error)"
   ]
  },
  {
   "cell_type": "markdown",
   "metadata": {
    "id": "drqAkp1q3PVu"
   },
   "source": [
    "#### Test"
   ]
  },
  {
   "cell_type": "code",
   "execution_count": null,
   "metadata": {
    "id": "Lxi1bUKg3RLC"
   },
   "outputs": [],
   "source": [
    "rank=3\n",
    "n_samples=int(10*rank*np.log(rank)+1)\n",
    "weights,factors,it,error=CPRAND(t_krus,rank,n_samples,exact_err=False)\n",
    "it"
   ]
  },
  {
   "cell_type": "code",
   "execution_count": null,
   "metadata": {
    "id": "WVoRnEuksN9p"
   },
   "outputs": [],
   "source": [
    "t_krus"
   ]
  },
  {
   "cell_type": "code",
   "execution_count": null,
   "metadata": {
    "id": "I26RkdrZ3h1W"
   },
   "outputs": [],
   "source": [
    "tl.cp_to_tensor((weights,factors))"
   ]
  },
  {
   "cell_type": "code",
   "execution_count": null,
   "metadata": {
    "id": "RbTi6FCjtBwp"
   },
   "outputs": [],
   "source": [
    "weights,factors,it,error=CPRAND(tensor,rank,n_samples,exact_err=True)\n",
    "it"
   ]
  },
  {
   "cell_type": "code",
   "execution_count": null,
   "metadata": {
    "id": "1HR6MSjrtFJY"
   },
   "outputs": [],
   "source": [
    "tensor"
   ]
  },
  {
   "cell_type": "code",
   "execution_count": null,
   "metadata": {
    "id": "GLk8-FvhtHHY"
   },
   "outputs": [],
   "source": [
    "tl.cp_to_tensor((weights,factors))"
   ]
  },
  {
   "cell_type": "code",
   "execution_count": null,
   "metadata": {
    "id": "mPlKv3uNtMuh"
   },
   "outputs": [],
   "source": [
    "error"
   ]
  },
  {
   "cell_type": "markdown",
   "metadata": {
    "id": "ZDxixI6O_0bh"
   },
   "source": [
    "### her-CPRAND\n",
    "\n"
   ]
  },
  {
   "cell_type": "markdown",
   "metadata": {
    "id": "qrNUAYKhEw-v"
   },
   "source": [
    "#### Main method"
   ]
  },
  {
   "cell_type": "code",
   "execution_count": 145,
   "metadata": {
    "id": "O90K1nZdAZVL"
   },
   "outputs": [],
   "source": [
    "# exact_err indicates whether we use exact error calculation or randomised error calculation\n",
    "# list_factors indicates whether we return the list of factors generated at each iteration\n",
    "# we stop the algorithm if min_err is not updated for err_it_max iterations\n",
    "\n",
    "def her_CPRAND(tensor,rank,n_samples,exact_err=False,it_max=100,err_it_max=20,tol=1e-6,beta=0.1,eta=2,gamma=1.01,gamma_bar=1.005,list_factors=False,time_rec=False):\n",
    "  beta_bar=1\n",
    "  N=tl.ndim(tensor) # order of tensor\n",
    "  norm_tensor=tl.norm(tensor) # norm of tensor\n",
    "  factors=[]\n",
    "  if list_factors==True : list_fac=[]\n",
    "  if(time_rec==True) : list_time=[]\n",
    "\n",
    "  # Initializtion of factor matrices by left singular vectors (same as in als)\n",
    "  for mode in range(N):\n",
    "    unfolded=tl.unfold(tensor, mode)\n",
    "    if rank<=tl.shape(tensor)[mode] : \n",
    "      u,s,v=tl.partial_svd(unfolded,n_eigenvecs=rank) \n",
    "    else : \n",
    "      u,s,v=tl.partial_svd(unfolded,n_eigenvecs=tl.shape(tensor)[mode]) \n",
    "      u=np.append(u,np.random.random((np.shape(u)[0],rank-tl.shape(tensor)[mode])),axis=1)  \n",
    "    factors+=[u]\n",
    "  # Initialization of factor hat matrice by factor matrices\n",
    "  factors_hat=factors\n",
    "  if list_factors==True : list_fac.append(factors)\n",
    "  if time_rec==True : list_err=[]\n",
    "\n",
    "  it=0\n",
    "  err_it=0\n",
    "  cpt=0\n",
    "  if(exact_err==False):F_hat_bf,a=err_rand(tensor,None,factors,400)\n",
    "  else : F_hat_bf=err(tensor,None,factors) # exact cost\n",
    "  rng = tl.random.check_random_state(None)\n",
    "  error=[F_hat_bf/norm_tensor]\n",
    "  min_err=error[len(error)-1]\n",
    "  while (min_err>tol and it<it_max and err_it<err_it_max): \n",
    "    if time_rec==True :tic=time.time()\n",
    "    for n in range(N):\n",
    "      Zs,indices=tl.decomposition.sample_khatri_rao(factors_hat,n_samples,skip_matrix=n,random_state=rng)\n",
    "      indices_list = [i.tolist() for i in indices]\n",
    "      indices_list.insert(n, slice(None, None, None))\n",
    "      indices_list = tuple(indices_list)\n",
    "      V=tl.dot(tl.transpose(Zs),Zs)\n",
    "      if (n==0) :sampled_unfolding = tensor[indices_list] \n",
    "      else : sampled_unfolding =tl.transpose(tensor[indices_list])\n",
    "      W=tl.dot(sampled_unfolding,Zs)\n",
    "      factor_bf=factors[n]\n",
    "      # update\n",
    "      factors[n] = tl.transpose(tl.solve(V,tl.transpose(W))) # solve needs a squared matrix, if rank>nb_sampls ok\n",
    "      # if (n==N-1) : F_hat_new=tl.norm(tl.dot(Zs,tl.transpose(factors[n]))-sampled_unfolding,2) # cost update \n",
    "      # extrapolate\n",
    "      factors_hat[n]=factors[n]+beta*(factors[n]-factor_bf)\n",
    "\n",
    "    if(exact_err==False): \n",
    "      F_hat_bf,a= err_rand_fast(tensor,factor_bf,V,W,n_samples,indices_list)\n",
    "      F_hat_new,a= err_rand_fast(tensor,factors[N-1],V,W,n_samples,indices_list) \n",
    "    else :\n",
    "      F_hat_new = err(tensor,None,factors_hat) # exact cost update \n",
    "    if (F_hat_new>F_hat_bf):\n",
    "      factors_hat=factors\n",
    "      beta_bar=beta\n",
    "      beta=beta/eta\n",
    "      cpt=cpt+1\n",
    "    else :\n",
    "      factors=factors_hat\n",
    "      beta_bar=min(1,beta_bar*gamma_bar)\n",
    "      beta=min(beta_bar,gamma*beta)\n",
    "    if(exact_err==True) : F_hat_bf=F_hat_new\n",
    "    it=it+1\n",
    "    if list_factors==True : list_fac.append(factors)\n",
    "    error.append(F_hat_bf/norm_tensor)\n",
    "    if(error[len(error)-1]<min_err) : min_err=error[len(error)-1] # err update\n",
    "    else : err_it=err_it+1\n",
    "    if time_rec==True : \n",
    "      toc=time.time()\n",
    "      list_time.append(toc-tic)\n",
    "  weights,factors=tl.cp_normalize((None,factors))\n",
    "  if list_factors==True and time_rec==True: return(weights,factors,it,error,cpt/it,list_fac,list_time)\n",
    "  if list_factors==True : return(weights,factors,it,error,cpt/it,list_fac)\n",
    "  if time_rec==True : return(weights,factors,it,error,cpt/it,list_time)\n",
    "  return(weights,factors,it,error,cpt/it)"
   ]
  },
  {
   "cell_type": "code",
   "execution_count": 151,
   "metadata": {
    "id": "64pbyR-WwV3W"
   },
   "outputs": [],
   "source": [
    "# version 2\n",
    "def her_CPRAND(tensor,rank,n_samples,exact_err=False,it_max=100,err_it_max=20,tol=1e-6,beta=0.1,eta=2,gamma=1.01,gamma_bar=1.005,list_factors=False,time_rec=False):\n",
    "  beta_bar=1\n",
    "  N=tl.ndim(tensor) # order of tensor\n",
    "  norm_tensor=tl.norm(tensor) # norm of tensor\n",
    "  factors=[]\n",
    "  if list_factors==True : list_fac=[]\n",
    "  if time_rec==True : list_time=[]\n",
    "\n",
    "  # Initializtion of factor matrices by left singular vectors (same as in als)\n",
    "  for mode in range(N):\n",
    "    unfolded=tl.unfold(tensor, mode)\n",
    "    if rank<=tl.shape(tensor)[mode] : \n",
    "      u,s,v=tl.partial_svd(unfolded,n_eigenvecs=rank) \n",
    "    else : \n",
    "      u,s,v=tl.partial_svd(unfolded,n_eigenvecs=tl.shape(tensor)[mode]) \n",
    "      u=np.append(u,np.random.random((np.shape(u)[0],rank-tl.shape(tensor)[mode])),axis=1)  \n",
    "    factors+=[u]\n",
    "  # Initialization of factor hat matrice by factor matrices\n",
    "  factors_hat=factors\n",
    "  if list_factors==True : list_fac.append(factors)\n",
    "\n",
    "  it=0\n",
    "  err_it=0\n",
    "  cpt=0\n",
    "  ########################################\n",
    "  ######### error initialization #########\n",
    "  ########################################\n",
    "  if(exact_err==False):F_hat_bf,ind_err=err_rand(tensor,None,factors,400)\n",
    "  else : F_hat_bf=err(tensor,None,factors) # exact cost\n",
    "\n",
    "  rng = tl.random.check_random_state(None)\n",
    "  error=[F_hat_bf/norm_tensor]\n",
    "  min_err=error[len(error)-1]\n",
    "  while (min_err>tol and it<it_max and err_it<err_it_max): \n",
    "    if time_rec==True : tic=time.time()\n",
    "    for n in range(N):\n",
    "      Zs,indices=tl.decomposition.sample_khatri_rao(factors_hat,n_samples,skip_matrix=n,random_state=rng)\n",
    "      indices_list = [i.tolist() for i in indices]\n",
    "      indices_list.insert(n, slice(None, None, None))\n",
    "      indices_list = tuple(indices_list)\n",
    "      V=tl.dot(tl.transpose(Zs),Zs)\n",
    "      if (n==0) :sampled_unfolding = tensor[indices_list] \n",
    "      else : sampled_unfolding =tl.transpose(tensor[indices_list])\n",
    "      W=tl.dot(sampled_unfolding,Zs)\n",
    "      factor_bf=factors[n]\n",
    "      # update\n",
    "      factors[n] = tl.transpose(tl.solve(V,tl.transpose(W))) # solve needs a squared matrix, if rank>nb_sampls ok\n",
    "      # if (n==N-1) : F_hat_new=tl.norm(tl.dot(Zs,tl.transpose(factors[n]))-sampled_unfolding,2) # cost update \n",
    "      # extrapolate\n",
    "      factors_hat[n]=factors[n]+beta*(factors[n]-factor_bf)\n",
    "\n",
    "    ################################\n",
    "    ######### error update #########\n",
    "    ################################\n",
    "    if(exact_err==False): \n",
    "      F_hat_new,ind_err= err_rand(tensor,None,factors_hat,400,ind_err) \n",
    "    else :\n",
    "      F_hat_new = err(tensor,None,factors_hat) # exact cost update \n",
    "      \n",
    "    if (F_hat_new>F_hat_bf):\n",
    "      factors_hat=factors\n",
    "      beta_bar=beta\n",
    "      beta=beta/eta\n",
    "      cpt=cpt+1\n",
    "    else :\n",
    "      factors=factors_hat\n",
    "      beta_bar=min(1,beta_bar*gamma_bar)\n",
    "      beta=min(beta_bar,gamma*beta)\n",
    "    F_hat_bf=F_hat_new\n",
    "    it=it+1\n",
    "    if list_factors==True : list_fac.append(factors)\n",
    "    error.append(F_hat_bf/norm_tensor)\n",
    "    if(error[len(error)-1]<min_err) : min_err=error[len(error)-1] # err update\n",
    "    else : err_it=err_it+1\n",
    "    if time_rec==True : \n",
    "      toc=time.time()\n",
    "      list_time.append(toc-tic)\n",
    "  weights,factors=tl.cp_normalize((None,factors))\n",
    "  if list_factors==True and time_rec==True: return(weights,factors,it,error,cpt/it,list_fac,list_time)\n",
    "  if list_factors==True : return(weights,factors,it,error,cpt/it,list_fac)\n",
    "  if time_rec==True : return(weights,factors,it,error,cpt/it,list_time)\n",
    "  return(weights,factors,it,error,cpt/it)"
   ]
  },
  {
   "cell_type": "markdown",
   "metadata": {
    "id": "gvYVQ5Cu5yxr"
   },
   "source": [
    "##### Test "
   ]
  },
  {
   "cell_type": "markdown",
   "metadata": {
    "id": "BHK2DC2QB59N"
   },
   "source": [
    "###### Test sample_kahtri_rao"
   ]
  },
  {
   "cell_type": "code",
   "execution_count": null,
   "metadata": {
    "id": "NatVZHsHh2ps"
   },
   "outputs": [],
   "source": [
    "# test sample_kahtri_rao\n",
    "Zs,indices=tl.decomposition.sample_khatri_rao(factors,2,skip_matrix=1)"
   ]
  },
  {
   "cell_type": "code",
   "execution_count": null,
   "metadata": {
    "id": "fDJFocRxsyfS"
   },
   "outputs": [],
   "source": [
    "t_krus[...,0]"
   ]
  },
  {
   "cell_type": "code",
   "execution_count": null,
   "metadata": {
    "id": "Z2kFEzh0s2fx"
   },
   "outputs": [],
   "source": [
    "t_krus[...,1]"
   ]
  },
  {
   "cell_type": "code",
   "execution_count": null,
   "metadata": {
    "id": "n8Hsmjtsr1pj"
   },
   "outputs": [],
   "source": [
    "factors"
   ]
  },
  {
   "cell_type": "code",
   "execution_count": null,
   "metadata": {
    "id": "GzW_nRyot94o"
   },
   "outputs": [],
   "source": [
    "tl.tenalg.khatri_rao(factors,skip_matrix=0)"
   ]
  },
  {
   "cell_type": "code",
   "execution_count": null,
   "metadata": {
    "id": "UMrJo_ORrvIH"
   },
   "outputs": [],
   "source": [
    "Zs # line 5 and 3"
   ]
  },
  {
   "cell_type": "code",
   "execution_count": null,
   "metadata": {
    "id": "hjFGFtEhppZd"
   },
   "outputs": [],
   "source": [
    "indices"
   ]
  },
  {
   "cell_type": "code",
   "execution_count": null,
   "metadata": {
    "id": "hzWlRXXek4Wm"
   },
   "outputs": [],
   "source": [
    "indices_list = [i.tolist() for i in indices]"
   ]
  },
  {
   "cell_type": "code",
   "execution_count": null,
   "metadata": {
    "id": "gW9lCd7-qDG-"
   },
   "outputs": [],
   "source": [
    "indices_list.insert(0, slice(None, None, None))"
   ]
  },
  {
   "cell_type": "code",
   "execution_count": null,
   "metadata": {
    "id": "IUbs8C8_nEOc"
   },
   "outputs": [],
   "source": [
    "indices_list"
   ]
  },
  {
   "cell_type": "code",
   "execution_count": null,
   "metadata": {
    "id": "E-GDO7_mnZhc"
   },
   "outputs": [],
   "source": [
    "indices_list = tuple(indices_list)"
   ]
  },
  {
   "cell_type": "code",
   "execution_count": null,
   "metadata": {
    "id": "uDN2tU3RnJl1"
   },
   "outputs": [],
   "source": [
    "sampled_unfolding = t_krus[indices_list]"
   ]
  },
  {
   "cell_type": "code",
   "execution_count": null,
   "metadata": {
    "id": "9CwZZQ8QoGii"
   },
   "outputs": [],
   "source": [
    "sampled_unfolding"
   ]
  },
  {
   "cell_type": "code",
   "execution_count": null,
   "metadata": {
    "id": "R1hbrmhlnomF"
   },
   "outputs": [],
   "source": [
    "sampled_unfolding = tl.transpose(t_krus[indices_list])"
   ]
  },
  {
   "cell_type": "code",
   "execution_count": null,
   "metadata": {
    "id": "LxjkNNhk7k1I"
   },
   "outputs": [],
   "source": [
    "tl.solve(tl.dot(tl.transpose(Zs),Zs),tl.dot(tl.transpose(Zs),sampled_unfolding))"
   ]
  },
  {
   "cell_type": "markdown",
   "metadata": {
    "id": "o04TDjYWCGGZ"
   },
   "source": [
    "###### Test her_CPRAND"
   ]
  },
  {
   "cell_type": "code",
   "execution_count": null,
   "metadata": {
    "id": "rvMUTzYIJomx"
   },
   "outputs": [],
   "source": [
    "# with a cp_tensor (order=3)\n",
    "rank=3\n",
    "n_samples=int(10*rank*np.log(rank)+1) # pour qu'il soit bien conditionne ?\n",
    "weights,factors,it,error,cpt=her_CPRAND(t_krus,rank,n_samples,False) \n",
    "it "
   ]
  },
  {
   "cell_type": "code",
   "execution_count": null,
   "metadata": {
    "id": "OeyS3o3L0m8u"
   },
   "outputs": [],
   "source": [
    "cpt"
   ]
  },
  {
   "cell_type": "code",
   "execution_count": null,
   "metadata": {
    "id": "eIOd-IWJ0deh"
   },
   "outputs": [],
   "source": [
    "min(error) "
   ]
  },
  {
   "cell_type": "code",
   "execution_count": null,
   "metadata": {
    "id": "nkCllCucTjpy"
   },
   "outputs": [],
   "source": [
    "tl.cp_to_tensor((weights,factors))"
   ]
  },
  {
   "cell_type": "code",
   "execution_count": null,
   "metadata": {
    "id": "P8poiPnsT0O0"
   },
   "outputs": [],
   "source": [
    "t_krus"
   ]
  },
  {
   "cell_type": "code",
   "execution_count": null,
   "metadata": {
    "id": "Ups_Ngcq-9u0"
   },
   "outputs": [],
   "source": [
    "# with a random tensor, order = 4\n",
    "t_rand = np.random.random((3, 2, 2, 4))\n",
    "t_rand"
   ]
  },
  {
   "cell_type": "code",
   "execution_count": null,
   "metadata": {
    "id": "o_Br200v_WIX"
   },
   "outputs": [],
   "source": [
    "# here rank=3\n",
    "weights,factors,it,error,cpt=her_CPRAND(t_rand,rank,n_samples) \n",
    "it"
   ]
  },
  {
   "cell_type": "code",
   "execution_count": null,
   "metadata": {
    "id": "N76_s_5W04fD"
   },
   "outputs": [],
   "source": [
    "cpt"
   ]
  },
  {
   "cell_type": "code",
   "execution_count": null,
   "metadata": {
    "id": "V5fOov6p0y1r"
   },
   "outputs": [],
   "source": [
    "min(error)"
   ]
  },
  {
   "cell_type": "code",
   "execution_count": null,
   "metadata": {
    "id": "9C6_R2kwCdAj"
   },
   "outputs": [],
   "source": [
    "tl.cp_to_tensor((weights,factors))"
   ]
  },
  {
   "cell_type": "code",
   "execution_count": null,
   "metadata": {
    "id": "11E-JxXaDM1t"
   },
   "outputs": [],
   "source": [
    "# here rank = 100\n",
    "rank=100\n",
    "n_samples=int(10*rank*np.log(rank)+1)\n",
    "weights,factors,it,error,cpt=her_CPRAND(t_rand,rank,n_samples) \n",
    "it"
   ]
  },
  {
   "cell_type": "code",
   "execution_count": null,
   "metadata": {
    "id": "REABOHNz1Axv"
   },
   "outputs": [],
   "source": [
    "cpt"
   ]
  },
  {
   "cell_type": "code",
   "execution_count": null,
   "metadata": {
    "id": "JnJ1_pmSDVxp"
   },
   "outputs": [],
   "source": [
    "tl.cp_to_tensor((weights,factors))"
   ]
  },
  {
   "cell_type": "code",
   "execution_count": null,
   "metadata": {
    "id": "Yi892bJdbfXB"
   },
   "outputs": [],
   "source": [
    "# here rank=100, n_samples=40\n",
    "weights,factors,it,error,cpt=her_CPRAND(t_rand,100,40) "
   ]
  },
  {
   "cell_type": "markdown",
   "metadata": {
    "id": "xVDfOeSaOmaT"
   },
   "source": [
    "#### Research of optimal parameters"
   ]
  },
  {
   "cell_type": "markdown",
   "metadata": {
    "id": "5oDkTVSxY0IT"
   },
   "source": [
    "cf P12, 14-15, long article of her.  \n",
    "y-axis : data fitting error $f-f_{min}$ with exact error calculation (or factors error)  \n",
    "x-axis : nb iteration"
   ]
  },
  {
   "cell_type": "code",
   "execution_count": 19,
   "metadata": {
    "id": "xuRJdfi-PbDg"
   },
   "outputs": [],
   "source": [
    "I=50\n",
    "J=50\n",
    "K=50\n",
    "r=10 # rank\n",
    "n_samples=int(10*r*np.log(r)+1) # nb of randomized samples\n",
    "nb_rand=10 # nb of random initialization"
   ]
  },
  {
   "cell_type": "code",
   "execution_count": null,
   "metadata": {
    "id": "z-xQrhG0PlcU"
   },
   "outputs": [],
   "source": [
    "def param_research(I,J,K,r,nb_rand,n_samples,exact_err=True,beta=True,eta=False,gamma=False):\n",
    "  list_err1=[]\n",
    "  list_err2=[]\n",
    "  list_err3=[]\n",
    "  min_e=None\n",
    "  for i in range(nb_rand) : \n",
    "    # Random initialization of a noised cp_tensor\n",
    "    A=np.random.normal(0, 1, size=(I, r))\n",
    "    B=np.random.normal(0, 1, size=(J, r))\n",
    "    C=np.random.normal(0, 1, size=(K, r))\n",
    "    noise=np.random.normal(0, 0.001, size=(I,J,K))\n",
    "    tensor=tl.cp_to_tensor((None,[A,B,C]))+noise\n",
    "    norm_tensor=tl.norm(tensor,2)\n",
    "    if(min_e==None) : min_e=norm_tensor\n",
    "    # parameter choice\n",
    "    if(beta==True):\n",
    "      weights1,factors1,it1,error1,cpt1=her_CPRAND(tensor,r,n_samples,it_max=500,exact_err=exact_err,err_it_max=200,beta=0.1) # beta0=0.1\n",
    "      weights2,factors2,it2,error2,cpt2=her_CPRAND(tensor,r,n_samples,it_max=500,exact_err=exact_err,err_it_max=200,beta=0.3) # beta0=0.3\n",
    "      weights3,factors3,it3,error3,cpt3=her_CPRAND(tensor,r,n_samples,it_max=500,exact_err=exact_err,err_it_max=200,beta=0.5) # beta0=0.5\n",
    "    if(eta==True):\n",
    "      weights1,factors1,it1,error1,cpt1=her_CPRAND(tensor,r,n_samples,it_max=500,exact_err=exact_err,err_it_max=200,eta=1.1) # eta=1.1\n",
    "      weights2,factors2,it2,error2,cpt2=her_CPRAND(tensor,r,n_samples,it_max=500,exact_err=exact_err,err_it_max=200,eta=2) # eta=2\n",
    "      weights3,factors3,it3,error3,cpt3=her_CPRAND(tensor,r,n_samples,it_max=500,exact_err=exact_err,err_it_max=200,eta=3) # eta=3\n",
    "    if(gamma==True):\n",
    "      weights1,factors1,it1,error1,cpt1=her_CPRAND(tensor,r,n_samples,it_max=200,exact_err=exact_err,err_it_max=100,gamma=1.01,gamma_bar=1.005) \n",
    "      weights2,factors2,it2,error2,cpt2=her_CPRAND(tensor,r,n_samples,it_max=200,exact_err=exact_err,err_it_max=100,gamma=1.05,gamma_bar=1.01) \n",
    "      weights3,factors3,it3,error3,cpt3=her_CPRAND(tensor,r,n_samples,it_max=200,exact_err=exact_err,err_it_max=100,gamma=1.9,gamma_bar=1.5) \n",
    "    error1=[i * norm_tensor for i in error1]\n",
    "    list_err1.append(error1)\n",
    "    error2=[i * norm_tensor for i in error2]\n",
    "    list_err2.append(error2)\n",
    "    error3=[i * norm_tensor for i in error3]\n",
    "    list_err3.append(error3)\n",
    "    if (min_e>min(min(error1),min(error2),min(error3))) : min_e=min(min(error1),min(error2),min(error3))\n",
    "  list_err1=[x-min_e for x in list_err1]\n",
    "  list_err2=[x-min_e for x in list_err2]\n",
    "  list_err3=[x-min_e for x in list_err3]\n",
    "  # plot\n",
    "  for i in range(len(list_err1)):\n",
    "    plt.plot(range(len(list_err1[i])),list_err1[i],'b-') \n",
    "  for i in range(len(list_err2)):\n",
    "    plt.plot(range(len(list_err2[i])),list_err2[i],'r-') \n",
    "  for i in range(len(list_err3)):\n",
    "    plt.plot(range(len(list_err3[i])),list_err3[i],'g-')\n",
    "  plt.yscale(\"log\") "
   ]
  },
  {
   "cell_type": "code",
   "execution_count": null,
   "metadata": {
    "id": "3BkbNxLyWJkM"
   },
   "outputs": [],
   "source": [
    "# with exact_error\n",
    "param_research(I,J,K,r,nb_rand,n_samples,beta=True,exact_err=True)"
   ]
  },
  {
   "cell_type": "code",
   "execution_count": null,
   "metadata": {
    "id": "EA4WJJDjpcG9"
   },
   "outputs": [],
   "source": [
    "param_research(I,J,K,r,nb_rand,n_samples,beta=False,eta=True)"
   ]
  },
  {
   "cell_type": "code",
   "execution_count": null,
   "metadata": {
    "id": "HpiZIMykX9SR"
   },
   "outputs": [],
   "source": [
    "param_research(I,J,K,r,nb_rand,n_samples,beta=False,gamma=True)"
   ]
  },
  {
   "cell_type": "markdown",
   "metadata": {
    "id": "xu8s3QF3RL4a"
   },
   "source": [
    "# Comparaison of algorithms"
   ]
  },
  {
   "cell_type": "code",
   "execution_count": 235,
   "metadata": {
    "id": "BERaQbhovLRR"
   },
   "outputs": [],
   "source": [
    "def sv_scale_to_100(A):\n",
    "  u,d,v=np.linalg.svd(A,full_matrices=False)\n",
    "  scale=99/(d[0]-d[len(d)-1])\n",
    "  for i in range(len(d)) : d[i]=(d[i]-d[len(d)-1])*scale+1\n",
    "  d[len(d)-1]=1\n",
    "  return (u@np.diag(d)@v)"
   ]
  },
  {
   "cell_type": "code",
   "execution_count": 244,
   "metadata": {
    "id": "sVw-MvfXfAG1"
   },
   "outputs": [],
   "source": [
    "def init_factors(I,J,K,r,scale=False) :\n",
    "  A=np.random.normal(0, 1, size=(I, r))\n",
    "  B=np.random.normal(0, 1, size=(J, r))\n",
    "  C=np.random.normal(0, 1, size=(K, r))\n",
    "  noise=np.random.normal(0, 0.001, size=(I,J,K))\n",
    "  if (scale==True) :  \n",
    "    A=sv_scale_to_100(A)\n",
    "    B=sv_scale_to_100(B)\n",
    "    C=sv_scale_to_100(C)\n",
    "  return (A,B,C,noise)"
   ]
  },
  {
   "cell_type": "markdown",
   "metadata": {
    "id": "-47Hx4CP22mG"
   },
   "source": [
    "#### Iterations"
   ]
  },
  {
   "cell_type": "markdown",
   "metadata": {
    "id": "GQVMqkTbWgJx"
   },
   "source": [
    "##### her_Als and als for 1 tensor"
   ]
  },
  {
   "cell_type": "code",
   "execution_count": 248,
   "metadata": {
    "id": "j5S_XZ_cVFxA"
   },
   "outputs": [],
   "source": [
    "# initialization of a random tensor with noise\n",
    "A,B,C,noise=init_factors(I*2,J*2,K*2,r)\n",
    "t=tl.cp_to_tensor((None,[A,B,C]))+noise"
   ]
  },
  {
   "cell_type": "code",
   "execution_count": 249,
   "metadata": {
    "colab": {
     "base_uri": "https://localhost:8080/",
     "height": 279
    },
    "id": "pjwiBHtMNxCL",
    "outputId": "8afca321-f716-465a-8cdd-cbe005956cb6"
   },
   "outputs": [
    {
     "data": {
      "image/png": "[encoded data removed]",
      "text/plain": [
       "<Figure size 432x288 with 1 Axes>"
      ]
     },
     "metadata": {
      "needs_background": "light",
      "tags": []
     },
     "output_type": "display_data"
    }
   ],
   "source": [
    "# her als\n",
    "weights1,factors1,it1,error1,cpt=her_Als(t,r,it_max=100,err_it_max=20) \n",
    "# als\n",
    "weights2,factors2,it2,error2=als(t,r,it_max=100)\n",
    "\n",
    "# plot\n",
    "plt.plot(range(len(error1)),error1,'b-',label=\"her_als\")\n",
    "plt.plot(range(len(error2)),error2,'r-',label=\"als\") \n",
    "plt.xlabel('it')\n",
    "plt.ylabel('data fitting error')\n",
    "plt.legend(loc='best')\n",
    "plt.yscale(\"log\") "
   ]
  },
  {
   "cell_type": "code",
   "execution_count": null,
   "metadata": {
    "id": "nC2SV39EQqve"
   },
   "outputs": [],
   "source": [
    "print(\"it her als\",it1,\"it als\",it2)"
   ]
  },
  {
   "cell_type": "code",
   "execution_count": 242,
   "metadata": {
    "colab": {
     "base_uri": "https://localhost:8080/"
    },
    "id": "aNzol5ceV19P",
    "outputId": "7ee1ba67-525e-42ec-a98a-4d7e2de3114b"
   },
   "outputs": [
    {
     "data": {
      "text/plain": [
       "0.14"
      ]
     },
     "execution_count": 242,
     "metadata": {
      "tags": []
     },
     "output_type": "execute_result"
    }
   ],
   "source": [
    "cpt"
   ]
  },
  {
   "cell_type": "code",
   "execution_count": null,
   "metadata": {
    "id": "3xp12JtSVBqE"
   },
   "outputs": [],
   "source": [
    "min(error1)"
   ]
  },
  {
   "cell_type": "markdown",
   "metadata": {
    "id": "lvMaZ1hBkdG_"
   },
   "source": [
    "##### CPRAND and als for 1 tensor"
   ]
  },
  {
   "cell_type": "code",
   "execution_count": 40,
   "metadata": {
    "colab": {
     "base_uri": "https://localhost:8080/",
     "height": 279
    },
    "id": "bmNIjZAONvHW",
    "outputId": "d99533a8-d821-4ef6-84f0-df133599a551"
   },
   "outputs": [
    {
     "data": {
      "image/png": "[encoded data removed]",
      "text/plain": [
       "<Figure size 432x288 with 1 Axes>"
      ]
     },
     "metadata": {
      "needs_background": "light",
      "tags": []
     },
     "output_type": "display_data"
    }
   ],
   "source": [
    "# CPRAND version1\n",
    "weights1,factors1,it1,error1=CPRAND(t,r,int(10*r*np.log(r)+1),exact_err=True,it_max=100,err_it_max=20) \n",
    "# als\n",
    "weights2,factors2,it2,error2=als(t,r,it_max=100)\n",
    "\n",
    "# plot\n",
    "plt.plot(range(len(error1)),error1,'b-',label=\"CPRAND version1\")\n",
    "plt.plot(range(len(error2)),error2,'r-',label=\"als\") \n",
    "plt.xlabel('it')\n",
    "plt.ylabel('data fitting error')\n",
    "plt.legend(loc='best')\n",
    "plt.yscale(\"log\")"
   ]
  },
  {
   "cell_type": "code",
   "execution_count": 29,
   "metadata": {
    "colab": {
     "base_uri": "https://localhost:8080/",
     "height": 279
    },
    "id": "qphkRAilkihi",
    "outputId": "0aa70ca6-fa4d-490d-efbf-e61159e5308c"
   },
   "outputs": [
    {
     "data": {
      "image/png": "[encoded data removed]",
      "text/plain": [
       "<Figure size 432x288 with 1 Axes>"
      ]
     },
     "metadata": {
      "needs_background": "light",
      "tags": []
     },
     "output_type": "display_data"
    }
   ],
   "source": [
    "# CPRAND version2\n",
    "weights1,factors1,it1,error1=CPRAND(t,r,int(10*r*np.log(r)+1),exact_err=True,it_max=100,err_it_max=20) \n",
    "# als\n",
    "weights2,factors2,it2,error2=als(t,r,it_max=100)\n",
    "\n",
    "# plot\n",
    "plt.plot(range(len(error1)),error1,'b-',label=\"CPRAND version2\")\n",
    "plt.plot(range(len(error2)),error2,'r-',label=\"als\") \n",
    "plt.xlabel('it')\n",
    "plt.ylabel('data fitting error')\n",
    "plt.legend(loc='best')\n",
    "plt.yscale(\"log\")"
   ]
  },
  {
   "cell_type": "markdown",
   "metadata": {
    "id": "aBg5QMPuYQwr"
   },
   "source": [
    "##### her-CPRAND and als for 1 tensor"
   ]
  },
  {
   "cell_type": "code",
   "execution_count": 36,
   "metadata": {
    "colab": {
     "base_uri": "https://localhost:8080/",
     "height": 282
    },
    "id": "_G954s5JYPOJ",
    "outputId": "4cca6872-66d4-44c0-d985-67f68d283cb5"
   },
   "outputs": [
    {
     "data": {
      "image/png": "[encoded data removed]",
      "text/plain": [
       "<Figure size 432x288 with 1 Axes>"
      ]
     },
     "metadata": {
      "needs_background": "light",
      "tags": []
     },
     "output_type": "display_data"
    }
   ],
   "source": [
    "# her CPRAND version1\n",
    "weights1,factors1,it1,error1,pct=her_CPRAND(t,r,int(10*r*np.log(r)+1),False,it_max=100,err_it_max=20) \n",
    "# als\n",
    "weights2,factors2,it2,error2=als(t,r,it_max=100)\n",
    "\n",
    "# plot\n",
    "plt.plot(range(len(error1)),error1,'b-',label=\"herCPRAND version1\")\n",
    "plt.plot(range(len(error2)),error2,'r-',label=\"als\")\n",
    "plt.xlabel('it')\n",
    "plt.ylabel('data fitting error')\n",
    "plt.legend(loc='best') \n",
    "plt.yscale(\"log\")"
   ]
  },
  {
   "cell_type": "code",
   "execution_count": 38,
   "metadata": {
    "colab": {
     "base_uri": "https://localhost:8080/",
     "height": 279
    },
    "id": "Wv3Bx-8VOiUm",
    "outputId": "c0329c6f-3788-4322-8731-a98e769ab7d8"
   },
   "outputs": [
    {
     "data": {
      "image/png": "[encoded data removed]",
      "text/plain": [
       "<Figure size 432x288 with 1 Axes>"
      ]
     },
     "metadata": {
      "needs_background": "light",
      "tags": []
     },
     "output_type": "display_data"
    }
   ],
   "source": [
    "# her CPRAND version2\n",
    "weights1,factors1,it1,error1,pct=her_CPRAND(t,r,int(10*r*np.log(r)+1),False,it_max=100,err_it_max=20) \n",
    "# als\n",
    "weights2,factors2,it2,error2=als(t,r,it_max=100)\n",
    "\n",
    "# plot\n",
    "plt.plot(range(len(error1)),error1,'b-',label=\"herCPRAND version2\")\n",
    "plt.plot(range(len(error2)),error2,'r-',label=\"als\")\n",
    "plt.xlabel('it')\n",
    "plt.ylabel('data fitting error')\n",
    "plt.legend(loc='best') \n",
    "plt.yscale(\"log\")"
   ]
  },
  {
   "cell_type": "markdown",
   "metadata": {
    "id": "NAyPxi6uVvbz"
   },
   "source": [
    "##### 3 algorithms for 10 random initializations"
   ]
  },
  {
   "cell_type": "code",
   "execution_count": 268,
   "metadata": {
    "id": "PCpEYmYKR45v"
   },
   "outputs": [],
   "source": [
    "# plot the median of data fitting/factors error over nb_rand initializations\n",
    "def comparaison(I,J,K,r,nb_rand,n_samples,exact_err=True,list_factors=False,scale=False):\n",
    "  list_err1=[]\n",
    "  list_err2=[]\n",
    "  min_e=None\n",
    "  for i in range(nb_rand) : \n",
    "    # Random initialization of a noised cp_tensor\n",
    "    np.random.seed(i)\n",
    "    A,B,C,noise=init_factors(I,J,K,r,scale)\n",
    "    fac_true=[A,B,C]\n",
    "    t=tl.cp_to_tensor((None,fac_true))+noise\n",
    "    norm_tensor=tl.norm(t,2)\n",
    "    if(min_e==None) : min_e=norm_tensor\n",
    "    if list_factors ==False : \n",
    "      #weights1,factors1,it1,error1,cpt=her_CPRAND(t,r,n_samples,exact_err=exact_err,it_max=500,err_it_max=200) \n",
    "      weights1,factors1,it1,error1,cpt=her_Als(t,r,it_max=500,err_it_max=100) \n",
    "      #weights1,factors1,it1,error1=CPRAND(t,r,n_samples,exact_err=exact_err,it_max=500,err_it_max=200) \n",
    "      weights2,factors2,it2,error2=als(t,r,it_max=500) \n",
    "      error1=[i * norm_tensor for i in error1]\n",
    "      error2=[i * norm_tensor for i in error2]\n",
    "    else : \n",
    "      #weights1,factors1,it1,error,cpt,l1=her_CPRAND(t,r,n_samples,exact_err=exact_err,it_max=500,err_it_max=200,list_factors=list_factors) \n",
    "      weights1,factors1,it1,error,cpt,l1=her_Als(t,r,it_max=500,err_it_max=100,list_factors=list_factors) \n",
    "      #weights1,factors1,it1,error,l1=CPRAND(t,r,n_samples,exact_err=exact_err,it_max=500,err_it_max=200,list_factors=list_factors) \n",
    "      weights2,factors2,it2,error,l2=als(t,r,it_max=500,list_factors=list_factors) \n",
    "      error1=[err_fac(fac_true,i) for i in l1]\n",
    "      error2=[err_fac(fac_true,i) for i in l2]\n",
    "    if (min_e>min(min(error1),min(error2))) : min_e=min(min(error1),min(error2))\n",
    "    list_err1.append(error1)\n",
    "    list_err2.append(error2)\n",
    "  n_max1=len(max(list_err1, key=len)) # length of the longest error\n",
    "  n_max2=len(max(list_err2, key=len))\n",
    "  mat1=np.array([i + [i[len(i)-1]]*(n_max1-len(i)) for i in list_err1])\n",
    "  mat2=np.array([i + [i[len(i)-1]]*(n_max2-len(i)) for i in list_err2])\n",
    "  mat1=mat1-min_e\n",
    "  mat2=mat2-min_e\n",
    "  # plot\n",
    "\n",
    "  plt.plot(range(n_max1),np.median(mat1, axis=0),'b-',label=\"her als\") \n",
    "  plt.plot(range(n_max2),np.median(mat2, axis=0),'r-',label=\"als\") \n",
    "  plt.yscale(\"log\") \n",
    "  plt.xlabel('it')\n",
    "  plt.ylabel('datafitting error')\n",
    "  plt.legend(loc='best')"
   ]
  },
  {
   "cell_type": "markdown",
   "metadata": {
    "id": "iLady9bHjim4"
   },
   "source": [
    "##### her_Als and als median"
   ]
  },
  {
   "cell_type": "code",
   "execution_count": 44,
   "metadata": {
    "colab": {
     "base_uri": "https://localhost:8080/",
     "height": 279
    },
    "id": "xxiiMRVXEQxV",
    "outputId": "f16a4259-70fe-41ca-ae5b-60aa68ec3659"
   },
   "outputs": [
    {
     "data": {
      "image/png": "[encoded data removed]",
      "text/plain": [
       "<Figure size 432x288 with 1 Axes>"
      ]
     },
     "metadata": {
      "needs_background": "light",
      "tags": []
     },
     "output_type": "display_data"
    }
   ],
   "source": [
    "# error_fast==True\n",
    "comparaison(I,J,K,r,nb_rand,n_samples)\n",
    "# data-fitting median error : her_Als in blue and als in red"
   ]
  },
  {
   "cell_type": "code",
   "execution_count": 47,
   "metadata": {
    "colab": {
     "base_uri": "https://localhost:8080/",
     "height": 279
    },
    "id": "j_XS1FNYtM4g",
    "outputId": "89ede6c0-9e82-4582-c291-72ef32f0dc83"
   },
   "outputs": [
    {
     "data": {
      "image/png": "[encoded data removed]",
      "text/plain": [
       "<Figure size 432x288 with 1 Axes>"
      ]
     },
     "metadata": {
      "needs_background": "light",
      "tags": []
     },
     "output_type": "display_data"
    }
   ],
   "source": [
    "# factors error\n",
    "comparaison(I,J,K,r,nb_rand,n_samples,list_factors=True)"
   ]
  },
  {
   "cell_type": "markdown",
   "metadata": {
    "id": "tC3RdnCvjlys"
   },
   "source": [
    "##### CPRAND and als"
   ]
  },
  {
   "cell_type": "code",
   "execution_count": 52,
   "metadata": {
    "colab": {
     "base_uri": "https://localhost:8080/",
     "height": 279
    },
    "id": "5DDUVo5KqqZL",
    "outputId": "d1f7eea0-079b-4aae-911e-4ce428fb7239"
   },
   "outputs": [
    {
     "data": {
      "image/png": "[encoded data removed]",
      "text/plain": [
       "<Figure size 432x288 with 1 Axes>"
      ]
     },
     "metadata": {
      "needs_background": "light",
      "tags": []
     },
     "output_type": "display_data"
    }
   ],
   "source": [
    "# exact_err == False version 1 but n_samples = 200+\n",
    "comparaison(I,J,K,r,nb_rand,n_samples,exact_err=False)\n",
    "# data-fitting median error : CPRAND in blue and als in red"
   ]
  },
  {
   "cell_type": "code",
   "execution_count": 50,
   "metadata": {
    "colab": {
     "base_uri": "https://localhost:8080/",
     "height": 279
    },
    "id": "gB5mv_C1j-me",
    "outputId": "465e5e62-99c9-438f-aaa7-852a59d9be03"
   },
   "outputs": [
    {
     "data": {
      "image/png": "[encoded data removed]",
      "text/plain": [
       "<Figure size 432x288 with 1 Axes>"
      ]
     },
     "metadata": {
      "needs_background": "light",
      "tags": []
     },
     "output_type": "display_data"
    }
   ],
   "source": [
    "# factors error, exact_err == False version 1 but n_samples = 200+\n",
    "comparaison(I,J,K,r,nb_rand,n_samples,list_factors=True,exact_err=False)"
   ]
  },
  {
   "cell_type": "code",
   "execution_count": 54,
   "metadata": {
    "colab": {
     "base_uri": "https://localhost:8080/",
     "height": 279
    },
    "id": "qzbKWvNcsRRi",
    "outputId": "34559715-9050-42ec-b31c-5bfb6b060b5f"
   },
   "outputs": [
    {
     "data": {
      "image/png": "[encoded data removed]",
      "text/plain": [
       "<Figure size 432x288 with 1 Axes>"
      ]
     },
     "metadata": {
      "needs_background": "light",
      "tags": []
     },
     "output_type": "display_data"
    }
   ],
   "source": [
    "# exact_err == False version 1 but n_samples = 400+\n",
    "comparaison(I,J,K,r,nb_rand,n_samples*2,exact_err=False)\n",
    "# data-fitting median error : CPRAND in blue and als in red"
   ]
  },
  {
   "cell_type": "code",
   "execution_count": 56,
   "metadata": {
    "colab": {
     "base_uri": "https://localhost:8080/",
     "height": 279
    },
    "id": "b7uha9x1qXEe",
    "outputId": "2e9e7501-4203-4ce2-fdc9-653e89701bee"
   },
   "outputs": [
    {
     "data": {
      "image/png": "[encoded data removed]",
      "text/plain": [
       "<Figure size 432x288 with 1 Axes>"
      ]
     },
     "metadata": {
      "needs_background": "light",
      "tags": []
     },
     "output_type": "display_data"
    }
   ],
   "source": [
    "# factors error, exact_err == False version 1 but n_samples = 400+\n",
    "comparaison(I,J,K,r,nb_rand,n_samples*2,list_factors=True,exact_err=False)"
   ]
  },
  {
   "cell_type": "code",
   "execution_count": 61,
   "metadata": {
    "colab": {
     "base_uri": "https://localhost:8080/",
     "height": 279
    },
    "id": "KKembavoSdKT",
    "outputId": "c217eea8-b95c-4a0e-fb45-c4af4070b2d3"
   },
   "outputs": [
    {
     "data": {
      "image/png": "[encoded data removed]",
      "text/plain": [
       "<Figure size 432x288 with 1 Axes>"
      ]
     },
     "metadata": {
      "needs_background": "light",
      "tags": []
     },
     "output_type": "display_data"
    }
   ],
   "source": [
    "# exact_err == False version 2\n",
    "comparaison(I,J,K,r,nb_rand,n_samples,exact_err=False)\n",
    "# data-fitting median error : CPRAND in blue and als in red"
   ]
  },
  {
   "cell_type": "code",
   "execution_count": 59,
   "metadata": {
    "colab": {
     "base_uri": "https://localhost:8080/",
     "height": 279
    },
    "id": "OBiq6EyIu-TE",
    "outputId": "3ed01a67-4b9e-4fed-e9ca-5df9b3df50ff"
   },
   "outputs": [
    {
     "data": {
      "image/png": "[encoded data removed]",
      "text/plain": [
       "<Figure size 432x288 with 1 Axes>"
      ]
     },
     "metadata": {
      "needs_background": "light",
      "tags": []
     },
     "output_type": "display_data"
    }
   ],
   "source": [
    "# factors error version 2\n",
    "comparaison(I,J,K,r,nb_rand,n_samples,list_factors=True,exact_err=False)"
   ]
  },
  {
   "cell_type": "code",
   "execution_count": 63,
   "metadata": {
    "colab": {
     "base_uri": "https://localhost:8080/",
     "height": 279
    },
    "id": "ArZ7cefQ1j-9",
    "outputId": "91dd72b1-e44c-43e0-cbf9-63b6c9b230ce"
   },
   "outputs": [
    {
     "data": {
      "image/png": "[encoded data removed]",
      "text/plain": [
       "<Figure size 432x288 with 1 Axes>"
      ]
     },
     "metadata": {
      "needs_background": "light",
      "tags": []
     },
     "output_type": "display_data"
    }
   ],
   "source": [
    "# exact_err == True\n",
    "comparaison(I,J,K,r,nb_rand,n_samples,exact_err=True)\n",
    "# data-fitting median error : CPRAND in blue and als in red"
   ]
  },
  {
   "cell_type": "code",
   "execution_count": 65,
   "metadata": {
    "colab": {
     "base_uri": "https://localhost:8080/",
     "height": 285
    },
    "id": "naDn2HIX1t6-",
    "outputId": "a167d72c-7b85-4637-97c4-83dd139ae061"
   },
   "outputs": [
    {
     "data": {
      "image/png": "[encoded data removed]",
      "text/plain": [
       "<Figure size 432x288 with 1 Axes>"
      ]
     },
     "metadata": {
      "needs_background": "light",
      "tags": []
     },
     "output_type": "display_data"
    }
   ],
   "source": [
    "# factors error\n",
    "comparaison(I,J,K,r,nb_rand,n_samples,list_factors=True,exact_err=True)"
   ]
  },
  {
   "cell_type": "markdown",
   "metadata": {
    "id": "fZjy9fOHjpu2"
   },
   "source": [
    "##### her_CPRAND and als"
   ]
  },
  {
   "cell_type": "code",
   "execution_count": 69,
   "metadata": {
    "colab": {
     "base_uri": "https://localhost:8080/",
     "height": 279
    },
    "id": "qW90W5NtUJly",
    "outputId": "c8a7716b-6877-48c8-c42c-1833c16748c7"
   },
   "outputs": [
    {
     "data": {
      "image/png": "[encoded data removed]",
      "text/plain": [
       "<Figure size 432x288 with 1 Axes>"
      ]
     },
     "metadata": {
      "needs_background": "light",
      "tags": []
     },
     "output_type": "display_data"
    }
   ],
   "source": [
    "# exact_err=True\n",
    "comparaison(I,J,K,r,nb_rand,n_samples,True)\n",
    "# data-fitting median error : her_CPRAND in blue and als in red"
   ]
  },
  {
   "cell_type": "code",
   "execution_count": 67,
   "metadata": {
    "colab": {
     "base_uri": "https://localhost:8080/",
     "height": 279
    },
    "id": "jo14eAenv0-L",
    "outputId": "7ad70fd8-10ae-4a37-c122-04022271a0e9"
   },
   "outputs": [
    {
     "data": {
      "image/png": "[encoded data removed]",
      "text/plain": [
       "<Figure size 432x288 with 1 Axes>"
      ]
     },
     "metadata": {
      "needs_background": "light",
      "tags": []
     },
     "output_type": "display_data"
    }
   ],
   "source": [
    "# factors error\n",
    "comparaison(I,J,K,r,nb_rand,n_samples,True,list_factors=True)"
   ]
  },
  {
   "cell_type": "code",
   "execution_count": 72,
   "metadata": {
    "colab": {
     "base_uri": "https://localhost:8080/",
     "height": 279
    },
    "id": "dNupyqp-d32C",
    "outputId": "708d2e25-df8a-49a5-eaab-ce8542c11baa"
   },
   "outputs": [
    {
     "data": {
      "image/png": "[encoded data removed]",
      "text/plain": [
       "<Figure size 432x288 with 1 Axes>"
      ]
     },
     "metadata": {
      "needs_background": "light",
      "tags": []
     },
     "output_type": "display_data"
    }
   ],
   "source": [
    "# exact_err=False\n",
    "comparaison(I,J,K,r,nb_rand,n_samples,True)\n",
    "# data-fitting median error : her_CPRAND in blue and als in red"
   ]
  },
  {
   "cell_type": "code",
   "execution_count": 251,
   "metadata": {
    "colab": {
     "base_uri": "https://localhost:8080/",
     "height": 279
    },
    "id": "Z4A5i5Ved9OQ",
    "outputId": "2937a6f6-849f-4dc0-bf1d-e11ff9b466e0"
   },
   "outputs": [
    {
     "data": {
      "image/png": "[encoded data removed]",
      "text/plain": [
       "<Figure size 432x288 with 1 Axes>"
      ]
     },
     "metadata": {
      "needs_background": "light",
      "tags": []
     },
     "output_type": "display_data"
    }
   ],
   "source": [
    "# factors error\n",
    "comparaison(I,J,K,r,nb_rand,n_samples,False,list_factors=True)"
   ]
  },
  {
   "cell_type": "markdown",
   "metadata": {
    "id": "DUViDLWV3A1x"
   },
   "source": [
    "#### Time"
   ]
  },
  {
   "cell_type": "markdown",
   "metadata": {
    "id": "hTjjQvfL46b8"
   },
   "source": [
    "##### For 1 tensor"
   ]
  },
  {
   "cell_type": "code",
   "execution_count": 254,
   "metadata": {
    "id": "nIa33Ltn3Ds5"
   },
   "outputs": [],
   "source": [
    "# initialization of a random tensor with noise\n",
    "A,B,C,noise=init_factors(I,J,K,r)\n",
    "t=tl.cp_to_tensor((None,[A,B,C]))+noise"
   ]
  },
  {
   "cell_type": "code",
   "execution_count": 255,
   "metadata": {
    "colab": {
     "base_uri": "https://localhost:8080/",
     "height": 302
    },
    "id": "zY_0BaIL6KwQ",
    "outputId": "43eb51af-a11d-41e7-d306-fd096dcdccbb"
   },
   "outputs": [
    {
     "data": {
      "text/plain": [
       "<matplotlib.legend.Legend at 0x7f6072e20550>"
      ]
     },
     "execution_count": 255,
     "metadata": {
      "tags": []
     },
     "output_type": "execute_result"
    },
    {
     "data": {
      "image/png": "[encoded data removed]",
      "text/plain": [
       "<Figure size 432x288 with 1 Axes>"
      ]
     },
     "metadata": {
      "needs_background": "light",
      "tags": []
     },
     "output_type": "display_data"
    }
   ],
   "source": [
    "# her als\n",
    "weights1,factors1,it1,error1,cpt,time1=her_Als(t,r,it_max=100,err_it_max=20,time_rec=True) \n",
    "# als\n",
    "weights2,factors2,it2,error2,time2=als(t,r,it_max=100,time_rec=True)\n",
    "del error1[0]\n",
    "del error2[0]\n",
    "# plot\n",
    "plt.plot(np.cumsum(time1),error1,'b-',label=\"her als\")\n",
    "plt.plot(np.cumsum(time2),error2,'r-',label=\"als\") \n",
    "plt.yscale(\"log\") \n",
    "plt.xlabel('time')\n",
    "plt.ylabel('data fitting error')\n",
    "plt.legend(loc='best')"
   ]
  },
  {
   "cell_type": "code",
   "execution_count": 157,
   "metadata": {
    "colab": {
     "base_uri": "https://localhost:8080/"
    },
    "id": "7nXijZ6jeXGj",
    "outputId": "e3e235ee-f146-4cf8-fce0-01f1f026e81f"
   },
   "outputs": [
    {
     "data": {
      "text/plain": [
       "0.1"
      ]
     },
     "execution_count": 157,
     "metadata": {
      "tags": []
     },
     "output_type": "execute_result"
    }
   ],
   "source": [
    "cpt"
   ]
  },
  {
   "cell_type": "code",
   "execution_count": 79,
   "metadata": {
    "colab": {
     "base_uri": "https://localhost:8080/",
     "height": 299
    },
    "id": "vKqpWuMq5Aa1",
    "outputId": "aa0c90bb-d223-47d4-b908-93d41f421507"
   },
   "outputs": [
    {
     "data": {
      "text/plain": [
       "<matplotlib.legend.Legend at 0x7f607c0666a0>"
      ]
     },
     "execution_count": 79,
     "metadata": {
      "tags": []
     },
     "output_type": "execute_result"
    },
    {
     "data": {
      "image/png": "[encoded data removed]",
      "text/plain": [
       "<Figure size 432x288 with 1 Axes>"
      ]
     },
     "metadata": {
      "needs_background": "light",
      "tags": []
     },
     "output_type": "display_data"
    }
   ],
   "source": [
    "# CPRAND version 2\n",
    "weights1,factors1,it1,error1,time1=CPRAND(t,r,n_samples=int(10*r*np.log(r)+1),it_max=100,err_it_max=20,time_rec=True) \n",
    "# als\n",
    "weights2,factors2,it2,error2,time2=als(t,r,it_max=100,time_rec=True)\n",
    "del error1[0]\n",
    "del error2[0]\n",
    "# plot\n",
    "plt.plot(np.cumsum(time1),error1,'b-',label=\"CPRAND version 2\")\n",
    "plt.plot(np.cumsum(time2),error2,'r-',label=\"als\") \n",
    "plt.yscale(\"log\") \n",
    "plt.xlabel('time')\n",
    "plt.ylabel('data fitting error')\n",
    "plt.legend(loc='best')"
   ]
  },
  {
   "cell_type": "code",
   "execution_count": 81,
   "metadata": {
    "colab": {
     "base_uri": "https://localhost:8080/",
     "height": 302
    },
    "id": "jkKISYTz7Cdk",
    "outputId": "60ace8ad-72d0-4c20-f53b-dd3703fb2b4d"
   },
   "outputs": [
    {
     "data": {
      "text/plain": [
       "<matplotlib.legend.Legend at 0x7f607c1628d0>"
      ]
     },
     "execution_count": 81,
     "metadata": {
      "tags": []
     },
     "output_type": "execute_result"
    },
    {
     "data": {
      "image/png": "[encoded data removed]",
      "text/plain": [
       "<Figure size 432x288 with 1 Axes>"
      ]
     },
     "metadata": {
      "needs_background": "light",
      "tags": []
     },
     "output_type": "display_data"
    }
   ],
   "source": [
    "# CPRAND version 1\n",
    "weights1,factors1,it1,error1,time1=CPRAND(t,r,n_samples=int(10*r*np.log(r)+1),it_max=100,err_it_max=20,time_rec=True) \n",
    "# als\n",
    "weights2,factors2,it2,error2,time2=als(t,r,it_max=100,time_rec=True)\n",
    "del error1[0]\n",
    "del error2[0]\n",
    "# plot\n",
    "plt.plot(np.cumsum(time1),error1,'b-',label=\"CPRAND version 1\")\n",
    "plt.plot(np.cumsum(time2),error2,'r-',label=\"als\") \n",
    "plt.yscale(\"log\") \n",
    "plt.xlabel('time')\n",
    "plt.ylabel('data fitting error')\n",
    "plt.legend(loc='best')"
   ]
  },
  {
   "cell_type": "code",
   "execution_count": 160,
   "metadata": {
    "colab": {
     "base_uri": "https://localhost:8080/",
     "height": 296
    },
    "id": "kMlKabfvUR2c",
    "outputId": "2edc8002-0ff6-4517-9aae-4d1f6db4dc46"
   },
   "outputs": [
    {
     "data": {
      "text/plain": [
       "<matplotlib.legend.Legend at 0x7f6073347b00>"
      ]
     },
     "execution_count": 160,
     "metadata": {
      "tags": []
     },
     "output_type": "execute_result"
    },
    {
     "data": {
      "image/png": "[encoded data removed]",
      "text/plain": [
       "<Figure size 432x288 with 1 Axes>"
      ]
     },
     "metadata": {
      "needs_background": "light",
      "tags": []
     },
     "output_type": "display_data"
    }
   ],
   "source": [
    "# her CPRAND version 2\n",
    "weights1,factors1,it1,error1,pct,time1=her_CPRAND(t,r,int(10*r*np.log(r)+1),False,it_max=100,err_it_max=20,time_rec=True) \n",
    "# als\n",
    "weights2,factors2,it2,error2,time2=als(t,r,it_max=100,time_rec=True)\n",
    "del error1[0]\n",
    "del error2[0]\n",
    "# plot\n",
    "plt.plot(np.cumsum(time1),error1,'b-',label=\"her CPRAND version 2\")\n",
    "plt.plot(np.cumsum(time2),error2,'r-',label=\"als\") \n",
    "plt.yscale(\"log\") \n",
    "plt.xlabel('time')\n",
    "plt.ylabel('data fitting error')\n",
    "plt.legend(loc='best')"
   ]
  },
  {
   "cell_type": "code",
   "execution_count": 161,
   "metadata": {
    "colab": {
     "base_uri": "https://localhost:8080/"
    },
    "id": "H_WWO9XYefKf",
    "outputId": "7fa0a16f-1bb8-4f10-dcc4-af2d9f218da5"
   },
   "outputs": [
    {
     "data": {
      "text/plain": [
       "0.32432432432432434"
      ]
     },
     "execution_count": 161,
     "metadata": {
      "tags": []
     },
     "output_type": "execute_result"
    }
   ],
   "source": [
    "pct"
   ]
  },
  {
   "cell_type": "code",
   "execution_count": 90,
   "metadata": {
    "colab": {
     "base_uri": "https://localhost:8080/",
     "height": 300
    },
    "id": "Q_RFNfszU5el",
    "outputId": "bdc85960-b60f-4a32-c34d-2a76965ed537"
   },
   "outputs": [
    {
     "data": {
      "text/plain": [
       "<matplotlib.legend.Legend at 0x7f6073a31cf8>"
      ]
     },
     "execution_count": 90,
     "metadata": {
      "tags": []
     },
     "output_type": "execute_result"
    },
    {
     "data": {
      "image/png": "[encoded data removed]",
      "text/plain": [
       "<Figure size 432x288 with 1 Axes>"
      ]
     },
     "metadata": {
      "needs_background": "light",
      "tags": []
     },
     "output_type": "display_data"
    }
   ],
   "source": [
    "# her CPRAND version 1\n",
    "weights1,factors1,it1,error1,pct,time1=her_CPRAND(t,r,int(10*r*np.log(r)+1),False,it_max=100,err_it_max=20,time_rec=True) \n",
    "# als\n",
    "weights2,factors2,it2,error2,time2=als(t,r,it_max=100,time_rec=True)\n",
    "del error1[0]\n",
    "del error2[0]\n",
    "# plot\n",
    "plt.plot(np.cumsum(time1),error1,'b-',label=\"her CPRAND version 1\")\n",
    "plt.plot(np.cumsum(time2),error2,'r-',label=\"als\") \n",
    "plt.yscale(\"log\") \n",
    "plt.xlabel('time')\n",
    "plt.ylabel('data fitting error')\n",
    "plt.legend(loc='best')"
   ]
  },
  {
   "cell_type": "markdown",
   "metadata": {
    "id": "_TDy_z6B8j7Y"
   },
   "source": [
    "##### 3 algorithms for 10 tensors"
   ]
  },
  {
   "cell_type": "code",
   "execution_count": 274,
   "metadata": {
    "id": "NMnerAF48rZg"
   },
   "outputs": [],
   "source": [
    "def compar_time(I,J,K,r,nb_rand,n_samples,exact_err=False,list_factors=False,scale=False):\n",
    "  list_err1=[]\n",
    "  list_time1=[]\n",
    "  list_err2=[]\n",
    "  list_time2=[]\n",
    "  min_e=None\n",
    "  for i in range(nb_rand) : \n",
    "    # Random initialization of a noised cp_tensor\n",
    "    np.random.seed(i)\n",
    "    A,B,C,noise=init_factors(I,J,K,r,scale)\n",
    "    fac_true=[A,B,C]\n",
    "    t=tl.cp_to_tensor((None,fac_true))+noise\n",
    "    norm_tensor=tl.norm(t,2)\n",
    "    if(min_e==None) : min_e=norm_tensor\n",
    "    if list_factors ==False : \n",
    "      #weights1,factors1,it1,error1,cpt,time1=her_CPRAND(t,r,n_samples,exact_err=exact_err,it_max=500,err_it_max=200,time_rec=True) \n",
    "      weights1,factors1,it1,error1,cpt,time1=her_Als(t,r,it_max=500,err_it_max=100,time_rec=True) \n",
    "      #weights1,factors1,it1,error1,time1=CPRAND(t,r,n_samples,exact_err=exact_err,it_max=500,err_it_max=200,time_rec=True) \n",
    "      weights2,factors2,it2,error2,time2=als(t,r,it_max=500,time_rec=True) \n",
    "      error1=[i * norm_tensor for i in error1]\n",
    "      del error1[0]\n",
    "      error2=[i * norm_tensor for i in error2]\n",
    "      del error2[0]\n",
    "    else : \n",
    "      #weights1,factors1,it1,error,cpt,l1,time1=her_CPRAND(t,r,n_samples,exact_err=exact_err,it_max=500,err_it_max=200,list_factors=list_factors,time_rec=True) \n",
    "      weights1,factors1,it1,error,cpt,l1,time1=her_Als(t,r,it_max=500,err_it_max=100,list_factors=list_factors,time_rec=True) \n",
    "      #weights1,factors1,it1,error,l1,time1=CPRAND(t,r,n_samples,exact_err=exact_err,it_max=500,err_it_max=200,list_factors=list_factors,time_rec=True) \n",
    "      weights2,factors2,it2,error,l2,time2=als(t,r,it_max=500,list_factors=list_factors,time_rec=True) \n",
    "      error1=[err_fac(fac_true,i) for i in l1]\n",
    "      del error1[0]\n",
    "      error2=[err_fac(fac_true,i) for i in l2]\n",
    "      del error2[0]\n",
    "    if (min_e>min(min(error1),min(error2))) : min_e=min(min(error1),min(error2))\n",
    "    list_err1.append(error1)\n",
    "    list_err2.append(error2)\n",
    "    list_time1.append(time1)\n",
    "    list_time2.append(time2)\n",
    "  n_max1=len(max(list_err1, key=len)) # length of the longest error\n",
    "  n_max2=len(max(list_err2, key=len))\n",
    "  mat1=np.array([i + [i[len(i)-1]]*(n_max1-len(i)) for i in list_err1])\n",
    "  mat2=np.array([i + [i[len(i)-1]]*(n_max2-len(i)) for i in list_err2])\n",
    "  mat1=mat1-min_e\n",
    "  mat2=mat2-min_e\n",
    "\n",
    "  t_max1=len(max(list_time1, key=len))\n",
    "  t_max2=len(max(list_time2, key=len))\n",
    "  mat_time1=np.array([i + [0]*(t_max1-len(i)) for i in list_time1])\n",
    "  mat_time2=np.array([i + [0]*(t_max2-len(i)) for i in list_time2])\n",
    "  # plot\n",
    "\n",
    "  plt.plot(np.cumsum(np.median(mat_time1, axis=0)),np.median(mat1, axis=0),'b-',label=\"her als\") \n",
    "  plt.plot(np.cumsum(np.median(mat_time2, axis=0)),np.median(mat2, axis=0),'r-',label=\"als\") \n",
    "  plt.yscale(\"log\") \n",
    "  plt.xlabel('time')\n",
    "  plt.ylabel('data fitting error')\n",
    "  plt.legend(loc='best')  \n",
    "\n"
   ]
  },
  {
   "cell_type": "markdown",
   "metadata": {
    "id": "gl-3XB7aZ2Uo"
   },
   "source": [
    "###### her als and als"
   ]
  },
  {
   "cell_type": "code",
   "execution_count": 128,
   "metadata": {
    "colab": {
     "base_uri": "https://localhost:8080/",
     "height": 279
    },
    "id": "32fqDt9X-k-o",
    "outputId": "3c22002f-a4e0-488a-dae7-4f0c434e12ed"
   },
   "outputs": [
    {
     "data": {
      "image/png": "[encoded data removed]",
      "text/plain": [
       "<Figure size 432x288 with 1 Axes>"
      ]
     },
     "metadata": {
      "needs_background": "light",
      "tags": []
     },
     "output_type": "display_data"
    }
   ],
   "source": [
    "# her als data fitting error \n",
    "compar_time(I,J,K,r,nb_rand,n_samples)"
   ]
  },
  {
   "cell_type": "code",
   "execution_count": 132,
   "metadata": {
    "colab": {
     "base_uri": "https://localhost:8080/",
     "height": 279
    },
    "id": "iLnvOTGvaIrY",
    "outputId": "dd996d7b-7227-43ab-e0e4-6b3174e5b753"
   },
   "outputs": [
    {
     "data": {
      "image/png": "[encoded data removed]",
      "text/plain": [
       "<Figure size 432x288 with 1 Axes>"
      ]
     },
     "metadata": {
      "needs_background": "light",
      "tags": []
     },
     "output_type": "display_data"
    }
   ],
   "source": [
    "# her als factors error \n",
    "compar_time(I,J,K,r,nb_rand,n_samples,list_factors=True)"
   ]
  },
  {
   "cell_type": "markdown",
   "metadata": {
    "id": "PtCCBMKSayfo"
   },
   "source": [
    "###### CPRAND and als"
   ]
  },
  {
   "cell_type": "code",
   "execution_count": 136,
   "metadata": {
    "colab": {
     "base_uri": "https://localhost:8080/",
     "height": 279
    },
    "id": "UM7RZd5aa2lb",
    "outputId": "648367b7-aba7-4625-dfa4-18d632a7e06d"
   },
   "outputs": [
    {
     "data": {
      "image/png": "[encoded data removed]",
      "text/plain": [
       "<Figure size 432x288 with 1 Axes>"
      ]
     },
     "metadata": {
      "needs_background": "light",
      "tags": []
     },
     "output_type": "display_data"
    }
   ],
   "source": [
    "# cprand version 2 data fitting error \n",
    "compar_time(I,J,K,r,nb_rand,n_samples)"
   ]
  },
  {
   "cell_type": "code",
   "execution_count": 134,
   "metadata": {
    "colab": {
     "base_uri": "https://localhost:8080/",
     "height": 279
    },
    "id": "G56v--lCa49S",
    "outputId": "320ca2bc-7c92-4c57-8a2d-6b3d009ff1eb"
   },
   "outputs": [
    {
     "data": {
      "image/png": "[encoded data removed]",
      "text/plain": [
       "<Figure size 432x288 with 1 Axes>"
      ]
     },
     "metadata": {
      "needs_background": "light",
      "tags": []
     },
     "output_type": "display_data"
    }
   ],
   "source": [
    "# cprand version 2 factors error \n",
    "compar_time(I,J,K,r,nb_rand,n_samples,list_factors=True)"
   ]
  },
  {
   "cell_type": "code",
   "execution_count": 144,
   "metadata": {
    "colab": {
     "base_uri": "https://localhost:8080/",
     "height": 279
    },
    "id": "N3iKiCgsbfq7",
    "outputId": "8548cf01-4de1-4cbf-857a-de2b698d5159"
   },
   "outputs": [
    {
     "data": {
      "image/png": "[encoded data removed]",
      "text/plain": [
       "<Figure size 432x288 with 1 Axes>"
      ]
     },
     "metadata": {
      "needs_background": "light",
      "tags": []
     },
     "output_type": "display_data"
    }
   ],
   "source": [
    "# cprand version 1 data fitting error \n",
    "compar_time(I,J,K,r,nb_rand,n_samples)"
   ]
  },
  {
   "cell_type": "code",
   "execution_count": 142,
   "metadata": {
    "colab": {
     "base_uri": "https://localhost:8080/",
     "height": 282
    },
    "id": "ioOdCXhabj1u",
    "outputId": "4622780a-b9a4-4900-f4d2-75105b91c796"
   },
   "outputs": [
    {
     "data": {
      "image/png": "[encoded data removed]",
      "text/plain": [
       "<Figure size 432x288 with 1 Axes>"
      ]
     },
     "metadata": {
      "needs_background": "light",
      "tags": []
     },
     "output_type": "display_data"
    }
   ],
   "source": [
    "# cprand version 1 factors error \n",
    "compar_time(I,J,K,r,nb_rand,n_samples,list_factors=True)"
   ]
  },
  {
   "cell_type": "markdown",
   "metadata": {
    "id": "vJWAoYYmcmKy"
   },
   "source": [
    "###### her CPRAND and als"
   ]
  },
  {
   "cell_type": "code",
   "execution_count": 257,
   "metadata": {
    "colab": {
     "base_uri": "https://localhost:8080/",
     "height": 279
    },
    "id": "zVT4mpaldkZk",
    "outputId": "86ee7514-5796-4125-d8f9-51b91dadb965"
   },
   "outputs": [
    {
     "data": {
      "image/png": "[encoded data removed]",
      "text/plain": [
       "<Figure size 432x288 with 1 Axes>"
      ]
     },
     "metadata": {
      "needs_background": "light",
      "tags": []
     },
     "output_type": "display_data"
    }
   ],
   "source": [
    "# her cprand version 2 data fitting error \n",
    "compar_time(I,J,K,r,nb_rand,n_samples)"
   ]
  },
  {
   "cell_type": "code",
   "execution_count": 153,
   "metadata": {
    "colab": {
     "base_uri": "https://localhost:8080/",
     "height": 279
    },
    "id": "xle7Mz3ydbte",
    "outputId": "26ee7075-b9c4-45b1-f2cd-894ca3895267"
   },
   "outputs": [
    {
     "data": {
      "image/png": "[encoded data removed]",
      "text/plain": [
       "<Figure size 432x288 with 1 Axes>"
      ]
     },
     "metadata": {
      "needs_background": "light",
      "tags": []
     },
     "output_type": "display_data"
    }
   ],
   "source": [
    "# her cprand version 2 factors error \n",
    "compar_time(I,J,K,r,nb_rand,n_samples,list_factors=True)"
   ]
  },
  {
   "cell_type": "code",
   "execution_count": 148,
   "metadata": {
    "colab": {
     "base_uri": "https://localhost:8080/",
     "height": 279
    },
    "id": "Cy8Z4IVRclj6",
    "outputId": "af1eeb3e-98d8-4296-b143-3a41b0d391c7"
   },
   "outputs": [
    {
     "data": {
      "image/png": "[encoded data removed]",
      "text/plain": [
       "<Figure size 432x288 with 1 Axes>"
      ]
     },
     "metadata": {
      "needs_background": "light",
      "tags": []
     },
     "output_type": "display_data"
    }
   ],
   "source": [
    "# her cprand version 1 data fitting error \n",
    "compar_time(I,J,K,r,nb_rand,n_samples)"
   ]
  },
  {
   "cell_type": "code",
   "execution_count": 150,
   "metadata": {
    "colab": {
     "base_uri": "https://localhost:8080/",
     "height": 279
    },
    "id": "qXKXovhldBYi",
    "outputId": "b390fd9e-4bc6-4a76-8572-d0f038aa075d"
   },
   "outputs": [
    {
     "data": {
      "image/png": "[encoded data removed]",
      "text/plain": [
       "<Figure size 432x288 with 1 Axes>"
      ]
     },
     "metadata": {
      "needs_background": "light",
      "tags": []
     },
     "output_type": "display_data"
    }
   ],
   "source": [
    "# her cprand version 1 factors error \n",
    "compar_time(I,J,K,r,nb_rand,n_samples,list_factors=True)"
   ]
  },
  {
   "cell_type": "markdown",
   "metadata": {
    "id": "gQ3ARKjHyDOk"
   },
   "source": [
    "#### More complicated factors"
   ]
  },
  {
   "cell_type": "markdown",
   "metadata": {
    "id": "AYv7E5zG0L6V"
   },
   "source": [
    "##### her als"
   ]
  },
  {
   "cell_type": "markdown",
   "metadata": {
    "id": "4IoV4euB1_6W"
   },
   "source": [
    "compare time ici, resultat different meme si j'ai mis set.seed ?"
   ]
  },
  {
   "cell_type": "code",
   "execution_count": 269,
   "metadata": {
    "colab": {
     "base_uri": "https://localhost:8080/",
     "height": 284
    },
    "id": "TVjkrxJA0kvv",
    "outputId": "737ab7ac-61ca-4481-df32-72c3d173a0dc"
   },
   "outputs": [
    {
     "data": {
      "image/png": "[encoded data removed]",
      "text/plain": [
       "<Figure size 432x288 with 1 Axes>"
      ]
     },
     "metadata": {
      "needs_background": "light",
      "tags": []
     },
     "output_type": "display_data"
    }
   ],
   "source": [
    "# her als data fitting error \n",
    "comparaison(I,J,K,r,nb_rand,n_samples,scale=True)"
   ]
  },
  {
   "cell_type": "code",
   "execution_count": 278,
   "metadata": {
    "colab": {
     "base_uri": "https://localhost:8080/",
     "height": 283
    },
    "id": "Rg0TM_dw0xp5",
    "outputId": "657be4fb-bcb5-4f7b-c82b-8cd607d6532f"
   },
   "outputs": [
    {
     "data": {
      "image/png": "[encoded data removed]",
      "text/plain": [
       "<Figure size 432x288 with 1 Axes>"
      ]
     },
     "metadata": {
      "needs_background": "light",
      "tags": []
     },
     "output_type": "display_data"
    }
   ],
   "source": [
    "# her als data fitting error \n",
    "compar_time(I,J,K,r,nb_rand,n_samples,list_factors=True,scale=True)"
   ]
  },
  {
   "cell_type": "code",
   "execution_count": 267,
   "metadata": {
    "colab": {
     "base_uri": "https://localhost:8080/",
     "height": 279
    },
    "id": "_7dSkhbe0K5a",
    "outputId": "8028e5b1-d0df-4493-ce15-b04c7148a963"
   },
   "outputs": [
    {
     "data": {
      "image/png": "[encoded data removed]",
      "text/plain": [
       "<Figure size 432x288 with 1 Axes>"
      ]
     },
     "metadata": {
      "needs_background": "light",
      "tags": []
     },
     "output_type": "display_data"
    }
   ],
   "source": [
    "# her als factors error \n",
    "comparaison(I,J,K,r,nb_rand,n_samples,list_factors=True,scale=True)"
   ]
  },
  {
   "cell_type": "code",
   "execution_count": 273,
   "metadata": {
    "colab": {
     "base_uri": "https://localhost:8080/",
     "height": 279
    },
    "id": "kxvGrFWo0xCp",
    "outputId": "c10956f0-ad0a-4fcd-e3ad-c9415ddf3f0d"
   },
   "outputs": [
    {
     "data": {
      "image/png": "[encoded data removed]",
      "text/plain": [
       "<Figure size 432x288 with 1 Axes>"
      ]
     },
     "metadata": {
      "needs_background": "light",
      "tags": []
     },
     "output_type": "display_data"
    }
   ],
   "source": [
    "# her als facctors error \n",
    "compar_time(I,J,K,r,nb_rand,n_samples,list_factors=True,scale=True)"
   ]
  },
  {
   "cell_type": "markdown",
   "metadata": {
    "id": "e1UOB4Qy0Gum"
   },
   "source": [
    "##### herCPRAND"
   ]
  },
  {
   "cell_type": "code",
   "execution_count": 260,
   "metadata": {
    "colab": {
     "base_uri": "https://localhost:8080/",
     "height": 283
    },
    "id": "i_wtB1OcyXt_",
    "outputId": "88701633-a54b-4783-db59-37d5c09f7e32"
   },
   "outputs": [
    {
     "data": {
      "image/png": "[encoded data removed]",
      "text/plain": [
       "<Figure size 432x288 with 1 Axes>"
      ]
     },
     "metadata": {
      "needs_background": "light",
      "tags": []
     },
     "output_type": "display_data"
    }
   ],
   "source": [
    "# her cprand version 2 data fitting error \n",
    "comparaison(I,J,K,r,nb_rand,n_samples,scale=True)"
   ]
  },
  {
   "cell_type": "code",
   "execution_count": 261,
   "metadata": {
    "colab": {
     "base_uri": "https://localhost:8080/",
     "height": 279
    },
    "id": "NDDVrnLSyKT7",
    "outputId": "c16d85c2-f166-45e1-98e0-874fb6533f1b"
   },
   "outputs": [
    {
     "data": {
      "image/png": "[encoded data removed]",
      "text/plain": [
       "<Figure size 432x288 with 1 Axes>"
      ]
     },
     "metadata": {
      "needs_background": "light",
      "tags": []
     },
     "output_type": "display_data"
    }
   ],
   "source": [
    "# her cprand version 2 data fitting error \n",
    "compar_time(I,J,K,r,nb_rand,n_samples,scale=True)"
   ]
  },
  {
   "cell_type": "code",
   "execution_count": 263,
   "metadata": {
    "colab": {
     "base_uri": "https://localhost:8080/",
     "height": 279
    },
    "id": "NM905cQxyy6j",
    "outputId": "b12252e6-2149-4715-ad42-2a419f3dcbe7"
   },
   "outputs": [
    {
     "data": {
      "image/png": "[encoded data removed]",
      "text/plain": [
       "<Figure size 432x288 with 1 Axes>"
      ]
     },
     "metadata": {
      "needs_background": "light",
      "tags": []
     },
     "output_type": "display_data"
    }
   ],
   "source": [
    "# her cprand version 2 factors error \n",
    "comparaison(I,J,K,r,nb_rand,n_samples,list_factors=True,scale=True)"
   ]
  },
  {
   "cell_type": "code",
   "execution_count": 265,
   "metadata": {
    "colab": {
     "base_uri": "https://localhost:8080/",
     "height": 283
    },
    "id": "Ha1wwPVZzEjf",
    "outputId": "97bdf89b-bef7-4ac2-9009-87b6570fe2a2"
   },
   "outputs": [
    {
     "data": {
      "image/png": "[encoded data removed]",
      "text/plain": [
       "<Figure size 432x288 with 1 Axes>"
      ]
     },
     "metadata": {
      "needs_background": "light",
      "tags": []
     },
     "output_type": "display_data"
    }
   ],
   "source": [
    "# her cprand version 2 factors error \n",
    "compar_time(I,J,K,r,nb_rand,n_samples,list_factors=True,scale=True)"
   ]
  }
 ],
 "metadata": {
  "colab": {
   "collapsed_sections": [
    "vr-gtvgUV0X-",
    "8_RTreV8qTT8",
    "HeOKykNzthXB",
    "jaK87iJXwy2O",
    "lE7UPcpbBFRt",
    "1FQaVrZQ5mHj",
    "pP0QZ5_TQ-6a",
    "2z51Ooy3RE0r",
    "U8sVDeXuyZ-Z",
    "g9AC_UkREjTn",
    "dqe_g21dDz_E",
    "drqAkp1q3PVu",
    "gvYVQ5Cu5yxr",
    "BHK2DC2QB59N",
    "o04TDjYWCGGZ",
    "xVDfOeSaOmaT",
    "-47Hx4CP22mG",
    "GQVMqkTbWgJx",
    "lvMaZ1hBkdG_",
    "aBg5QMPuYQwr",
    "NAyPxi6uVvbz",
    "iLady9bHjim4",
    "tC3RdnCvjlys",
    "fZjy9fOHjpu2",
    "DUViDLWV3A1x",
    "hTjjQvfL46b8",
    "_TDy_z6B8j7Y",
    "gl-3XB7aZ2Uo",
    "PtCCBMKSayfo",
    "vJWAoYYmcmKy"
   ],
   "name": "PIRS7.ipynb",
   "provenance": []
  },
  "kernelspec": {
   "display_name": "Python 3",
   "language": "python",
   "name": "python3"
  },
  "language_info": {
   "codemirror_mode": {
    "name": "ipython",
    "version": 3
   },
   "file_extension": ".py",
   "mimetype": "text/x-python",
   "name": "python",
   "nbconvert_exporter": "python",
   "pygments_lexer": "ipython3",
   "version": "3.7.4"
  }
 },
 "nbformat": 4,
 "nbformat_minor": 1
}
