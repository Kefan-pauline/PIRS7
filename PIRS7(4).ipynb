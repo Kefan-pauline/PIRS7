{
 "cells": [
  {
   "cell_type": "markdown",
   "metadata": {
    "id": "HvY3bwQ8wI4s"
   },
   "source": [
    "# MAJ\n",
    "1. random_init_fac et svd_init_fac\n",
    "2. modif de tous les algo\n",
    "3. real data\n",
    "4. fix bug : factor error in comparaison & compar_time\n",
    "\n",
    "Question :  \n",
    "1. err_rand_fast trop grand cas compliqué, peut etre c'est normal. err s'arrete vers 1\n",
    "3. her CPRAND, restart=0?!\n",
    "4. Singular matrix if rank > one dimension."
   ]
  },
  {
   "cell_type": "code",
   "execution_count": null,
   "metadata": {
    "id": "xXsN799ZegUJ"
   },
   "outputs": [],
   "source": [
    "pip install -U tensorly"
   ]
  },
  {
   "cell_type": "code",
   "execution_count": 2,
   "metadata": {
    "id": "crODTv8ofBn2"
   },
   "outputs": [],
   "source": [
    "import numpy as np\n",
    "import tensorly as tl\n",
    "import matplotlib.pyplot as plt\n",
    "from tensorly.decomposition import sample_khatri_rao\n",
    "from scipy.optimize import linear_sum_assignment\n",
    "from statistics import median\n",
    "import time\n",
    "import copy"
   ]
  },
  {
   "cell_type": "markdown",
   "metadata": {
    "id": "HlpS-9tXIrlt"
   },
   "source": [
    "# Decomposition"
   ]
  },
  {
   "cell_type": "markdown",
   "metadata": {
    "id": "JODkeWzrJHZW"
   },
   "source": [
    "### ALS"
   ]
  },
  {
   "cell_type": "code",
   "execution_count": 3,
   "metadata": {
    "id": "gKJc6YJPKZzl"
   },
   "outputs": [],
   "source": [
    "# stopping criteria \n",
    "def err(tensor,weight,factors): \n",
    "  t_tilde=tl.kruskal_to_tensor((weight,factors)) # transform tensor decomposition (kruskal tensor) to tensor\n",
    "  return(tl.norm(tensor-t_tilde))"
   ]
  },
  {
   "cell_type": "code",
   "execution_count": 4,
   "metadata": {
    "id": "xifbsp_C8r8e"
   },
   "outputs": [],
   "source": [
    "def err_fast(norm_tensor,A,V,W):\n",
    "  res=sum(sum(V*(np.transpose(A).dot(A))))\n",
    "  res=res-2*sum(sum(W*A))\n",
    "  return(np.sqrt(norm_tensor**2+res))"
   ]
  },
  {
   "cell_type": "code",
   "execution_count": 5,
   "metadata": {
    "id": "eAXDMEj2H3DJ"
   },
   "outputs": [],
   "source": [
    "def err_fac(fac,fac_est) :\n",
    "  weights,fac=tl.cp_normalize((None,fac))\n",
    "  weights_est,fac_est=tl.cp_normalize((None,fac_est))\n",
    "  err=0\n",
    "  for i in range(len(fac)):\n",
    "    if i==0 : row_ind, col_ind = linear_sum_assignment(-np.dot(np.transpose(fac[i]),fac_est[i]))\n",
    "    err=err+(tl.norm(fac[i]-fac_est[i][:,col_ind])/tl.norm(fac[i]))\n",
    "  return (err/len(fac))"
   ]
  },
  {
   "cell_type": "code",
   "execution_count": 6,
   "metadata": {
    "id": "H0WXMaSXS0Mb"
   },
   "outputs": [],
   "source": [
    "def random_init_fac(tensor,rank):\n",
    "  factors=[]\n",
    "  for mode in range(tl.ndim(tensor)):\n",
    "    factors+=[np.random.random((tl.shape(tensor)[mode], rank))] # random on [0,1)\n",
    "  return factors"
   ]
  },
  {
   "cell_type": "code",
   "execution_count": 7,
   "metadata": {
    "id": "SSfsLvI5S_VQ"
   },
   "outputs": [],
   "source": [
    "def svd_init_fac(tensor,rank) :\n",
    "  factors=[]\n",
    "  for mode in range(tl.ndim(tensor)):\n",
    "    unfolded=tl.unfold(tensor, mode)\n",
    "    if rank<=tl.shape(tensor)[mode] : \n",
    "      u,s,v=tl.partial_svd(unfolded,n_eigenvecs=rank) # first rank eigenvectors/values (ascendent)\n",
    "    else : \n",
    "      u,s,v=tl.partial_svd(unfolded,n_eigenvecs=tl.shape(tensor)[mode]) \n",
    "      u=np.append(u,np.random.random((np.shape(u)[0],rank-tl.shape(tensor)[mode])),axis=1)  # sometimes we have singular matrix error\n",
    "    factors+=[u]\n",
    "  return (factors)"
   ]
  },
  {
   "cell_type": "code",
   "execution_count": 8,
   "metadata": {
    "id": "f-2qmNUpIuRZ"
   },
   "outputs": [],
   "source": [
    "# ALS method to compute tensor decomposition\n",
    "def als(tensor,rank,factors=None,it_max=100,tol=1e-5,list_factors=False,error_fast=True,time_rec=False):\n",
    "  N=tl.ndim(tensor) # order of tensor\n",
    "  norm_tensor=tl.norm(tensor) # norm of tensor\n",
    "  if time_rec == True : list_time=[]\n",
    "  if list_factors==True : list_fac=[] # list of factor matrices\n",
    "\n",
    "  if (factors==None): factors=svd_init_fac(tensor,rank)\n",
    "\n",
    "  weights=None\n",
    "  it=0\n",
    "  if list_factors==True : list_fac.append(copy.deepcopy(factors))\n",
    "  error=[err(tensor,weights,factors)/norm_tensor]\n",
    "  while (error[len(error)-1]>tol and it<it_max):\n",
    "    if time_rec == True : tic=time.time() \n",
    "    for n in range(N):\n",
    "      V=np.ones((rank,rank))\n",
    "      for i in range(len(factors)):\n",
    "        if i != n : V=V*tl.dot(tl.transpose(factors[i]),factors[i])\n",
    "      W=tl.cp_tensor.unfolding_dot_khatri_rao(tensor, (None,factors), n) \n",
    "      factors[n]= tl.transpose(tl.solve(tl.transpose(V),tl.transpose(W)))\n",
    "    if list_factors==True : list_fac.append(copy.deepcopy(factors))\n",
    "    it=it+1\n",
    "    if(error_fast==False) : error.append(err(tensor,weights,factors)/norm_tensor)\n",
    "    else : error.append(err_fast(norm_tensor,factors[N-1],V,W)/norm_tensor)\n",
    "    if time_rec == True : \n",
    "      toc=time.time() \n",
    "      list_time.append(toc-tic)\n",
    "  weights,factors=tl.cp_tensor.cp_normalize((None,factors))\n",
    "  if list_factors==True and time_rec==True: return(weights,factors,it,error,list_fac,list_time)\n",
    "  if time_rec==True : return(weights,factors,it,error,list_time)\n",
    "  if list_factors==True : return(weights,factors,it,error,list_fac)\n",
    "  return(weights,factors,it,error)"
   ]
  },
  {
   "cell_type": "markdown",
   "metadata": {
    "id": "hGfIM7ptuKwf"
   },
   "source": [
    "### her_Als"
   ]
  },
  {
   "cell_type": "code",
   "execution_count": 93,
   "metadata": {
    "id": "dL_ZTB6aTmRF"
   },
   "outputs": [],
   "source": [
    "def her_Als(tensor,rank,factors=None,it_max=100,err_it_max=20,tol=1e-5,beta=0.5,eta=1.5,gamma=1.05,gamma_bar=1.01,list_factors=False,error_fast=True,time_rec=False):\n",
    "  beta_bar=1\n",
    "  N=tl.ndim(tensor) # order of tensor\n",
    "  norm_tensor=tl.norm(tensor) # norm of tensor\n",
    "\n",
    "  if time_rec == True : list_time=[]\n",
    "  if list_factors==True : list_fac=[]\n",
    "\n",
    "  if (factors==None): factors=svd_init_fac(tensor,rank)\n",
    "\n",
    "  # Initialization of factor hat matrices by factor matrices\n",
    "  factors_hat=factors\n",
    "  if list_factors==True : list_fac.append(copy.deepcopy(factors))\n",
    "\n",
    "  it=0\n",
    "  err_it=0\n",
    "  cpt=0\n",
    "  F_hat_bf=err(tensor,None,factors) # cost\n",
    "  error=[F_hat_bf/norm_tensor]\n",
    "  min_err=error[len(error)-1]\n",
    "\n",
    "  while (min_err > tol and it<it_max and err_it<err_it_max):\n",
    "    if time_rec == True : tic=time.time()\n",
    "    for n in range(N):\n",
    "      V=np.ones((rank,rank))\n",
    "      for i in range(len(factors)):\n",
    "        if i != n : V=V*tl.dot(tl.transpose(factors_hat[i]),factors_hat[i])\n",
    "      W=tl.cp_tensor.unfolding_dot_khatri_rao(tensor, (None,factors_hat), n) \n",
    "      factor_bf=factors[n]\n",
    "      # update\n",
    "      factors[n]= tl.transpose(tl.solve(tl.transpose(V),tl.transpose(W)))\n",
    "      # extrapolate\n",
    "      factors_hat[n]=factors[n]+beta*(factors[n]-factor_bf)\n",
    "\n",
    "    if(error_fast==False) : F_hat_new = err(tensor,None,factors_hat) # cost update \n",
    "    else : F_hat_new = err_fast(norm_tensor,factors[N-1],V,W)\n",
    "    if (F_hat_new>F_hat_bf):\n",
    "      factors_hat=factors\n",
    "      beta_bar=beta\n",
    "      beta=beta/eta\n",
    "      cpt=cpt+1\n",
    "    else :\n",
    "      factors=factors_hat\n",
    "      beta_bar=min(1,beta_bar*gamma_bar)\n",
    "      beta=min(beta_bar,gamma*beta)\n",
    "    F_hat_bf=F_hat_new\n",
    "    it=it+1\n",
    "    if list_factors==True : list_fac.append(copy.deepcopy(factors))\n",
    "    error.append(F_hat_new/norm_tensor)\n",
    "    if(error[len(error)-1]<min_err) : min_err=error[len(error)-1] # err update\n",
    "    else : err_it=err_it+1\n",
    "    if time_rec == True : \n",
    "      toc=time.time()\n",
    "      list_time.append(toc-tic)\n",
    "  weights,factors=tl.cp_normalize((None,factors))\n",
    "  if time_rec == True and list_factors==True: return(weights,factors,it,error,cpt/it,list_fac,list_time)\n",
    "  if list_factors==True : return(weights,factors,it,error,cpt/it,list_fac)\n",
    "  if time_rec == True : return(weights,factors,it,error,cpt/it,list_time)\n",
    "  return(weights,factors,it,error,cpt/it)\n"
   ]
  },
  {
   "cell_type": "markdown",
   "metadata": {
    "id": "iOSWsevBuPRT"
   },
   "source": [
    "### CPRAND"
   ]
  },
  {
   "cell_type": "markdown",
   "metadata": {
    "id": "g9AC_UkREjTn"
   },
   "source": [
    "#### Stopping criteria"
   ]
  },
  {
   "cell_type": "code",
   "execution_count": 10,
   "metadata": {
    "id": "gZoUOpCkhPNz"
   },
   "outputs": [],
   "source": [
    "# Stopping criteria of CPRAND\n",
    "def err_rand(tensor,weights,factors,nb_samples,indices_list=None): \n",
    "  if indices_list==None : \n",
    "    indices_list = [np.random.randint(0, tl.shape(m)[0], size=nb_samples, dtype=int) for m in factors] \n",
    "    indices_list = [i.tolist() for i in indices_list]\n",
    "    indices_list = tuple(indices_list)\n",
    "  est_values=[]\n",
    "  P=1\n",
    "  for i in tl.shape(tensor) : P=P*i\n",
    "  for i in range(nb_samples):\n",
    "     if weights is None : value=1\n",
    "     else : value=weights\n",
    "     for mode in range(tl.ndim(tensor)) :\n",
    "       value=value*factors[mode][indices_list[mode][i],:]\n",
    "     est_values+=[sum(value)]\n",
    "  list_e=(tensor[indices_list]-est_values)**2  # max(list_e) = 1 (general ? mais si les donnees sont grandes ?)\n",
    "  return(np.sqrt(sum(list_e)*P/nb_samples),indices_list) "
   ]
  },
  {
   "cell_type": "code",
   "execution_count": 11,
   "metadata": {
    "id": "sfKdi9s7kqoH"
   },
   "outputs": [],
   "source": [
    "def err_rand_fast(tensor,A,V,W,indices_list,nb_samples=None): \n",
    "  # randomised tensor norm  \n",
    "  norm_tensor=tl.norm(tensor[indices_list])\n",
    "  res=sum(sum(V*(np.transpose(A).dot(A))))\n",
    "  res=norm_tensor**2+res-2*sum(sum(W*A)) \n",
    "  if nb_samples == None : nb_samples = np.shape(indices_list[0])[0]\n",
    "  else : res=res/nb_samples\n",
    "  P=1\n",
    "  for i in tl.shape(tensor) : P=P*i\n",
    "  return(np.sqrt(res*P),indices_list) "
   ]
  },
  {
   "cell_type": "markdown",
   "metadata": {
    "id": "XztnS6YjWKJ_"
   },
   "source": [
    "#### Main method"
   ]
  },
  {
   "cell_type": "code",
   "execution_count": 29,
   "metadata": {
    "id": "T4txK4cRuRUK"
   },
   "outputs": [],
   "source": [
    "# version 1 variance trop grande : error comme dans her, mais les matrices V,W et la norme tensor etantes randomisees.\n",
    "def CPRAND(tensor,rank,n_samples,factors=None,exact_err=False,it_max=100,err_it_max=20,tol=1e-5,list_factors=False,time_rec=False):\n",
    "  N=tl.ndim(tensor) # order of tensor\n",
    "  norm_tensor=tl.norm(tensor) # norm of tensor\n",
    "\n",
    "  if list_factors==True : list_fac=[]\n",
    "  if time_rec == True : list_time=[]\n",
    "  if (factors==None): factors=svd_init_fac(tensor,rank)\n",
    "  # weights,factors=tl.cp_tensor.cp_normalize((None,factors))\n",
    "  if list_factors==True : list_fac.append(copy.deepcopy(factors))\n",
    "  weights=None\n",
    "  it=0\n",
    "  err_it=0\n",
    "  ########################################\n",
    "  ######### error initialization #########\n",
    "  ########################################\n",
    "  if(exact_err==False):\n",
    "    temp,ind_err=err_rand(tensor,weights,factors,400) \n",
    "    error=[temp/norm_tensor] \n",
    "  else :\n",
    "    error=[err(tensor,weights,factors)/norm_tensor]\n",
    "\n",
    "  min_err=error[len(error)-1]\n",
    "  rng = tl.random.check_random_state(None)\n",
    "  while (min_err>tol and it<it_max and err_it<err_it_max): \n",
    "    if time_rec == True : tic=time.time()\n",
    "    for n in range(N):\n",
    "      Zs,indices=tl.decomposition.sample_khatri_rao(factors,n_samples,skip_matrix=n,random_state=rng)\n",
    "      indices_list = [i.tolist() for i in indices]\n",
    "      indices_list.insert(n, slice(None, None, None))\n",
    "      indices_list = tuple(indices_list)\n",
    "      if (n==0) :sampled_unfolding = tensor[indices_list]\n",
    "      else : sampled_unfolding =tl.transpose(tensor[indices_list])\n",
    "      V=tl.dot(tl.transpose(Zs),Zs)\n",
    "      W=tl.dot(sampled_unfolding,Zs)\n",
    "      # update\n",
    "      factors[n] = tl.transpose(tl.solve(V,tl.transpose(W))) # solve needs a squared matrix\n",
    "    \n",
    "\n",
    "    if list_factors==True : list_fac.append(copy.deepcopy(factors))\n",
    "    it=it+1\n",
    "\n",
    "    ################################\n",
    "    ######### error update #########\n",
    "    ################################\n",
    "    if(exact_err==False):\n",
    "      error.append(err_rand_fast(tensor,factors[N-1],V,W,indices_list,n_samples)[0]/norm_tensor) # same indices used as for Random Lesat Square Calculation\n",
    "    else : error.append(err(tensor,weights,factors)/norm_tensor)\n",
    "    \n",
    "    if(error[len(error)-1]<min_err) : min_err=error[len(error)-1] # err update\n",
    "    else : err_it=err_it+1\n",
    "    if time_rec == True : \n",
    "      toc=time.time()\n",
    "      list_time.append(toc-tic)\n",
    "  weights,factors=tl.cp_tensor.cp_normalize((None,factors))\n",
    "  if time_rec == True and list_factors==True: return(weights,factors,it,error,list_fac,list_time)\n",
    "  if list_factors==True : return(weights,factors,it,error,list_fac)\n",
    "  if time_rec==True : return(weights,factors,it,error,list_time)\n",
    "  return(weights,factors,it,error)"
   ]
  },
  {
   "cell_type": "markdown",
   "metadata": {
    "id": "mGGaCu-9xpJb"
   },
   "source": [
    "#### Test"
   ]
  },
  {
   "cell_type": "markdown",
   "metadata": {
    "id": "rwBGcTB5xwik"
   },
   "source": [
    "t_krus has 12 terms. If n_samples=33/400, err_rand=1.2*err_exa"
   ]
  },
  {
   "cell_type": "code",
   "execution_count": null,
   "metadata": {
    "id": "s5jTDNijx5zL"
   },
   "outputs": [],
   "source": [
    "A=np.arange(9).reshape(3,3)\n",
    "B=np.arange(6).reshape(2,3)+9\n",
    "C=np.arange(6).reshape(2,3)+15\n",
    "factors=[]\n",
    "factors+=[A]\n",
    "factors+=[B]\n",
    "factors+=[C]\n",
    "t_krus = tl.cp_to_tensor((None,factors))"
   ]
  },
  {
   "cell_type": "code",
   "execution_count": null,
   "metadata": {
    "colab": {
     "base_uri": "https://localhost:8080/"
    },
    "id": "rdMA67TPxpuQ",
    "outputId": "a7d4397a-2a71-4539-e2ef-b11b0ba670d9"
   },
   "outputs": [
    {
     "data": {
      "text/plain": [
       "2"
      ]
     },
     "execution_count": 127,
     "metadata": {
      "tags": []
     },
     "output_type": "execute_result"
    }
   ],
   "source": [
    "rank=3\n",
    "n_samples=int(10*rank*np.log(rank)+1)\n",
    "# n_samples=400\n",
    "weights,factors,it,error=CPRAND(t_krus,rank,n_samples,exact_err=False)\n",
    "it"
   ]
  },
  {
   "cell_type": "code",
   "execution_count": null,
   "metadata": {
    "colab": {
     "base_uri": "https://localhost:8080/"
    },
    "id": "0bAJqFPhx2Iu",
    "outputId": "12f23059-1faa-47ac-c0b6-3af4d2d711f9"
   },
   "outputs": [
    {
     "data": {
      "text/plain": [
       "1.209074128422695"
      ]
     },
     "execution_count": 128,
     "metadata": {
      "tags": []
     },
     "output_type": "execute_result"
    }
   ],
   "source": [
    "error[len(error)-1]/(tl.norm(tl.cp_to_tensor((weights,factors))-t_krus)/tl.norm(t_krus))"
   ]
  },
  {
   "cell_type": "markdown",
   "metadata": {
    "id": "wYiTRDiYyJ_A"
   },
   "source": [
    "(40,2,2) rank=5, n_samples=81/400, 1 iteration, err_rand=e-8, err_exa=e-15.   \n",
    "(6,6,6) rank=5, n_samples=81/200/400, err_rand=2 *err_exa  \n",
    "(10,10,10) rank=5, n_samples=81/400/1000, err_rand=2 *err_exa"
   ]
  },
  {
   "cell_type": "code",
   "execution_count": null,
   "metadata": {
    "id": "vYqCT8PzyGwP"
   },
   "outputs": [],
   "source": [
    "rank=5\n",
    "n_samples=int(10*rank*np.log(rank)+1)\n",
    "# n_samples=400"
   ]
  },
  {
   "cell_type": "code",
   "execution_count": null,
   "metadata": {
    "id": "AaA6iTGRyTDT"
   },
   "outputs": [],
   "source": [
    "A,B,C,noise=init_factors(10,10,10,rank)\n",
    "t=tl.cp_to_tensor((None,[A,B,C]))+noise"
   ]
  },
  {
   "cell_type": "code",
   "execution_count": null,
   "metadata": {
    "colab": {
     "base_uri": "https://localhost:8080/"
    },
    "id": "LDy4DnQEyfBg",
    "outputId": "f21f8a28-2818-40b0-ff55-9a00d80daaeb"
   },
   "outputs": [
    {
     "data": {
      "text/plain": [
       "33"
      ]
     },
     "execution_count": 131,
     "metadata": {
      "tags": []
     },
     "output_type": "execute_result"
    }
   ],
   "source": [
    "weights,factors,it,error=CPRAND(t,rank,n_samples,exact_err=False)\n",
    "it"
   ]
  },
  {
   "cell_type": "code",
   "execution_count": null,
   "metadata": {
    "colab": {
     "base_uri": "https://localhost:8080/"
    },
    "id": "kwxDH_ezyfgd",
    "outputId": "c3d5edcd-1db5-4d39-81ec-ab7c1856f29c"
   },
   "outputs": [
    {
     "data": {
      "text/plain": [
       "3.01620496279696"
      ]
     },
     "execution_count": 132,
     "metadata": {
      "tags": []
     },
     "output_type": "execute_result"
    }
   ],
   "source": [
    "error[len(error)-1]/(tl.norm(tl.cp_to_tensor((weights,factors))-t)/tl.norm(t))"
   ]
  },
  {
   "cell_type": "markdown",
   "metadata": {
    "id": "ZDxixI6O_0bh"
   },
   "source": [
    "### her-CPRAND\n",
    "\n"
   ]
  },
  {
   "cell_type": "markdown",
   "metadata": {
    "id": "qrNUAYKhEw-v"
   },
   "source": [
    "#### Main method"
   ]
  },
  {
   "cell_type": "code",
   "execution_count": 44,
   "metadata": {
    "id": "O90K1nZdAZVL"
   },
   "outputs": [],
   "source": [
    "# cpt=1\n",
    "def her_CPRAND(tensor,rank,n_samples,factors=None,exact_err=False,it_max=100,err_it_max=20,tol=1e-5,beta=0.1,eta=2,gamma=1.01,gamma_bar=1.005,list_factors=False,time_rec=False):\n",
    "  beta_bar=1\n",
    "  N=tl.ndim(tensor) # order of tensor\n",
    "  norm_tensor=tl.norm(tensor) # norm of tensor\n",
    "  if list_factors==True : list_fac=[]\n",
    "  if(time_rec==True) : list_time=[]\n",
    "\n",
    "  if (factors==None): factors=svd_init_fac(tensor,rank)\n",
    "  # Initialization of factor hat matrice by factor matrices\n",
    "  factors_hat=factors\n",
    "  if list_factors==True : list_fac.append(copy.deepcopy(factors))\n",
    "  if time_rec==True : list_err=[]\n",
    "\n",
    "  it=0\n",
    "  err_it=0\n",
    "  cpt=0\n",
    "  ########################################\n",
    "  ######### error initialization #########\n",
    "  ########################################\n",
    "  if(exact_err==False):F_hat_bf,ind_bf=err_rand(tensor,None,factors,n_samples)\n",
    "  else : F_hat_bf=err(tensor,None,factors) # exact cost\n",
    "  rng = tl.random.check_random_state(None)\n",
    "  error=[F_hat_bf/norm_tensor]\n",
    "  min_err=error[len(error)-1]\n",
    "\n",
    "  while (min_err>tol and it<it_max and err_it<err_it_max): \n",
    "    if time_rec==True :tic=time.time()\n",
    "    factors_hat_bf=factors_hat\n",
    "    for n in range(N):\n",
    "      Zs,indices=tl.decomposition.sample_khatri_rao(factors_hat,n_samples,skip_matrix=n,random_state=rng)\n",
    "      indices_list = [i.tolist() for i in indices]\n",
    "      indices_list.insert(n, slice(None, None, None))\n",
    "      indices_list = tuple(indices_list)\n",
    "      V=tl.dot(tl.transpose(Zs),Zs)\n",
    "      if (n==0) :sampled_unfolding = tensor[indices_list] \n",
    "      else : sampled_unfolding =tl.transpose(tensor[indices_list])\n",
    "      W=tl.dot(sampled_unfolding,Zs)\n",
    "      factor_bf=factors[n]\n",
    "      # update\n",
    "      factors[n] = tl.transpose(tl.solve(V,tl.transpose(W))) # solve needs a squared matrix, if rank>nb_sampls ok\n",
    "      # if (n==N-1) : F_hat_new=tl.norm(tl.dot(Zs,tl.transpose(factors[n]))-sampled_unfolding,2) # cost update \n",
    "      # extrapolate\n",
    "      factors_hat[n]=factors[n]+beta*(factors[n]-factor_bf)\n",
    "    ########################################\n",
    "    #########      error update    #########\n",
    "    ########################################\n",
    "    if(exact_err==False): \n",
    "      matrices = factors_hat[:-1]\n",
    "      Zs_bf = tl.ones((n_samples, rank), **tl.context(matrices[0]))\n",
    "      for indices, matrix in zip(ind_bf, matrices):\n",
    "        Zs_bf = Zs_bf * matrix[indices, :]\n",
    "      V_bf=tl.dot(tl.transpose(Zs_bf),Zs_bf)\n",
    "      W_bf=tl.dot(tl.transpose(tensor[ind_bf]),Zs_bf)\n",
    "      F_hat_new,a= err_rand_fast(tensor,factors[N-1],V_bf,W_bf,ind_bf)\n",
    "      F_hat_new_true,ind_bf= err_rand_fast(tensor,factors[N-1],V,W,indices_list,n_samples) \n",
    "    else :\n",
    "      F_hat_new = err(tensor,None,factors_hat) # exact cost update \n",
    "    if (F_hat_new>F_hat_bf):\n",
    "      factors_hat=factors\n",
    "      beta_bar=beta\n",
    "      beta=beta/eta\n",
    "      cpt=cpt+1\n",
    "    else :\n",
    "      factors=factors_hat\n",
    "      beta_bar=min(1,beta_bar*gamma_bar)\n",
    "      beta=min(beta_bar,gamma*beta)\n",
    "    ########################################\n",
    "    ######### update for next it   #########\n",
    "    ########################################\n",
    "    if(exact_err==True) : F_hat_bf=F_hat_new\n",
    "    else : F_hat_bf=F_hat_new_true\n",
    "    it=it+1\n",
    "    if list_factors==True : list_fac.append(copy.deepcopy(factors))\n",
    "    error.append(F_hat_bf/norm_tensor)\n",
    "    if(error[len(error)-1]<min_err) : min_err=error[len(error)-1] # err update\n",
    "    else : err_it=err_it+1\n",
    "    if time_rec==True : \n",
    "      toc=time.time()\n",
    "      list_time.append(toc-tic)\n",
    "  weights,factors=tl.cp_normalize((None,factors))\n",
    "  if list_factors==True and time_rec==True: return(weights,factors,it,error,cpt/it,list_fac,list_time)\n",
    "  if list_factors==True : return(weights,factors,it,error,cpt/it,list_fac)\n",
    "  if time_rec==True : return(weights,factors,it,error,cpt/it,list_time)\n",
    "  return(weights,factors,it,error,cpt/it)"
   ]
  },
  {
   "cell_type": "code",
   "execution_count": 51,
   "metadata": {
    "id": "s3CuOSBIv5Is"
   },
   "outputs": [],
   "source": [
    "# cpt=0\n",
    "def her_CPRAND(tensor,rank,n_samples,factors=None,exact_err=False,it_max=100,err_it_max=20,tol=1e-5,beta=0.1,eta=2,gamma=1.01,gamma_bar=1.005,list_factors=False,time_rec=False):\n",
    "  beta_bar=1\n",
    "  N=tl.ndim(tensor) # order of tensor\n",
    "  norm_tensor=tl.norm(tensor) # norm of tensor\n",
    "  if list_factors==True : list_fac=[]\n",
    "  if (time_rec==True) : list_time=[]\n",
    "\n",
    "  if (factors==None) : factors=svd_init_fac(tensor,rank)\n",
    "  # Initialization of factor hat matrice by factor matrices\n",
    "  factors_hat=factors\n",
    "  if list_factors==True : list_fac.append(copy.deepcopy(factors))\n",
    "  if time_rec==True : list_err=[]\n",
    "\n",
    "  it=0\n",
    "  err_it=0\n",
    "  cpt=0\n",
    "  ########################################\n",
    "  ######### error initialization #########\n",
    "  ########################################\n",
    "  if(exact_err==False):F_hat_bf,ind_bf=err_rand(tensor,None,factors,n_samples)\n",
    "  else : F_hat_bf=err(tensor,None,factors) # exact cost\n",
    "  rng = tl.random.check_random_state(None)\n",
    "  error=[F_hat_bf/norm_tensor]\n",
    "  min_err=error[len(error)-1]\n",
    "\n",
    "  while (min_err>tol and it<it_max and err_it<err_it_max): \n",
    "    if time_rec==True :tic=time.time()\n",
    "    factors_hat_bf=factors_hat\n",
    "    for n in range(N):\n",
    "      Zs,indices=tl.decomposition.sample_khatri_rao(factors_hat,n_samples,skip_matrix=n,random_state=rng)\n",
    "      indices_list = [i.tolist() for i in indices]\n",
    "      indices_list.insert(n, slice(None, None, None))\n",
    "      indices_list = tuple(indices_list)\n",
    "      V=tl.dot(tl.transpose(Zs),Zs)\n",
    "      # J'ai du mal avec la syntaxe tensor[indices_list],\n",
    "      # Ca renvoie une matrices et non un tenseur?\n",
    "      if (n==0) :sampled_unfolding = tensor[indices_list] \n",
    "      else : sampled_unfolding = tl.transpose(tensor[indices_list])\n",
    "      W=tl.dot(sampled_unfolding,Zs)\n",
    "      factor_bf=factors[n]\n",
    "      # update\n",
    "      factors[n] = tl.transpose(tl.solve(V,tl.transpose(W))) # solve needs a squared full rank matrix, if rank>nb_sampls ok\n",
    "      # if (n==N-1) : F_hat_new=tl.norm(tl.dot(Zs,tl.transpose(factors[n]))-sampled_unfolding,2) # cost update \n",
    "      # extrapolate\n",
    "      factors_hat[n]=factors[n]+beta*(factors[n]-factor_bf)\n",
    "    ########################################\n",
    "    #########      error update    #########\n",
    "    ########################################\n",
    "    if(exact_err==False): \n",
    "      matrices = factors_hat_bf[:-1]\n",
    "      Zs_bf = tl.ones((n_samples, rank), **tl.context(matrices[0]))\n",
    "      for indices, matrix in zip(indices_list, matrices): \n",
    "        Zs_bf = Zs_bf * matrix[indices, :]\n",
    "      V_bf=tl.dot(tl.transpose(Zs_bf),Zs_bf)\n",
    "      W_bf=tl.dot(tl.transpose(tensor[indices_list]),Zs_bf)\n",
    "      F_hat_bf,a= err_rand_fast(tensor,factor_bf,V_bf,W_bf,indices_list,n_samples)\n",
    "      F_hat_new,_= err_rand_fast(tensor,factors[N-1],V,W,indices_list,n_samples) \n",
    "    else :\n",
    "      F_hat_new = err(tensor,None,factors_hat) # exact cost update \n",
    "    if (F_hat_new>F_hat_bf):\n",
    "      factors_hat=factors\n",
    "      beta_bar=beta\n",
    "      beta=beta/eta\n",
    "      cpt=cpt+1\n",
    "    else :\n",
    "      factors=factors_hat\n",
    "      beta_bar=min(1,beta_bar*gamma_bar)\n",
    "      beta=min(beta_bar,gamma*beta)\n",
    "    ########################################\n",
    "    ######### update for next it   #########\n",
    "    ########################################\n",
    "    if(exact_err==True) : F_hat_bf=F_hat_new\n",
    "    it=it+1\n",
    "    if list_factors==True : list_fac.append(copy.deepcopy(factors))\n",
    "    error.append(F_hat_bf/norm_tensor)\n",
    "    if(error[len(error)-1]<min_err) : min_err=error[len(error)-1] # err update\n",
    "    else : err_it=err_it+1\n",
    "    if time_rec==True : \n",
    "      toc=time.time()\n",
    "      list_time.append(toc-tic)\n",
    "  weights,factors=tl.cp_normalize((None,factors))\n",
    "  if list_factors==True and time_rec==True: return(weights,factors,it,error,cpt/it,list_fac,list_time)\n",
    "  if list_factors==True : return(weights,factors,it,error,cpt/it,list_fac)\n",
    "  if time_rec==True : return(weights,factors,it,error,cpt/it,list_time)\n",
    "  return(weights,factors,it,error,cpt/it)"
   ]
  },
  {
   "cell_type": "markdown",
   "metadata": {
    "id": "gvYVQ5Cu5yxr"
   },
   "source": [
    "##### Test her_CPRAND"
   ]
  },
  {
   "cell_type": "code",
   "execution_count": null,
   "metadata": {
    "id": "uz673TZhfNoE"
   },
   "outputs": [],
   "source": [
    "rank=5\n",
    "n_samples=int(10*rank*np.log(rank)+1)\n",
    "A,B,C,noise=init_factors(10,10,10,rank)\n",
    "t=tl.cp_to_tensor((None,[A,B,C]))+noise"
   ]
  },
  {
   "cell_type": "code",
   "execution_count": null,
   "metadata": {
    "colab": {
     "base_uri": "https://localhost:8080/"
    },
    "id": "sgNkNLKBcCg4",
    "outputId": "5f21530c-887f-400c-8b42-32af9354a3bc"
   },
   "outputs": [
    {
     "data": {
      "text/plain": [
       "36"
      ]
     },
     "execution_count": 275,
     "metadata": {
      "tags": []
     },
     "output_type": "execute_result"
    }
   ],
   "source": [
    "weights,factors,it,error,cpt=her_CPRAND(t,rank,n_samples,exact_err=False)\n",
    "it"
   ]
  },
  {
   "cell_type": "code",
   "execution_count": null,
   "metadata": {
    "colab": {
     "base_uri": "https://localhost:8080/"
    },
    "id": "aZdsNIv3fy1L",
    "outputId": "07ca2451-c223-4cd6-e70a-50e2f1ba0263"
   },
   "outputs": [
    {
     "data": {
      "text/plain": [
       "0.0"
      ]
     },
     "execution_count": 276,
     "metadata": {
      "tags": []
     },
     "output_type": "execute_result"
    }
   ],
   "source": [
    "cpt"
   ]
  },
  {
   "cell_type": "code",
   "execution_count": null,
   "metadata": {
    "colab": {
     "base_uri": "https://localhost:8080/"
    },
    "id": "-bT6MXo5fgLU",
    "outputId": "24661c82-c1df-463f-cd61-b020202d4ed5"
   },
   "outputs": [
    {
     "data": {
      "text/plain": [
       "0.00037132606577760044"
      ]
     },
     "execution_count": 166,
     "metadata": {
      "tags": []
     },
     "output_type": "execute_result"
    }
   ],
   "source": [
    "err_true=tl.norm(tl.cp_to_tensor((weights,factors))-t)/tl.norm(t)\n",
    "err_true"
   ]
  },
  {
   "cell_type": "code",
   "execution_count": null,
   "metadata": {
    "colab": {
     "base_uri": "https://localhost:8080/"
    },
    "id": "iLv9g-v6cJ8x",
    "outputId": "9c7dce97-4ece-4c8a-f546-856765149759"
   },
   "outputs": [
    {
     "data": {
      "text/plain": [
       "2.9426164193194584"
      ]
     },
     "execution_count": 167,
     "metadata": {
      "tags": []
     },
     "output_type": "execute_result"
    }
   ],
   "source": [
    "error[len(error)-1]/err_true"
   ]
  },
  {
   "cell_type": "markdown",
   "metadata": {
    "id": "xu8s3QF3RL4a"
   },
   "source": [
    "# Comparaison of algorithms"
   ]
  },
  {
   "cell_type": "code",
   "execution_count": 14,
   "metadata": {
    "id": "BERaQbhovLRR"
   },
   "outputs": [],
   "source": [
    "def sv_scale_to_100(A):\n",
    "  u,d,v=np.linalg.svd(A,full_matrices=False)\n",
    "  scale=99/(d[0]-d[len(d)-1])\n",
    "  for i in range(len(d)) : d[i]=(d[i]-d[len(d)-1])*scale+1\n",
    "  d[len(d)-1]=1\n",
    "  return (u@np.diag(d)@v)"
   ]
  },
  {
   "cell_type": "code",
   "execution_count": 15,
   "metadata": {
    "id": "sVw-MvfXfAG1"
   },
   "outputs": [],
   "source": [
    "def init_factors(I,J,K,r,noise_level=0.001,scale=False) :\n",
    "  A=np.random.normal(0, 1, size=(I, r))\n",
    "  B=np.random.normal(0, 1, size=(J, r))\n",
    "  C=np.random.normal(0, 1, size=(K, r))\n",
    "  noise=np.random.normal(0, noise_level, size=(I,J,K))\n",
    "  if (scale==True) :  \n",
    "    A=sv_scale_to_100(A)\n",
    "    B=sv_scale_to_100(B)\n",
    "    C=sv_scale_to_100(C)\n",
    "  return (A,B,C,noise)"
   ]
  },
  {
   "cell_type": "markdown",
   "metadata": {
    "id": "-47Hx4CP22mG"
   },
   "source": [
    "#### Iterations"
   ]
  },
  {
   "cell_type": "markdown",
   "metadata": {
    "id": "NAyPxi6uVvbz"
   },
   "source": [
    "##### 3 algorithms for 10 random initializations"
   ]
  },
  {
   "cell_type": "code",
   "execution_count": 237,
   "metadata": {
    "id": "PCpEYmYKR45v"
   },
   "outputs": [],
   "source": [
    "# plot the median of data fitting/factors error over nb_rand initializations\n",
    "def comparaison(I,J,K,r,nb_rand,n_samples,exact_err=False,list_factors=False,scale=False):\n",
    "  list_err1=[]\n",
    "  list_err2=[]\n",
    "  list_err3=[]\n",
    "  list_err4=[]\n",
    "  min_e=None\n",
    "  for i in range(nb_rand) : \n",
    "    # Random initialization of a noised cp_tensor\n",
    "    np.random.seed(i)\n",
    "    A,B,C,noise=init_factors(I,J,K,r,scale)\n",
    "    fac_true=[A,B,C]\n",
    "    t=tl.cp_to_tensor((None,fac_true))+noise\n",
    "    norm_tensor=tl.norm(t,2)\n",
    "    if(min_e==None) : min_e=norm_tensor\n",
    "    factors=random_init_fac(t,r)   \n",
    "    if list_factors ==False : \n",
    "      weights4,factors4,it4,error4,cpt=her_CPRAND(t,r,n_samples,factors=copy.deepcopy(factors),exact_err=exact_err,it_max=700,err_it_max=200) \n",
    "      weights1,factors1,it1,error1,cpt=her_Als(t,r,factors=copy.deepcopy(factors),it_max=700,err_it_max=200) \n",
    "      weights3,factors3,it3,error3=CPRAND(t,r,n_samples,factors=copy.deepcopy(factors),exact_err=exact_err,it_max=700,err_it_max=200) \n",
    "      weights2,factors2,it2,error2=als(t,r,factors=copy.deepcopy(factors),it_max=700) \n",
    "      error1=[i * norm_tensor for i in error1]\n",
    "      error2=[i * norm_tensor for i in error2]\n",
    "      error3=[i * norm_tensor for i in error3]\n",
    "      error4=[i * norm_tensor for i in error4]\n",
    "    else : \n",
    "      weights4,factors4,it4,error,cpt,l4=her_CPRAND(t,r,n_samples,factors=copy.deepcopy(factors),exact_err=exact_err,it_max=700,err_it_max=200,list_factors=list_factors) \n",
    "      weights1,factors1,it1,error,cpt,l1=her_Als(t,r,factors=copy.deepcopy(factors),it_max=700,err_it_max=200,list_factors=list_factors) \n",
    "      weights3,factors3,it3,error,l3=CPRAND(t,r,n_samples,factors=copy.deepcopy(factors),exact_err=exact_err,it_max=700,err_it_max=200,list_factors=list_factors) \n",
    "      weights2,factors2,it2,error,l2=als(t,r,factors=copy.deepcopy(factors),it_max=700,list_factors=list_factors) \n",
    "      error1=[err_fac(fac_true,i) for i in l1]\n",
    "      error2=[err_fac(fac_true,i) for i in l2]\n",
    "      error3=[err_fac(fac_true,i) for i in l3]\n",
    "      error4=[err_fac(fac_true,i) for i in l4]\n",
    "    if (min_e>min(min(error1),min(error2),min(error3),min(error4))) : min_e=min(min(error1),min(error2),min(error3),min(error4))\n",
    "    list_err1.append(error1)\n",
    "    list_err2.append(error2)\n",
    "    list_err3.append(error3)\n",
    "    list_err4.append(error4)\n",
    "  n_max1=len(max(list_err1, key=len)) # length of the longest error\n",
    "  n_max2=len(max(list_err2, key=len))\n",
    "  n_max3=len(max(list_err3, key=len))\n",
    "  n_max4=len(max(list_err4, key=len))\n",
    "  mat1=np.array([i + [i[len(i)-1]]*(n_max1-len(i)) for i in list_err1])\n",
    "  mat2=np.array([i + [i[len(i)-1]]*(n_max2-len(i)) for i in list_err2])\n",
    "  mat3=np.array([i + [i[len(i)-1]]*(n_max3-len(i)) for i in list_err3])\n",
    "  mat4=np.array([i + [i[len(i)-1]]*(n_max4-len(i)) for i in list_err4])\n",
    "  mat1=mat1-min_e\n",
    "  mat2=mat2-min_e\n",
    "  mat3=mat3-min_e\n",
    "  mat4=mat4-min_e\n",
    "  # plot\n",
    "\n",
    "  plt.plot(range(n_max1),np.median(mat1, axis=0),'b-',label=\"her_als\") \n",
    "  plt.plot(range(n_max2),np.median(mat2, axis=0),'r-',label=\"als\") \n",
    "  plt.plot(range(n_max3),np.median(mat3, axis=0),'y-',label=\"CPRAND\") \n",
    "  plt.plot(range(n_max4),np.median(mat4, axis=0),'g-',label=\"herCPRAND\") \n",
    "  plt.yscale(\"log\") \n",
    "  plt.xlabel('it')\n",
    "  plt.ylabel('factors error')\n",
    "  plt.legend(loc='best')\n",
    "  plt.title('More complicated case')"
   ]
  },
  {
   "cell_type": "code",
   "execution_count": 232,
   "metadata": {
    "id": "bgi4cr1HgYNj"
   },
   "outputs": [],
   "source": [
    "I=50\n",
    "J=50\n",
    "K=50\n",
    "r=10 # rank\n",
    "n_samples=int(10*r*np.log(r)+1) # nb of randomized samples\n",
    "nb_rand=10 # nb of random initialization"
   ]
  },
  {
   "cell_type": "markdown",
   "metadata": {
    "id": "fZjy9fOHjpu2"
   },
   "source": [
    "##### Simple case"
   ]
  },
  {
   "cell_type": "code",
   "execution_count": 234,
   "metadata": {
    "colab": {
     "base_uri": "https://localhost:8080/",
     "height": 295
    },
    "id": "W34WawUXSW92",
    "outputId": "b3e06c9a-ae0e-4a34-828b-4e9c6ac9e2f2"
   },
   "outputs": [
    {
     "data": {
      "image/png": "[encoded data removed]",
      "text/plain": [
       "<Figure size 432x288 with 1 Axes>"
      ]
     },
     "metadata": {
      "needs_background": "light",
      "tags": []
     },
     "output_type": "display_data"
    }
   ],
   "source": [
    "# data fitting error\n",
    "comparaison(I,J,K,r,nb_rand,n_samples)"
   ]
  },
  {
   "cell_type": "code",
   "execution_count": 236,
   "metadata": {
    "colab": {
     "base_uri": "https://localhost:8080/",
     "height": 295
    },
    "id": "4cMn3VkfScPv",
    "outputId": "1d925924-f3ca-44dc-c28c-a95260731305"
   },
   "outputs": [
    {
     "data": {
      "image/png": "[encoded data removed]",
      "text/plain": [
       "<Figure size 432x288 with 1 Axes>"
      ]
     },
     "metadata": {
      "needs_background": "light",
      "tags": []
     },
     "output_type": "display_data"
    }
   ],
   "source": [
    "# factors error\n",
    "comparaison(I,J,K,r,nb_rand,n_samples,False,list_factors=True)"
   ]
  },
  {
   "cell_type": "markdown",
   "metadata": {
    "id": "4yzZ0w4fkUF0"
   },
   "source": [
    "##### More complicated case"
   ]
  },
  {
   "cell_type": "code",
   "execution_count": 106,
   "metadata": {
    "colab": {
     "base_uri": "https://localhost:8080/",
     "height": 295
    },
    "id": "rzF-R6snklQ7",
    "outputId": "81d33a06-edea-4710-c0e0-5987441e45f0"
   },
   "outputs": [
    {
     "data": {
      "image/png": "[encoded data removed]",
      "text/plain": [
       "<Figure size 432x288 with 1 Axes>"
      ]
     },
     "metadata": {
      "needs_background": "light",
      "tags": []
     },
     "output_type": "display_data"
    }
   ],
   "source": [
    "# data fitting error\n",
    "comparaison(I,J,K,r,nb_rand,n_samples,scale=True)"
   ]
  },
  {
   "cell_type": "code",
   "execution_count": 238,
   "metadata": {
    "colab": {
     "base_uri": "https://localhost:8080/",
     "height": 295
    },
    "id": "oQlcllVDkve-",
    "outputId": "7f6c6916-2f3c-48a7-bba4-5f8f5ea4064f"
   },
   "outputs": [
    {
     "data": {
      "image/png": "[encoded data removed]",
      "text/plain": [
       "<Figure size 432x288 with 1 Axes>"
      ]
     },
     "metadata": {
      "needs_background": "light",
      "tags": []
     },
     "output_type": "display_data"
    }
   ],
   "source": [
    "# factors error\n",
    "comparaison(I,J,K,r,nb_rand,n_samples,False,list_factors=True,scale=True)"
   ]
  },
  {
   "cell_type": "markdown",
   "metadata": {
    "id": "DUViDLWV3A1x"
   },
   "source": [
    "#### Time"
   ]
  },
  {
   "cell_type": "markdown",
   "metadata": {
    "id": "_TDy_z6B8j7Y"
   },
   "source": [
    "##### 3 algorithms for 10 tensors"
   ]
  },
  {
   "cell_type": "code",
   "execution_count": 243,
   "metadata": {
    "id": "NMnerAF48rZg"
   },
   "outputs": [],
   "source": [
    "def compar_time(I,J,K,r,nb_rand,n_samples,exact_err=False,list_factors=False,scale=False):\n",
    "  list_err1=[]\n",
    "  list_time1=[]\n",
    "  list_err2=[]\n",
    "  list_time2=[]\n",
    "  list_err3=[]\n",
    "  list_time3=[]\n",
    "  list_err4=[]\n",
    "  list_time4=[]\n",
    "  min_e=None\n",
    "  for i in range(nb_rand) : \n",
    "    # Random initialization of a noised cp_tensor\n",
    "    np.random.seed(i)\n",
    "    A,B,C,noise=init_factors(I,J,K,r,scale)\n",
    "    fac_true=[A,B,C]\n",
    "    t=tl.cp_to_tensor((None,fac_true))+noise\n",
    "    norm_tensor=tl.norm(t,2)\n",
    "    if(min_e==None) : min_e=norm_tensor\n",
    "    factors=random_init_fac(t,r)\n",
    "    if list_factors ==False : \n",
    "      weights4,factors4,it4,error4,cpt,time4=her_CPRAND(t,r,n_samples,factors=copy.deepcopy(factors),exact_err=exact_err,it_max=700,err_it_max=200,time_rec=True) \n",
    "      weights1,factors1,it1,error1,cpt,time1=her_Als(t,r,factors=copy.deepcopy(factors),it_max=700,err_it_max=200,time_rec=True) \n",
    "      weights3,factors3,it3,error3,time3=CPRAND(t,r,n_samples,factors=copy.deepcopy(factors),exact_err=exact_err,it_max=700,err_it_max=200,time_rec=True) \n",
    "      weights2,factors2,it2,error2,time2=als(t,r,factors=copy.deepcopy(factors),it_max=700,time_rec=True) \n",
    "      error1=[i * norm_tensor for i in error1]\n",
    "      del error1[0]\n",
    "      error2=[i * norm_tensor for i in error2]\n",
    "      del error2[0]\n",
    "      error3=[i * norm_tensor for i in error3]\n",
    "      del error3[0]\n",
    "      error4=[i * norm_tensor for i in error4]\n",
    "      del error4[0]\n",
    "    else : \n",
    "      weights4,factors4,it4,error,cpt,l4,time4=her_CPRAND(t,r,n_samples,factors=copy.deepcopy(factors),exact_err=exact_err,it_max=700,err_it_max=200,list_factors=list_factors,time_rec=True) \n",
    "      weights1,factors1,it1,error,cpt,l1,time1=her_Als(t,r,factors=copy.deepcopy(factors),it_max=700,err_it_max=200,list_factors=list_factors,time_rec=True) \n",
    "      weights3,factors3,it3,error,l3,time3=CPRAND(t,r,n_samples,factors=copy.deepcopy(factors),exact_err=exact_err,it_max=700,err_it_max=200,list_factors=list_factors,time_rec=True) \n",
    "      weights2,factors2,it2,error,l2,time2=als(t,r,factors=copy.deepcopy(factors),it_max=700,list_factors=list_factors,time_rec=True) \n",
    "      error1=[err_fac(fac_true,i) for i in l1]\n",
    "      del error1[0]\n",
    "      error2=[err_fac(fac_true,i) for i in l2]\n",
    "      del error2[0]\n",
    "      error3=[err_fac(fac_true,i) for i in l3]\n",
    "      del error3[0]\n",
    "      error4=[err_fac(fac_true,i) for i in l4]\n",
    "      del error4[0]\n",
    "    if (min_e>min(min(error1),min(error2),min(error3),min(error4))) : min_e=min(min(error1),min(error2),min(error3),min(error4))\n",
    "    list_err1.append(error1)\n",
    "    list_err2.append(error2)\n",
    "    list_err3.append(error3)\n",
    "    list_err4.append(error4)\n",
    "    list_time1.append(time1)\n",
    "    list_time2.append(time2)\n",
    "    list_time3.append(time3)\n",
    "    list_time4.append(time4)\n",
    "  n_max1=len(max(list_err1, key=len)) # length of the longest error\n",
    "  n_max2=len(max(list_err2, key=len))\n",
    "  n_max3=len(max(list_err3, key=len))\n",
    "  n_max4=len(max(list_err4, key=len))\n",
    "  mat1=np.array([i + [i[len(i)-1]]*(n_max1-len(i)) for i in list_err1])\n",
    "  mat2=np.array([i + [i[len(i)-1]]*(n_max2-len(i)) for i in list_err2])\n",
    "  mat3=np.array([i + [i[len(i)-1]]*(n_max3-len(i)) for i in list_err3])\n",
    "  mat4=np.array([i + [i[len(i)-1]]*(n_max4-len(i)) for i in list_err4])\n",
    "  mat1=mat1-min_e\n",
    "  mat2=mat2-min_e\n",
    "  mat3=mat3-min_e\n",
    "  mat4=mat4-min_e\n",
    "\n",
    "  t_max1=len(max(list_time1, key=len))\n",
    "  t_max2=len(max(list_time2, key=len))\n",
    "  t_max3=len(max(list_time3, key=len))\n",
    "  t_max4=len(max(list_time4, key=len))\n",
    "  mat_time1=np.array([i + [0]*(t_max1-len(i)) for i in list_time1])\n",
    "  mat_time2=np.array([i + [0]*(t_max2-len(i)) for i in list_time2])\n",
    "  mat_time3=np.array([i + [0]*(t_max3-len(i)) for i in list_time3])\n",
    "  mat_time4=np.array([i + [0]*(t_max4-len(i)) for i in list_time4])\n",
    "  # plot\n",
    "\n",
    "  plt.plot(np.cumsum(np.median(mat_time1, axis=0)),np.median(mat1, axis=0),'b-',label=\"her als\") \n",
    "  plt.plot(np.cumsum(np.median(mat_time2, axis=0)),np.median(mat2, axis=0),'r-',label=\"als\") \n",
    "  plt.plot(np.cumsum(np.median(mat_time3, axis=0)),np.median(mat3, axis=0),'y-',label=\"CPRAND\") \n",
    "  plt.plot(np.cumsum(np.median(mat_time4, axis=0)),np.median(mat4, axis=0),'g-',label=\"herCPRAND\") \n",
    "  plt.yscale(\"log\") \n",
    "  plt.xlabel('time')\n",
    "  plt.ylabel('factors error')\n",
    "  plt.legend(loc='best')\n",
    "  plt.title('More complicated case')  \n",
    "\n"
   ]
  },
  {
   "cell_type": "markdown",
   "metadata": {
    "id": "vJWAoYYmcmKy"
   },
   "source": [
    "###### Simple case"
   ]
  },
  {
   "cell_type": "code",
   "execution_count": 240,
   "metadata": {
    "colab": {
     "base_uri": "https://localhost:8080/",
     "height": 295
    },
    "id": "Cy8Z4IVRclj6",
    "outputId": "11dee7d7-f1a1-4d88-dee6-f93b5dfe43ae"
   },
   "outputs": [
    {
     "data": {
      "image/png": "[encoded data removed]",
      "text/plain": [
       "<Figure size 432x288 with 1 Axes>"
      ]
     },
     "metadata": {
      "needs_background": "light",
      "tags": []
     },
     "output_type": "display_data"
    }
   ],
   "source": [
    "# data fitting error \n",
    "compar_time(I,J,K,r,nb_rand,n_samples)"
   ]
  },
  {
   "cell_type": "code",
   "execution_count": 110,
   "metadata": {
    "colab": {
     "base_uri": "https://localhost:8080/",
     "height": 295
    },
    "id": "qXKXovhldBYi",
    "outputId": "b856f59c-396e-476d-eb8b-fca488899a25"
   },
   "outputs": [
    {
     "data": {
      "image/png": "[encoded data removed]",
      "text/plain": [
       "<Figure size 432x288 with 1 Axes>"
      ]
     },
     "metadata": {
      "needs_background": "light",
      "tags": []
     },
     "output_type": "display_data"
    }
   ],
   "source": [
    "# factors error \n",
    "compar_time(I,J,K,r,nb_rand,n_samples,list_factors=True)"
   ]
  },
  {
   "cell_type": "markdown",
   "metadata": {
    "id": "d4LxdhE6o5uA"
   },
   "source": [
    "###### More complicated case"
   ]
  },
  {
   "cell_type": "code",
   "execution_count": 242,
   "metadata": {
    "colab": {
     "base_uri": "https://localhost:8080/",
     "height": 295
    },
    "id": "ylbAOQsJo8Dp",
    "outputId": "6f60da1f-86fd-4851-fdba-21687e5490f5"
   },
   "outputs": [
    {
     "data": {
      "image/png": "[encoded data removed]",
      "text/plain": [
       "<Figure size 432x288 with 1 Axes>"
      ]
     },
     "metadata": {
      "needs_background": "light",
      "tags": []
     },
     "output_type": "display_data"
    }
   ],
   "source": [
    "# data fitting error \n",
    "compar_time(I,J,K,r,nb_rand,n_samples,scale=True)"
   ]
  },
  {
   "cell_type": "code",
   "execution_count": 244,
   "metadata": {
    "colab": {
     "base_uri": "https://localhost:8080/",
     "height": 295
    },
    "id": "KkYTI6ldpCOE",
    "outputId": "68becadb-612b-479f-f754-fedd92874075"
   },
   "outputs": [
    {
     "data": {
      "image/png": "[encoded data removed]",
      "text/plain": [
       "<Figure size 432x288 with 1 Axes>"
      ]
     },
     "metadata": {
      "needs_background": "light",
      "tags": []
     },
     "output_type": "display_data"
    }
   ],
   "source": [
    "# factors error \n",
    "compar_time(I,J,K,r,nb_rand,n_samples,list_factors=True,scale=True)"
   ]
  },
  {
   "cell_type": "markdown",
   "metadata": {
    "id": "gqD0x0d3ro-P"
   },
   "source": [
    "# Number of restart"
   ]
  },
  {
   "cell_type": "markdown",
   "metadata": {
    "id": "kBvjEhXbryNy"
   },
   "source": [
    "## Simple case with exact error"
   ]
  },
  {
   "cell_type": "code",
   "execution_count": 118,
   "metadata": {
    "colab": {
     "base_uri": "https://localhost:8080/"
    },
    "id": "um2oupdtrxSL",
    "outputId": "cf5f4fd0-8201-4576-f2db-0f29df3c8718"
   },
   "outputs": [
    {
     "data": {
      "text/plain": [
       "0.4628383887801696"
      ]
     },
     "execution_count": 118,
     "metadata": {
      "tags": []
     },
     "output_type": "execute_result"
    }
   ],
   "source": [
    "list_pct=[]\n",
    "for i in range(nb_rand) : \n",
    "    # Random initialization of a noised cp_tensor\n",
    "    np.random.seed(i)\n",
    "    A,B,C,noise=init_factors(I,J,K,r,scale=False)\n",
    "    t=tl.cp_to_tensor((None,[A,B,C]))+noise\n",
    "    factors=random_init_fac(t,r)\n",
    "    weights,factors,it,error,pct=her_CPRAND(t,r,n_samples,factors=factors,exact_err=True,it_max=700,err_it_max=200) \n",
    "    list_pct.append(pct)\n",
    "median(list_pct)"
   ]
  },
  {
   "cell_type": "markdown",
   "metadata": {
    "id": "lspbbHC6selw"
   },
   "source": [
    "## Simple case with estimated error"
   ]
  },
  {
   "cell_type": "code",
   "execution_count": 117,
   "metadata": {
    "colab": {
     "base_uri": "https://localhost:8080/"
    },
    "id": "3xDtVOkwsgjs",
    "outputId": "759479af-c5ff-4e90-94e9-a3a0157951e5"
   },
   "outputs": [
    {
     "data": {
      "text/plain": [
       "0.0"
      ]
     },
     "execution_count": 117,
     "metadata": {
      "tags": []
     },
     "output_type": "execute_result"
    }
   ],
   "source": [
    "list_pct=[]\n",
    "for i in range(nb_rand) : \n",
    "    # Random initialization of a noised cp_tensor\n",
    "    np.random.seed(i)\n",
    "    A,B,C,noise=init_factors(I,J,K,r,scale=False)\n",
    "    t=tl.cp_to_tensor((None,[A,B,C]))+noise\n",
    "    factors=random_init_fac(t,r)\n",
    "    weights,factors,it,error,pct=her_CPRAND(t,r,n_samples,factors=factors,exact_err=False,it_max=700,err_it_max=200) \n",
    "    list_pct.append(pct)\n",
    "median(list_pct)"
   ]
  },
  {
   "cell_type": "markdown",
   "metadata": {
    "id": "PKsG6HCIs34p"
   },
   "source": [
    "## Complicated case with exact error"
   ]
  },
  {
   "cell_type": "code",
   "execution_count": 115,
   "metadata": {
    "colab": {
     "base_uri": "https://localhost:8080/"
    },
    "id": "p6dEeY2as5sO",
    "outputId": "ecbbd44d-b5e2-4a6f-f6b7-e47350045e12"
   },
   "outputs": [
    {
     "data": {
      "text/plain": [
       "0.03498168498168498"
      ]
     },
     "execution_count": 115,
     "metadata": {
      "tags": []
     },
     "output_type": "execute_result"
    }
   ],
   "source": [
    "list_pct=[]\n",
    "for i in range(nb_rand) : \n",
    "    # Random initialization of a noised cp_tensor\n",
    "    np.random.seed(i)\n",
    "    A,B,C,noise=init_factors(I,J,K,r,scale=True)\n",
    "    t=tl.cp_to_tensor((None,[A,B,C]))+noise\n",
    "    factors=random_init_fac(t,r)\n",
    "    weights,factors,it,error,pct=her_CPRAND(t,r,n_samples,factors=factors,exact_err=True,it_max=700,err_it_max=200) \n",
    "    list_pct.append(pct)\n",
    "median(list_pct)"
   ]
  },
  {
   "cell_type": "markdown",
   "metadata": {
    "id": "xZYSrpXjs1gF"
   },
   "source": [
    "## Complicated case with estimated error"
   ]
  },
  {
   "cell_type": "code",
   "execution_count": 119,
   "metadata": {
    "colab": {
     "base_uri": "https://localhost:8080/"
    },
    "id": "HVEPCS1gsvPo",
    "outputId": "96c3b86e-6ab3-46aa-c834-2dd5ab5b6955"
   },
   "outputs": [
    {
     "data": {
      "text/plain": [
       "0.0"
      ]
     },
     "execution_count": 119,
     "metadata": {
      "tags": []
     },
     "output_type": "execute_result"
    }
   ],
   "source": [
    "list_pct=[]\n",
    "for i in range(nb_rand) : \n",
    "    # Random initialization of a noised cp_tensor\n",
    "    np.random.seed(i)\n",
    "    A,B,C,noise=init_factors(I,J,K,r,scale=True)\n",
    "    t=tl.cp_to_tensor((None,[A,B,C]))+noise\n",
    "    factors=random_init_fac(t,r)\n",
    "    weights,factors,it,error,pct=her_CPRAND(t,r,n_samples,factors=factors,exact_err=False,it_max=700,err_it_max=200) \n",
    "    list_pct.append(pct)\n",
    "median(list_pct)"
   ]
  },
  {
   "cell_type": "markdown",
   "metadata": {
    "id": "U5SSS7kttpvs"
   },
   "source": [
    "# Real data"
   ]
  },
  {
   "cell_type": "code",
   "execution_count": null,
   "metadata": {
    "id": "m6HN3EaSwidn"
   },
   "outputs": [],
   "source": [
    "from google.colab import files\n",
    "files.upload()"
   ]
  },
  {
   "cell_type": "code",
   "execution_count": 205,
   "metadata": {
    "id": "LRbEgJANwWtA"
   },
   "outputs": [],
   "source": [
    "import scipy.io\n",
    "mat = scipy.io.loadmat(\"amino.mat\")"
   ]
  },
  {
   "cell_type": "code",
   "execution_count": 216,
   "metadata": {
    "id": "mhSB1NY44A73"
   },
   "outputs": [],
   "source": [
    "X=mat['X']"
   ]
  },
  {
   "cell_type": "code",
   "execution_count": 220,
   "metadata": {
    "id": "XmhuifJ14DSd"
   },
   "outputs": [],
   "source": [
    "X=np.reshape(X,(5,201,61))"
   ]
  },
  {
   "cell_type": "code",
   "execution_count": 223,
   "metadata": {
    "id": "bl9OTltT5I5x"
   },
   "outputs": [],
   "source": [
    "t=tl.tensor(X)"
   ]
  },
  {
   "cell_type": "markdown",
   "metadata": {
    "id": "czata5tZ8rvX"
   },
   "source": [
    "## it"
   ]
  },
  {
   "cell_type": "code",
   "execution_count": 230,
   "metadata": {
    "colab": {
     "base_uri": "https://localhost:8080/",
     "height": 313
    },
    "id": "IgdpzMLF5X-a",
    "outputId": "5f70c0ba-1c11-419e-8a36-9acbc901263a"
   },
   "outputs": [
    {
     "data": {
      "text/plain": [
       "Text(0.5, 1.0, 'Real data')"
      ]
     },
     "execution_count": 230,
     "metadata": {
      "tags": []
     },
     "output_type": "execute_result"
    },
    {
     "data": {
      "image/png": "[encoded data removed]",
      "text/plain": [
       "<Figure size 432x288 with 1 Axes>"
      ]
     },
     "metadata": {
      "needs_background": "light",
      "tags": []
     },
     "output_type": "display_data"
    }
   ],
   "source": [
    "exact_err=False\n",
    "r=3\n",
    "n_samples=int(10*r*np.log(r)+1)\n",
    "list_err1=[]\n",
    "list_err2=[]\n",
    "list_err3=[]\n",
    "list_err4=[]\n",
    "min_e=None\n",
    "for i in range(nb_rand) : \n",
    "  # Random initialization of a noised cp_tensor\n",
    "  norm_tensor=tl.norm(t,2)\n",
    "  if(min_e==None) : min_e=norm_tensor\n",
    "  factors=random_init_fac(t,r)   \n",
    "\n",
    "  weights4,factors4,it4,error4,cpt=her_CPRAND(t,r,n_samples,factors=copy.deepcopy(factors),exact_err=exact_err,it_max=700,err_it_max=200) \n",
    "  weights1,factors1,it1,error1,cpt=her_Als(t,r,factors=copy.deepcopy(factors),it_max=700,err_it_max=200) \n",
    "  weights3,factors3,it3,error3=CPRAND(t,r,n_samples,factors=copy.deepcopy(factors),exact_err=exact_err,it_max=700,err_it_max=200) \n",
    "  weights2,factors2,it2,error2=als(t,r,factors=copy.deepcopy(factors),it_max=700) \n",
    "  error1=[i * norm_tensor for i in error1]\n",
    "  error2=[i * norm_tensor for i in error2]\n",
    "  error3=[i * norm_tensor for i in error3]\n",
    "  error4=[i * norm_tensor for i in error4]\n",
    "\n",
    "  if (min_e>min(min(error1),min(error2),min(error3),min(error4))) : min_e=min(min(error1),min(error2),min(error3),min(error4))\n",
    "  list_err1.append(error1)\n",
    "  list_err2.append(error2)\n",
    "  list_err3.append(error3)\n",
    "  list_err4.append(error4)\n",
    "n_max1=len(max(list_err1, key=len)) # length of the longest error\n",
    "n_max2=len(max(list_err2, key=len))\n",
    "n_max3=len(max(list_err3, key=len))\n",
    "n_max4=len(max(list_err4, key=len))\n",
    "mat1=np.array([i + [i[len(i)-1]]*(n_max1-len(i)) for i in list_err1])\n",
    "mat2=np.array([i + [i[len(i)-1]]*(n_max2-len(i)) for i in list_err2])\n",
    "mat3=np.array([i + [i[len(i)-1]]*(n_max3-len(i)) for i in list_err3])\n",
    "mat4=np.array([i + [i[len(i)-1]]*(n_max4-len(i)) for i in list_err4])\n",
    "mat1=mat1-min_e\n",
    "mat2=mat2-min_e\n",
    "mat3=mat3-min_e\n",
    "mat4=mat4-min_e\n",
    "# plot\n",
    "\n",
    "plt.plot(range(n_max1),np.median(mat1, axis=0),'b-',label=\"her_als\") \n",
    "plt.plot(range(n_max2),np.median(mat2, axis=0),'r-',label=\"als\") \n",
    "plt.plot(range(n_max3),np.median(mat3, axis=0),'y-',label=\"CPRAND\") \n",
    "plt.plot(range(n_max4),np.median(mat4, axis=0),'g-',label=\"herCPRAND\") \n",
    "plt.yscale(\"log\") \n",
    "plt.xlabel('it')\n",
    "plt.ylabel('data fitting error')\n",
    "plt.legend(loc='best')\n",
    "plt.title('Real data')"
   ]
  },
  {
   "cell_type": "markdown",
   "metadata": {
    "id": "Qzkyktai8waX"
   },
   "source": [
    "## time"
   ]
  },
  {
   "cell_type": "code",
   "execution_count": 231,
   "metadata": {
    "colab": {
     "base_uri": "https://localhost:8080/",
     "height": 313
    },
    "id": "o4QqM9u_6-D9",
    "outputId": "03fe1a8b-6817-42b1-8cd7-3d2e21950646"
   },
   "outputs": [
    {
     "data": {
      "text/plain": [
       "Text(0.5, 1.0, 'Real data')"
      ]
     },
     "execution_count": 231,
     "metadata": {
      "tags": []
     },
     "output_type": "execute_result"
    },
    {
     "data": {
      "image/png": "[encoded data removed]",
      "text/plain": [
       "<Figure size 432x288 with 1 Axes>"
      ]
     },
     "metadata": {
      "needs_background": "light",
      "tags": []
     },
     "output_type": "display_data"
    }
   ],
   "source": [
    "list_err1=[]\n",
    "list_time1=[]\n",
    "list_err2=[]\n",
    "list_time2=[]\n",
    "list_err3=[]\n",
    "list_time3=[]\n",
    "list_err4=[]\n",
    "list_time4=[]\n",
    "min_e=None\n",
    "for i in range(nb_rand) : \n",
    " \n",
    "  norm_tensor=tl.norm(t,2)\n",
    "  if(min_e==None) : min_e=norm_tensor\n",
    "  factors=random_init_fac(t,r)\n",
    "\n",
    "  weights4,factors4,it4,error4,cpt,time4=her_CPRAND(t,r,n_samples,factors=copy.deepcopy(factors),exact_err=exact_err,it_max=700,err_it_max=200,time_rec=True) \n",
    "  weights1,factors1,it1,error1,cpt,time1=her_Als(t,r,factors=copy.deepcopy(factors),it_max=700,err_it_max=200,time_rec=True) \n",
    "  weights3,factors3,it3,error3,time3=CPRAND(t,r,n_samples,factors=copy.deepcopy(factors),exact_err=exact_err,it_max=700,err_it_max=200,time_rec=True) \n",
    "  weights2,factors2,it2,error2,time2=als(t,r,factors=copy.deepcopy(factors),it_max=700,time_rec=True) \n",
    "  error1=[i * norm_tensor for i in error1]\n",
    "  del error1[0]\n",
    "  error2=[i * norm_tensor for i in error2]\n",
    "  del error2[0]\n",
    "  error3=[i * norm_tensor for i in error3]\n",
    "  del error3[0]\n",
    "  error4=[i * norm_tensor for i in error4]\n",
    "  del error4[0]\n",
    "  \n",
    "  if (min_e>min(min(error1),min(error2),min(error3),min(error4))) : min_e=min(min(error1),min(error2),min(error3),min(error4))\n",
    "  list_err1.append(error1)\n",
    "  list_err2.append(error2)\n",
    "  list_err3.append(error3)\n",
    "  list_err4.append(error4)\n",
    "  list_time1.append(time1)\n",
    "  list_time2.append(time2)\n",
    "  list_time3.append(time3)\n",
    "  list_time4.append(time4)\n",
    "n_max1=len(max(list_err1, key=len)) # length of the longest error\n",
    "n_max2=len(max(list_err2, key=len))\n",
    "n_max3=len(max(list_err3, key=len))\n",
    "n_max4=len(max(list_err4, key=len))\n",
    "mat1=np.array([i + [i[len(i)-1]]*(n_max1-len(i)) for i in list_err1])\n",
    "mat2=np.array([i + [i[len(i)-1]]*(n_max2-len(i)) for i in list_err2])\n",
    "mat3=np.array([i + [i[len(i)-1]]*(n_max3-len(i)) for i in list_err3])\n",
    "mat4=np.array([i + [i[len(i)-1]]*(n_max4-len(i)) for i in list_err4])\n",
    "mat1=mat1-min_e\n",
    "mat2=mat2-min_e\n",
    "mat3=mat3-min_e\n",
    "mat4=mat4-min_e\n",
    "\n",
    "t_max1=len(max(list_time1, key=len))\n",
    "t_max2=len(max(list_time2, key=len))\n",
    "t_max3=len(max(list_time3, key=len))\n",
    "t_max4=len(max(list_time4, key=len))\n",
    "mat_time1=np.array([i + [0]*(t_max1-len(i)) for i in list_time1])\n",
    "mat_time2=np.array([i + [0]*(t_max2-len(i)) for i in list_time2])\n",
    "mat_time3=np.array([i + [0]*(t_max3-len(i)) for i in list_time3])\n",
    "mat_time4=np.array([i + [0]*(t_max4-len(i)) for i in list_time4])\n",
    "# plot\n",
    "\n",
    "plt.plot(np.cumsum(np.median(mat_time1, axis=0)),np.median(mat1, axis=0),'b-',label=\"her als\") \n",
    "plt.plot(np.cumsum(np.median(mat_time2, axis=0)),np.median(mat2, axis=0),'r-',label=\"als\") \n",
    "plt.plot(np.cumsum(np.median(mat_time3, axis=0)),np.median(mat3, axis=0),'y-',label=\"CPRAND\") \n",
    "plt.plot(np.cumsum(np.median(mat_time4, axis=0)),np.median(mat4, axis=0),'g-',label=\"herCPRAND\") \n",
    "plt.yscale(\"log\") \n",
    "plt.xlabel('time')\n",
    "plt.ylabel('Data fitting error')\n",
    "plt.legend(loc='best')\n",
    "plt.title('Real data')"
   ]
  }
 ],
 "metadata": {
  "colab": {
   "collapsed_sections": [
    "HlpS-9tXIrlt",
    "fZjy9fOHjpu2",
    "4yzZ0w4fkUF0",
    "gqD0x0d3ro-P",
    "kBvjEhXbryNy",
    "lspbbHC6selw",
    "czata5tZ8rvX",
    "Qzkyktai8waX"
   ],
   "name": "PIRS7(3).ipynb",
   "provenance": []
  },
  "kernelspec": {
   "display_name": "Python 3",
   "language": "python",
   "name": "python3"
  },
  "language_info": {
   "codemirror_mode": {
    "name": "ipython",
    "version": 3
   },
   "file_extension": ".py",
   "mimetype": "text/x-python",
   "name": "python",
   "nbconvert_exporter": "python",
   "pygments_lexer": "ipython3",
   "version": "3.7.4"
  }
 },
 "nbformat": 4,
 "nbformat_minor": 1
}
