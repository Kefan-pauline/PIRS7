{
 "cells": [
  {
   "cell_type": "markdown",
   "metadata": {
    "id": "vr-gtvgUV0X-"
   },
   "source": [
    "# MAJ : \n",
    "1. Ajout de la foncton err_fac (dans la section Decomposition - ALS), test avec des cp_tensor, err=1.2\n",
    "2. Ajout des fonctions her_Als et CPRAND (dans la section Decomposition)\n",
    "3. Section Comparaison of algorithms\n",
    "4. her_CPRAND : modifier la position où on normalise les factors, sinon erreurs oscillent.\n",
    "5. Section Decomposition - her-CPRAND - param_research\n",
    "\n",
    "Questions : \n",
    "1. CPRAND data fitting error ne fait que diminuer ? \n",
    "2. her-Als marche moins bien?\n"
   ]
  },
  {
   "cell_type": "code",
   "execution_count": 1,
   "metadata": {
    "colab": {
     "base_uri": "https://localhost:8080/"
    },
    "id": "wPqhk22PpS8P",
    "outputId": "57734af1-b200-4e93-a42b-301e89bae5db"
   },
   "outputs": [
    {
     "name": "stdout",
     "output_type": "stream",
     "text": [
      "Collecting tensorly\n",
      "  Downloading https://files.pythonhosted.org/packages/d2/14/a399fbea0b8e651bfdcba0cf96e842550204dc2ff24251015fd969b6adec/tensorly-0.5.0.tar.gz (103kB)\n",
      "Requirement already satisfied, skipping upgrade: numpy in c:\\users\\sunkefan1997\\anaconda\\lib\\site-packages (from tensorly) (1.16.5)\n",
      "Requirement already satisfied, skipping upgrade: scipy in c:\\users\\sunkefan1997\\anaconda\\lib\\site-packages (from tensorly) (1.3.1)\n",
      "Requirement already satisfied, skipping upgrade: nose in c:\\users\\sunkefan1997\\anaconda\\lib\\site-packages (from tensorly) (1.3.7)\n",
      "Building wheels for collected packages: tensorly\n",
      "  Building wheel for tensorly (setup.py): started\n",
      "  Building wheel for tensorly (setup.py): finished with status 'done'\n",
      "  Created wheel for tensorly: filename=tensorly-0.5.0-cp37-none-any.whl size=143031 sha256=e9c73eac8312aea0103c98e4dce8e2c5e3ff616a0c4cb371054e3c86b1911ea3\n",
      "  Stored in directory: C:\\Users\\sunkefan1997\\AppData\\Local\\pip\\Cache\\wheels\\29\\54\\bc\\46d12f7739ad709844b21801e3a91127bc91002111448e3572\n",
      "Successfully built tensorly\n",
      "Installing collected packages: tensorly\n",
      "Successfully installed tensorly-0.5.0\n",
      "Note: you may need to restart the kernel to use updated packages.\n"
     ]
    }
   ],
   "source": [
    "pip install -U tensorly"
   ]
  },
  {
   "cell_type": "code",
   "execution_count": 2,
   "metadata": {
    "id": "vgIKe3ZhpeCO"
   },
   "outputs": [],
   "source": [
    "import numpy as np"
   ]
  },
  {
   "cell_type": "code",
   "execution_count": 3,
   "metadata": {
    "id": "qql9Eberh_jX"
   },
   "outputs": [],
   "source": [
    "import tensorly as tl"
   ]
  },
  {
   "cell_type": "code",
   "execution_count": 4,
   "metadata": {
    "id": "9ojNuF8jlp1e"
   },
   "outputs": [],
   "source": [
    "import matplotlib.pyplot as plt"
   ]
  },
  {
   "cell_type": "code",
   "execution_count": 5,
   "metadata": {
    "id": "OoeRDG2uBhSY"
   },
   "outputs": [],
   "source": [
    "from tensorly.decomposition import parafac"
   ]
  },
  {
   "cell_type": "code",
   "execution_count": 6,
   "metadata": {
    "id": "3MMLhyosL_fd"
   },
   "outputs": [],
   "source": [
    "from tensorly.decomposition import sample_khatri_rao"
   ]
  },
  {
   "cell_type": "code",
   "execution_count": 7,
   "metadata": {
    "id": "sbeq9IvcGvNE"
   },
   "outputs": [],
   "source": [
    "from scipy.optimize import linear_sum_assignment"
   ]
  },
  {
   "cell_type": "markdown",
   "metadata": {
    "id": "8_RTreV8qTT8"
   },
   "source": [
    "# Basic operations"
   ]
  },
  {
   "cell_type": "markdown",
   "metadata": {
    "id": "HeOKykNzthXB"
   },
   "source": [
    "### Creation of tensors"
   ]
  },
  {
   "cell_type": "code",
   "execution_count": 13,
   "metadata": {
    "id": "W_U-YtKOqYSa"
   },
   "outputs": [],
   "source": [
    "# create a random 3x3x3 tensor\n",
    "t_rand = np.random.random((3, 3, 3))"
   ]
  },
  {
   "cell_type": "code",
   "execution_count": 17,
   "metadata": {
    "id": "T5G348pr86Nd"
   },
   "outputs": [],
   "source": [
    "# create a kruskal tensor\n",
    "# factor matrices\n",
    "A=np.arange(9).reshape(3,3)\n",
    "B=np.arange(6).reshape(2,3)+9\n",
    "C=np.arange(6).reshape(2,3)+15\n",
    "factors=[]\n",
    "factors+=[A]\n",
    "factors+=[B]\n",
    "factors+=[C]\n",
    "t_krus = tl.cp_to_tensor((None,factors))\n",
    "weights_cp,factors_cp=tl.cp_normalize((None,factors))"
   ]
  },
  {
   "cell_type": "code",
   "execution_count": 18,
   "metadata": {
    "colab": {
     "base_uri": "https://localhost:8080/"
    },
    "id": "Lz5Md77p7Kvr",
    "outputId": "7f9f03e3-d0b8-4ba7-ae82-394e22354363"
   },
   "outputs": [
    {
     "data": {
      "text/plain": [
       "array([[[ 534,  630],\n",
       "        [ 684,  807]],\n",
       "\n",
       "       [[1980, 2346],\n",
       "        [2562, 3036]],\n",
       "\n",
       "       [[3426, 4062],\n",
       "        [4440, 5265]]])"
      ]
     },
     "execution_count": 18,
     "metadata": {},
     "output_type": "execute_result"
    }
   ],
   "source": [
    "t_krus"
   ]
  },
  {
   "cell_type": "markdown",
   "metadata": {
    "id": "HlpS-9tXIrlt"
   },
   "source": [
    "# Decomposition"
   ]
  },
  {
   "cell_type": "markdown",
   "metadata": {
    "id": "JODkeWzrJHZW"
   },
   "source": [
    "### ALS"
   ]
  },
  {
   "cell_type": "code",
   "execution_count": 10,
   "metadata": {
    "id": "gKJc6YJPKZzl"
   },
   "outputs": [],
   "source": [
    "# stopping criteria \n",
    "def err(tensor,weight,factors): \n",
    "  t_tilde=tl.kruskal_to_tensor((weight,factors)) # transform tensor decomposition (kruskal tensor) to tensor\n",
    "  return(tl.norm(tensor-t_tilde))"
   ]
  },
  {
   "cell_type": "code",
   "execution_count": 11,
   "metadata": {
    "id": "eAXDMEj2H3DJ"
   },
   "outputs": [],
   "source": [
    "def err_fac(fac,fac_est) :\n",
    "  weights,fac=tl.cp_normalize((None,fac))\n",
    "  weights_est,fac_est=tl.cp_normalize((None,fac_est))\n",
    "  err=0\n",
    "  for i in range(len(fac)):\n",
    "    row_ind, col_ind = linear_sum_assignment(-np.dot(np.transpose(fac[i]),fac_est[i]))\n",
    "    err=err+(tl.norm(fac[i]-fac_est[i][:,col_ind])/tl.norm(fac[i]))\n",
    "  return(err/len(fac))"
   ]
  },
  {
   "cell_type": "code",
   "execution_count": 12,
   "metadata": {
    "id": "f-2qmNUpIuRZ"
   },
   "outputs": [],
   "source": [
    "# ALS method to compute tensor decomposition\n",
    "def als(tensor,rank,it_max=100,tol=1e-5,list_factors=False):\n",
    "  N=tl.ndim(tensor) # order of tensor\n",
    "  norm_tensor=tl.norm(tensor) # norm of tensor\n",
    "  factors=[] # factor matrices\n",
    "  if list_factors==True : list_fac=[] # list of factor matrices\n",
    "  # Initializtion of factor matrices by left singular vectors\n",
    "  for mode in range(N):\n",
    "    unfolded=tl.unfold(tensor, mode)\n",
    "    if rank<=tl.shape(tensor)[mode] : \n",
    "      u,s,v=tl.partial_svd(unfolded,n_eigenvecs=rank) # first rank eigenvectors/values (ascendent)\n",
    "    else : \n",
    "      u,s,v=tl.partial_svd(unfolded,n_eigenvecs=tl.shape(tensor)[mode]) \n",
    "      u=np.append(u,np.random.random((np.shape(u)[0],rank-tl.shape(tensor)[mode])),axis=1)  # sometimes we have singular matrix error\n",
    "    factors+=[u]\n",
    "  weights,factors=tl.cp_tensor.cp_normalize((None,factors)) # normalise factor matrices\n",
    "  if list_factors==True : list_fac.append(factors)\n",
    "  it=0\n",
    "  error=[err(tensor,weights,factors)/norm_tensor]\n",
    "  while (error[len(error)-1]>tol and it<it_max): \n",
    "    for n in range(N):\n",
    "      V=np.ones((rank,rank))\n",
    "      for i in range(len(factors)):\n",
    "        if i != n : V=V*tl.dot(tl.transpose(factors[i]),factors[i])\n",
    "      W=tl.cp_tensor.unfolding_dot_khatri_rao(tensor, (None,factors), n) # do I need to reverse factors ? --> no deja bon ordre (même matricization que dans le chapitre)\n",
    "      factors[n]= tl.transpose(tl.solve(tl.transpose(V),tl.transpose(W)))\n",
    "    weights,factors=tl.cp_tensor.cp_normalize((None,factors))\n",
    "    if list_factors==True : list_fac.append(factors)\n",
    "    it=it+1\n",
    "    error.append(err(tensor,weights,factors)/norm_tensor)\n",
    "  if list_factors==True : return(weights,factors,it,error,list_fac)\n",
    "  return(weights,factors,it,error)"
   ]
  },
  {
   "cell_type": "markdown",
   "metadata": {
    "id": "1FQaVrZQ5mHj"
   },
   "source": [
    "#### Test"
   ]
  },
  {
   "cell_type": "code",
   "execution_count": null,
   "metadata": {
    "colab": {
     "base_uri": "https://localhost:8080/"
    },
    "id": "iI1KcXURSP9F",
    "outputId": "3e0eedda-8f8a-44ef-91b7-e307500974f3"
   },
   "outputs": [
    {
     "data": {
      "text/plain": [
       "19.52482738830653"
      ]
     },
     "execution_count": 9,
     "metadata": {
      "tags": []
     },
     "output_type": "execute_result"
    }
   ],
   "source": [
    "# test err\n",
    "tensor=tl.tensor(np.arange(12,dtype='d').reshape((3, 2, 2)))\n",
    "err(tensor,None,factors) # with factors of t_krus"
   ]
  },
  {
   "cell_type": "markdown",
   "metadata": {
    "id": "pP0QZ5_TQ-6a"
   },
   "source": [
    "##### Test als random tensor"
   ]
  },
  {
   "cell_type": "code",
   "execution_count": 105,
   "metadata": {
    "colab": {
     "base_uri": "https://localhost:8080/"
    },
    "id": "M2QEzhOvMYiI",
    "outputId": "0ab54fc8-e8e6-413c-9280-254676cd2072"
   },
   "outputs": [
    {
     "data": {
      "text/plain": [
       "array([[[0.19322252, 0.77354543, 0.56612688],\n",
       "        [0.53655902, 0.75110155, 0.53331251],\n",
       "        [0.34254872, 0.94794514, 0.30782572]],\n",
       "\n",
       "       [[0.88927612, 0.32086305, 0.88934069],\n",
       "        [0.99006478, 0.69371326, 0.31465987],\n",
       "        [0.02076603, 0.99288277, 0.69069182]],\n",
       "\n",
       "       [[0.3375135 , 0.41164169, 0.77131647],\n",
       "        [0.6904317 , 0.1009562 , 0.46599602],\n",
       "        [0.08411324, 0.98959391, 0.42269264]]])"
      ]
     },
     "execution_count": 105,
     "metadata": {
      "tags": []
     },
     "output_type": "execute_result"
    }
   ],
   "source": [
    "# test als with a random tensor, rank = 3 (order)\n",
    "weights,factors,it,error=als(t_rand,3)\n",
    "tl.kruskal_to_tensor((weights,factors))"
   ]
  },
  {
   "cell_type": "code",
   "execution_count": null,
   "metadata": {
    "colab": {
     "base_uri": "https://localhost:8080/"
    },
    "id": "mIMG96oSK0sU",
    "outputId": "752baee0-3959-45b3-b800-9b67fa92fa9a"
   },
   "outputs": [
    {
     "data": {
      "text/plain": [
       "array([[[-0.03241677,  0.61279207,  0.70886661],\n",
       "        [ 0.46115924,  0.53563678,  0.86173867],\n",
       "        [ 0.90194071,  0.72276686,  0.60356948]],\n",
       "\n",
       "       [[ 0.996882  ,  0.90382069,  0.30767755],\n",
       "        [ 0.37957336,  0.28732192,  0.92421589],\n",
       "        [ 0.10219771,  0.23627233,  0.63526964]],\n",
       "\n",
       "       [[ 0.84400725,  0.87810977,  0.88670026],\n",
       "        [ 0.65039937,  0.90023297,  0.09543731],\n",
       "        [ 0.47748812,  0.68628132,  0.28001158]]])"
      ]
     },
     "execution_count": 138,
     "metadata": {
      "tags": []
     },
     "output_type": "execute_result"
    }
   ],
   "source": [
    "# compare with parafac in tensorly\n",
    "kt=parafac(t_rand,3)\n",
    "tl.kruskal_to_tensor(kt)"
   ]
  },
  {
   "cell_type": "code",
   "execution_count": null,
   "metadata": {
    "colab": {
     "base_uri": "https://localhost:8080/"
    },
    "id": "-wpLlIgvDdXc",
    "outputId": "0528d7de-2dc1-44f6-8a99-e88c2e3dcdc6"
   },
   "outputs": [
    {
     "data": {
      "text/plain": [
       "array([[[0.01594988, 0.53863851, 0.74314515],\n",
       "        [0.35051446, 0.68047374, 0.91021337],\n",
       "        [0.98084704, 0.57280514, 0.58977904]],\n",
       "\n",
       "       [[0.97079119, 0.98316417, 0.31039431],\n",
       "        [0.30055351, 0.34178026, 0.99367175],\n",
       "        [0.09711228, 0.21961374, 0.49048895]],\n",
       "\n",
       "       [[0.95799804, 0.76798269, 0.86040398],\n",
       "        [0.54264035, 0.84422842, 0.1197907 ],\n",
       "        [0.50225161, 0.89019987, 0.2449824 ]]])"
      ]
     },
     "execution_count": 139,
     "metadata": {
      "tags": []
     },
     "output_type": "execute_result"
    }
   ],
   "source": [
    "# compare with the initial tensor\n",
    "t_rand"
   ]
  },
  {
   "cell_type": "code",
   "execution_count": null,
   "metadata": {
    "colab": {
     "base_uri": "https://localhost:8080/"
    },
    "id": "-bIyq42LB-rw",
    "outputId": "40b86f5e-b3dd-46e7-c8d1-28dd6738d575"
   },
   "outputs": [
    {
     "data": {
      "text/plain": [
       "array([[[0.01594988, 0.53863851, 0.74314515],\n",
       "        [0.35051446, 0.68047374, 0.91021337],\n",
       "        [0.98084704, 0.57280514, 0.58977904]],\n",
       "\n",
       "       [[0.97079119, 0.98316417, 0.31039431],\n",
       "        [0.30055351, 0.34178026, 0.99367175],\n",
       "        [0.09711228, 0.21961374, 0.49048895]],\n",
       "\n",
       "       [[0.95799804, 0.76798269, 0.86040398],\n",
       "        [0.54264035, 0.84422842, 0.1197907 ],\n",
       "        [0.50225161, 0.89019987, 0.2449824 ]]])"
      ]
     },
     "execution_count": 142,
     "metadata": {
      "tags": []
     },
     "output_type": "execute_result"
    }
   ],
   "source": [
    "# test als with a random tensor, rank = 100\n",
    "weights,factors,it,error=als(t_rand,100)\n",
    "tl.kruskal_to_tensor((weights,factors))"
   ]
  },
  {
   "cell_type": "markdown",
   "metadata": {
    "id": "2z51Ooy3RE0r"
   },
   "source": [
    "##### Test als cp tensor"
   ]
  },
  {
   "cell_type": "code",
   "execution_count": 19,
   "metadata": {
    "colab": {
     "base_uri": "https://localhost:8080/"
    },
    "id": "i7HJlZRNCSfl",
    "outputId": "009f4c32-49a4-4e4c-db31-611b6febe17a"
   },
   "outputs": [
    {
     "data": {
      "text/plain": [
       "2"
      ]
     },
     "execution_count": 19,
     "metadata": {},
     "output_type": "execute_result"
    }
   ],
   "source": [
    "# test als with the Kurskal tensor in section Basic operations\n",
    "weights,factors,it,error,l=als(t_krus,3,list_factors=True)\n",
    "it"
   ]
  },
  {
   "cell_type": "code",
   "execution_count": 20,
   "metadata": {
    "colab": {
     "base_uri": "https://localhost:8080/"
    },
    "id": "0_8gtRuXIMIY",
    "outputId": "a5fec50c-1c7b-4c09-8705-9ee5ba5999b5"
   },
   "outputs": [
    {
     "data": {
      "text/plain": [
       "array([[[ 533.98796457,  630.0095696 ],\n",
       "        [ 684.00032554,  806.99974116]],\n",
       "\n",
       "       [[1980.01846365, 2345.9853192 ],\n",
       "        [2561.98281253, 3036.01366609]],\n",
       "\n",
       "       [[3426.04896272, 4061.9610688 ],\n",
       "        [4439.96529952, 5265.02759102]]])"
      ]
     },
     "execution_count": 20,
     "metadata": {},
     "output_type": "execute_result"
    }
   ],
   "source": [
    "tl.kruskal_to_tensor((weights,factors))"
   ]
  },
  {
   "cell_type": "code",
   "execution_count": 21,
   "metadata": {
    "colab": {
     "base_uri": "https://localhost:8080/"
    },
    "id": "KrQkFswpIKYd",
    "outputId": "ca69f22f-ff59-41c1-ac4d-634c37cb383d"
   },
   "outputs": [
    {
     "data": {
      "text/plain": [
       "array([[[ 534,  630],\n",
       "        [ 684,  807]],\n",
       "\n",
       "       [[1980, 2346],\n",
       "        [2562, 3036]],\n",
       "\n",
       "       [[3426, 4062],\n",
       "        [4440, 5265]]])"
      ]
     },
     "execution_count": 21,
     "metadata": {},
     "output_type": "execute_result"
    }
   ],
   "source": [
    "# compare with the initial tensor\n",
    "t_krus"
   ]
  },
  {
   "cell_type": "markdown",
   "metadata": {
    "id": "gOtSFomrJIPQ"
   },
   "source": [
    "We obtain the same tensor, but not the same decomposition (weights and factors are different from the definition of t_krus), because of permutation and normalization."
   ]
  },
  {
   "cell_type": "code",
   "execution_count": 23,
   "metadata": {
    "colab": {
     "base_uri": "https://localhost:8080/"
    },
    "id": "1uxWMw_O5uFN",
    "outputId": "a749fdf1-a2fc-4af9-9ec0-3bc4607532e6"
   },
   "outputs": [
    {
     "data": {
      "text/plain": [
       "1.2842831034770532"
      ]
     },
     "execution_count": 23,
     "metadata": {},
     "output_type": "execute_result"
    }
   ],
   "source": [
    "# Test err_fac\n",
    "err_fac(factors_cp,factors)"
   ]
  },
  {
   "cell_type": "code",
   "execution_count": 24,
   "metadata": {
    "id": "9sol0y1FM-Kp"
   },
   "outputs": [],
   "source": [
    "# with another random cp_tensor\n",
    "A=np.random.random((3, 3))\n",
    "B=np.random.random((2, 3))\n",
    "C=np.random.random((2, 3))\n",
    "factors=[]\n",
    "factors+=[A]\n",
    "factors+=[B]\n",
    "factors+=[C]\n",
    "t_krus = tl.cp_to_tensor((None,factors))\n",
    "weights_cp,factors_cp=tl.cp_normalize((None,factors))"
   ]
  },
  {
   "cell_type": "code",
   "execution_count": 25,
   "metadata": {
    "colab": {
     "base_uri": "https://localhost:8080/"
    },
    "id": "JLGSBiTkOmcn",
    "outputId": "4b7ccd0f-2ada-4a5e-8b8e-fb63e398b849"
   },
   "outputs": [
    {
     "data": {
      "text/plain": [
       "100"
      ]
     },
     "execution_count": 25,
     "metadata": {},
     "output_type": "execute_result"
    }
   ],
   "source": [
    "weights,factors,it,error=als(t_krus,3)\n",
    "it"
   ]
  },
  {
   "cell_type": "code",
   "execution_count": 26,
   "metadata": {
    "colab": {
     "base_uri": "https://localhost:8080/"
    },
    "id": "gPxQOXd-PHCy",
    "outputId": "e63033ae-69bc-48a4-ad81-bb19a7efe918"
   },
   "outputs": [
    {
     "data": {
      "text/plain": [
       "array([[[0.15845546, 0.08403661],\n",
       "        [0.17507059, 0.08110877]],\n",
       "\n",
       "       [[0.64335869, 0.56282454],\n",
       "        [0.58149447, 0.36367407]],\n",
       "\n",
       "       [[0.71280857, 0.69947044],\n",
       "        [0.60289581, 0.41362682]]])"
      ]
     },
     "execution_count": 26,
     "metadata": {},
     "output_type": "execute_result"
    }
   ],
   "source": [
    "tl.cp_to_tensor((weights,factors))"
   ]
  },
  {
   "cell_type": "code",
   "execution_count": 27,
   "metadata": {
    "colab": {
     "base_uri": "https://localhost:8080/"
    },
    "id": "e4xT77s1PQwp",
    "outputId": "dcf1185d-1868-4dd9-a964-b714356f12d2"
   },
   "outputs": [
    {
     "data": {
      "text/plain": [
       "array([[[0.15430277, 0.08429191],\n",
       "        [0.17667439, 0.08547434]],\n",
       "\n",
       "       [[0.64777902, 0.56255779],\n",
       "        [0.57976776, 0.35901495]],\n",
       "\n",
       "       [[0.70977863, 0.69968252],\n",
       "        [0.60405227, 0.41681967]]])"
      ]
     },
     "execution_count": 27,
     "metadata": {},
     "output_type": "execute_result"
    }
   ],
   "source": [
    "t_krus"
   ]
  },
  {
   "cell_type": "code",
   "execution_count": 28,
   "metadata": {
    "colab": {
     "base_uri": "https://localhost:8080/"
    },
    "id": "rRhVAf3WOqkU",
    "outputId": "ac0bf174-d235-4eb5-d1d2-afcfc3e80fba"
   },
   "outputs": [
    {
     "data": {
      "text/plain": [
       "1.3452574514439812"
      ]
     },
     "execution_count": 28,
     "metadata": {},
     "output_type": "execute_result"
    }
   ],
   "source": [
    "err_fac(factors_cp,factors)"
   ]
  },
  {
   "cell_type": "code",
   "execution_count": 30,
   "metadata": {
    "id": "SDPjVxJmOsTR"
   },
   "outputs": [],
   "source": [
    "cp_para=parafac(t_krus,3)"
   ]
  },
  {
   "cell_type": "code",
   "execution_count": 31,
   "metadata": {
    "colab": {
     "base_uri": "https://localhost:8080/"
    },
    "id": "IQqiBxCOOyWB",
    "outputId": "1a924f2f-2062-4a4c-9aae-e0e903003c4d"
   },
   "outputs": [
    {
     "data": {
      "text/plain": [
       "1.347404614044416"
      ]
     },
     "execution_count": 31,
     "metadata": {},
     "output_type": "execute_result"
    }
   ],
   "source": [
    "err_fac(factors_cp,cp_para.factors)"
   ]
  },
  {
   "cell_type": "code",
   "execution_count": 32,
   "metadata": {
    "colab": {
     "base_uri": "https://localhost:8080/"
    },
    "id": "3BF0nCvEP0fk",
    "outputId": "d8a4fe07-2f77-4b36-d903-be338aa2671d"
   },
   "outputs": [
    {
     "data": {
      "text/plain": [
       "array([[[0.15832974, 0.08410778],\n",
       "        [0.17519403, 0.08100264]],\n",
       "\n",
       "       [[0.64346429, 0.56272616],\n",
       "        [0.58138243, 0.36380836]],\n",
       "\n",
       "       [[0.71272519, 0.69952768],\n",
       "        [0.60298974, 0.41354895]]])"
      ]
     },
     "execution_count": 32,
     "metadata": {},
     "output_type": "execute_result"
    }
   ],
   "source": [
    "tl.cp_to_tensor(cp_para)"
   ]
  },
  {
   "cell_type": "markdown",
   "metadata": {
    "id": "hGfIM7ptuKwf"
   },
   "source": [
    "### her_Als"
   ]
  },
  {
   "cell_type": "code",
   "execution_count": 29,
   "metadata": {
    "id": "dL_ZTB6aTmRF"
   },
   "outputs": [],
   "source": [
    "def her_Als(tensor,rank,it_max=100,err_it_max=20,tol=1e-5,beta=0.5,eta=1.5,gamma=1.05,gamma_bar=1.01,list_factors=False):\n",
    "  beta_bar=1\n",
    "  N=tl.ndim(tensor) # order of tensor\n",
    "  norm_tensor=tl.norm(tensor) # norm of tensor\n",
    "  factors=[]\n",
    "  if list_factors==True : list_fac=[]\n",
    "\n",
    "  # Initializtion of factor matrices by left singular vectors (same as in als)\n",
    "  for mode in range(N):\n",
    "    unfolded=tl.unfold(tensor, mode)\n",
    "    if rank<=tl.shape(tensor)[mode] : \n",
    "      u,s,v=tl.partial_svd(unfolded,n_eigenvecs=rank) \n",
    "    else : \n",
    "      u,s,v=tl.partial_svd(unfolded,n_eigenvecs=tl.shape(tensor)[mode]) \n",
    "      u=np.append(u,np.random.random((np.shape(u)[0],rank-tl.shape(tensor)[mode])),axis=1)  \n",
    "    factors+=[u] \n",
    "  # Initialization of factor hat matrices by factor matrices\n",
    "  factors_hat=factors\n",
    "  if list_factors==True : list_fac.append(factors)\n",
    "\n",
    "  it=0\n",
    "  err_it=0\n",
    "  cpt=0\n",
    "  error=[err(tensor,None,factors)/norm_tensor]\n",
    "  min_err=error[len(error)-1]\n",
    "  F_hat_bf=err(tensor,None,factors) # cost\n",
    "\n",
    "  while (min_err>tol and it<it_max and err_it<err_it_max): \n",
    "    for n in range(N):\n",
    "      V=np.ones((rank,rank))\n",
    "      for i in range(len(factors)):\n",
    "        if i != n : V=V*tl.dot(tl.transpose(factors_hat[i]),factors_hat[i])\n",
    "      W=tl.cp_tensor.unfolding_dot_khatri_rao(tensor, (None,factors_hat), n) \n",
    "      factor_bf=factors[n]\n",
    "      # update\n",
    "      factors[n]= tl.transpose(tl.solve(tl.transpose(V),tl.transpose(W)))\n",
    "      # extrapolate\n",
    "      factors_hat[n]=factors[n]+beta*(factors[n]-factor_bf)\n",
    "\n",
    "    F_hat_new = err(tensor,None,factors_hat) # cost update \n",
    "    if (F_hat_new>F_hat_bf):\n",
    "      factors_hat=factors\n",
    "      beta_bar=beta\n",
    "      beta=beta/eta\n",
    "      cpt=cpt+1\n",
    "    else :\n",
    "      factors=factors_hat\n",
    "      beta_bar=min(1,beta_bar*gamma_bar)\n",
    "      beta=min(beta_bar,gamma*beta)\n",
    "    F_hat_bf=F_hat_new\n",
    "    it=it+1\n",
    "    if list_factors==True : list_fac.append(factors)\n",
    "    error.append(err(tensor,None,factors)/norm_tensor)\n",
    "    if(error[len(error)-1]<min_err) : min_err=error[len(error)-1] # err update\n",
    "    else : err_it=err_it+1\n",
    "  weights,factors=tl.cp_normalize((None,factors))\n",
    "  if list_factors==True : return(weights,factors,it,error,cpt/it,list_fac)\n",
    "  return(weights,factors,it,error,cpt/it)\n"
   ]
  },
  {
   "cell_type": "markdown",
   "metadata": {
    "id": "U8sVDeXuyZ-Z"
   },
   "source": [
    "#### Test"
   ]
  },
  {
   "cell_type": "code",
   "execution_count": 29,
   "metadata": {
    "colab": {
     "base_uri": "https://localhost:8080/"
    },
    "id": "KFLBBNwxybrT",
    "outputId": "b507941e-c711-419c-9898-baf18c5dfb8f"
   },
   "outputs": [
    {
     "data": {
      "text/plain": [
       "8"
      ]
     },
     "execution_count": 29,
     "metadata": {
      "tags": []
     },
     "output_type": "execute_result"
    }
   ],
   "source": [
    "weights,factors,it,error,cpt=her_Als(t_krus,3)\n",
    "it"
   ]
  },
  {
   "cell_type": "code",
   "execution_count": 30,
   "metadata": {
    "colab": {
     "base_uri": "https://localhost:8080/"
    },
    "id": "8_XBxujG0IBZ",
    "outputId": "98eb9cec-3cb8-46b9-d6fe-7692a28f1ac2"
   },
   "outputs": [
    {
     "data": {
      "text/plain": [
       "0.0"
      ]
     },
     "execution_count": 30,
     "metadata": {
      "tags": []
     },
     "output_type": "execute_result"
    }
   ],
   "source": [
    "cpt"
   ]
  },
  {
   "cell_type": "code",
   "execution_count": 31,
   "metadata": {
    "colab": {
     "base_uri": "https://localhost:8080/"
    },
    "id": "Eypf63_9yrCy",
    "outputId": "4ad3e9a6-773a-4ed9-c159-a758fe2a9e97"
   },
   "outputs": [
    {
     "data": {
      "text/plain": [
       "array([[[ 534.00354641,  630.00069902],\n",
       "        [ 683.99479348,  806.99730079]],\n",
       "\n",
       "       [[1979.97442269, 2346.00143971],\n",
       "        [2561.98532488, 3035.99045913]],\n",
       "\n",
       "       [[3425.98683655, 4061.99912303],\n",
       "        [4439.97354272, 5264.98378775]]])"
      ]
     },
     "execution_count": 31,
     "metadata": {
      "tags": []
     },
     "output_type": "execute_result"
    }
   ],
   "source": [
    "tl.kruskal_to_tensor((weights,factors))"
   ]
  },
  {
   "cell_type": "markdown",
   "metadata": {
    "id": "iOSWsevBuPRT"
   },
   "source": [
    "### CPRAND"
   ]
  },
  {
   "cell_type": "code",
   "execution_count": 33,
   "metadata": {
    "id": "T4txK4cRuRUK"
   },
   "outputs": [],
   "source": [
    "def CPRAND(tensor,rank,n_samples,exact_err=True,it_max=100,err_it_max=20,tol=1e-6,list_factors=False):\n",
    "  N=tl.ndim(tensor) # order of tensor\n",
    "  norm_tensor=tl.norm(tensor) # norm of tensor\n",
    "  factors=[]\n",
    "  if list_factors==True : list_fac=[]\n",
    "\n",
    "  # Initializtion of factor matrices by left singular vectors (same as in als)\n",
    "  for mode in range(N):\n",
    "    unfolded=tl.unfold(tensor, mode)\n",
    "    if rank<=tl.shape(tensor)[mode] : \n",
    "      u,s,v=tl.partial_svd(unfolded,n_eigenvecs=rank) \n",
    "    else : \n",
    "      u,s,v=tl.partial_svd(unfolded,n_eigenvecs=tl.shape(tensor)[mode]) \n",
    "      u=np.append(u,np.random.random((np.shape(u)[0],rank-tl.shape(tensor)[mode])),axis=1)  \n",
    "    factors+=[u]\n",
    "  weights,factors=tl.cp_tensor.cp_normalize((None,factors))\n",
    "  if list_factors==True : list_fac.append(factors) \n",
    "\n",
    "  it=0\n",
    "  err_it=0\n",
    "  if(exact_err==False):\n",
    "    error=[err_rand(tensor,weights,factors,int(10*rank*np.log(rank)+1))/norm_tensor] \n",
    "  else :\n",
    "    error=[err(tensor,weights,factors)/norm_tensor]\n",
    "  min_err=error[len(error)-1]\n",
    "  rng = tl.random.check_random_state(None)\n",
    "  while (min_err>tol and it<it_max and err_it<err_it_max): \n",
    "    for n in range(N):\n",
    "      Zs,indices=tl.decomposition.sample_khatri_rao(factors,n_samples,skip_matrix=n,random_state=rng)\n",
    "      indices_list = [i.tolist() for i in indices]\n",
    "      indices_list.insert(n, slice(None, None, None))\n",
    "      indices_list = tuple(indices_list)\n",
    "      if (n==0) :sampled_unfolding = tl.transpose(tensor[indices_list]) # because of the matricization\n",
    "      else : sampled_unfolding =tensor[indices_list]\n",
    "      # update\n",
    "      factors[n] = tl.transpose(tl.solve(tl.dot(tl.transpose(Zs),Zs),tl.dot(tl.transpose(Zs),sampled_unfolding))) # solve needs a squared matrix\n",
    "    \n",
    "    weights,factors=tl.cp_tensor.cp_normalize((None,factors))\n",
    "    if list_factors==True : list_fac.append(factors)\n",
    "    it=it+1\n",
    "    if(exact_err==False):\n",
    "      error.append(err_rand(tensor,weights,factors,int(10*rank*np.log(rank)+1))/norm_tensor)\n",
    "    else : error.append(err(tensor,weights,factors)/norm_tensor)\n",
    "    if(error[len(error)-1]<min_err) : min_err=error[len(error)-1] # err update\n",
    "    else : err_it=err_it+1\n",
    "  if list_factors==True : return(weights,factors,it,error,list_fac)\n",
    "  return(weights,factors,it,error)"
   ]
  },
  {
   "cell_type": "markdown",
   "metadata": {
    "id": "drqAkp1q3PVu"
   },
   "source": [
    "#### Test"
   ]
  },
  {
   "cell_type": "code",
   "execution_count": 52,
   "metadata": {
    "colab": {
     "base_uri": "https://localhost:8080/"
    },
    "id": "Lxi1bUKg3RLC",
    "outputId": "ce82d819-eab2-4b4a-ad77-0adaa811c8b8"
   },
   "outputs": [
    {
     "data": {
      "text/plain": [
       "3"
      ]
     },
     "execution_count": 52,
     "metadata": {
      "tags": []
     },
     "output_type": "execute_result"
    }
   ],
   "source": [
    "rank=3\n",
    "n_samples=int(10*rank*np.log(rank)+1)\n",
    "weights,factors,it,error=CPRAND(t_krus,rank,n_samples)\n",
    "it"
   ]
  },
  {
   "cell_type": "code",
   "execution_count": 53,
   "metadata": {
    "colab": {
     "base_uri": "https://localhost:8080/"
    },
    "id": "I26RkdrZ3h1W",
    "outputId": "6523c875-611e-43e0-c8b3-3daf9eae5ee7"
   },
   "outputs": [
    {
     "data": {
      "text/plain": [
       "array([[[ 533.99987534,  630.00008567],\n",
       "        [ 683.99992503,  807.00005152]],\n",
       "\n",
       "       [[1980.00036531, 2345.99974896],\n",
       "        [2561.99984183, 3036.0001087 ]],\n",
       "\n",
       "       [[3426.00085527, 4061.99941225],\n",
       "        [4439.99975862, 5265.00016588]]])"
      ]
     },
     "execution_count": 53,
     "metadata": {
      "tags": []
     },
     "output_type": "execute_result"
    }
   ],
   "source": [
    "tl.cp_to_tensor((weights,factors))"
   ]
  },
  {
   "cell_type": "markdown",
   "metadata": {
    "id": "ZDxixI6O_0bh"
   },
   "source": [
    "### her-CPRAND\n",
    "\n"
   ]
  },
  {
   "cell_type": "markdown",
   "metadata": {
    "id": "gXJ3IhdMIFMp"
   },
   "source": [
    "**Questions**\n",
    "\n",
    "1.   algo comparaison : condition number to 100, log scale ? P4\n",
    "\n",
    "\n",
    "\n",
    "\n"
   ]
  },
  {
   "cell_type": "markdown",
   "metadata": {
    "id": "g9AC_UkREjTn"
   },
   "source": [
    "#### Stopping criteria"
   ]
  },
  {
   "cell_type": "code",
   "execution_count": 34,
   "metadata": {
    "id": "gZoUOpCkhPNz"
   },
   "outputs": [],
   "source": [
    "# Stopping criteria of CPRAND\n",
    "def err_rand(tensor,weights,factors,nb_samples): # P should be little than the total number of indices, otherwise no sense.\n",
    "  indices_list = [np.random.randint(0, tl.shape(m)[0], size=nb_samples, dtype=int) for m in factors] \n",
    "  indices_list = [i.tolist() for i in indices_list]\n",
    "  indices_list = tuple(indices_list)\n",
    "  est_values=[]\n",
    "  P=1\n",
    "  for i in tl.shape(t_krus) : P=P*i\n",
    "  for i in range(nb_samples):\n",
    "     value=weights\n",
    "     for mode in range(tl.ndim(tensor)) :\n",
    "       value=value*factors[mode][indices_list[mode][i],:]\n",
    "     est_values+=[sum(value)]\n",
    "  return(np.sqrt(sum((tensor[indices_list]-est_values)**2)*P/nb_samples)) "
   ]
  },
  {
   "cell_type": "markdown",
   "metadata": {
    "id": "dqe_g21dDz_E"
   },
   "source": [
    "##### Test for err"
   ]
  },
  {
   "cell_type": "code",
   "execution_count": null,
   "metadata": {
    "id": "6eFd263nH26C"
   },
   "outputs": [],
   "source": [
    "indices_list=[np.random.randint(0, tl.shape(m)[0], size=4, dtype=int) for m in factors]"
   ]
  },
  {
   "cell_type": "code",
   "execution_count": null,
   "metadata": {
    "colab": {
     "base_uri": "https://localhost:8080/",
     "height": 35
    },
    "id": "ld4X_douJnaQ",
    "outputId": "b465d1a7-dc4e-4ba9-f4c4-589c94fa0c70"
   },
   "outputs": [
    {
     "data": {
      "text/plain": [
       "([2, 0, 1, 2], [1, 0, 1, 1], [0, 1, 1, 1])"
      ]
     },
     "execution_count": 140,
     "metadata": {
      "tags": []
     },
     "output_type": "execute_result"
    }
   ],
   "source": [
    "indices_list = [i.tolist() for i in indices_list]\n",
    "indices_list = tuple(indices_list) \n",
    "indices_list"
   ]
  },
  {
   "cell_type": "code",
   "execution_count": null,
   "metadata": {
    "colab": {
     "base_uri": "https://localhost:8080/",
     "height": 35
    },
    "id": "T_uDNFG9KLOs",
    "outputId": "e882e9ee-74c7-4640-bc46-b00ebe8f3040"
   },
   "outputs": [
    {
     "data": {
      "text/plain": [
       "array([4440.,  630., 3036., 5265.])"
      ]
     },
     "execution_count": 141,
     "metadata": {
      "tags": []
     },
     "output_type": "execute_result"
    }
   ],
   "source": [
    "t_krus[indices_list] "
   ]
  },
  {
   "cell_type": "code",
   "execution_count": null,
   "metadata": {
    "id": "8ePYqJmQKkW4"
   },
   "outputs": [],
   "source": [
    "est_values=[]\n",
    "for i in range(4) : # P \n",
    "  value=weights\n",
    "  for mode in range(tl.ndim(t_krus)) : \n",
    "     value=value*factors[mode][indices_list[mode][i],:]\n",
    "  est_values+=[sum(value)]"
   ]
  },
  {
   "cell_type": "code",
   "execution_count": null,
   "metadata": {
    "colab": {
     "base_uri": "https://localhost:8080/",
     "height": 35
    },
    "id": "sTXsrnCNChCI",
    "outputId": "dc5a9c62-9c45-4557-a4ee-8091ec2bbe43"
   },
   "outputs": [
    {
     "data": {
      "text/plain": [
       "[4440.0, 630.0, 3036.0, 5265.0]"
      ]
     },
     "execution_count": 143,
     "metadata": {
      "tags": []
     },
     "output_type": "execute_result"
    }
   ],
   "source": [
    "est_values"
   ]
  },
  {
   "cell_type": "code",
   "execution_count": null,
   "metadata": {
    "colab": {
     "base_uri": "https://localhost:8080/",
     "height": 35
    },
    "id": "-q1rmxN-DoaN",
    "outputId": "3cf22b79-c400-4c99-8876-387fc2c74b95"
   },
   "outputs": [
    {
     "data": {
      "text/plain": [
       "9.646648066153113e-13"
      ]
     },
     "execution_count": 149,
     "metadata": {
      "tags": []
     },
     "output_type": "execute_result"
    }
   ],
   "source": [
    "err_rand(t_krus,weights,factors,4)"
   ]
  },
  {
   "cell_type": "markdown",
   "metadata": {
    "id": "qrNUAYKhEw-v"
   },
   "source": [
    "#### Main method"
   ]
  },
  {
   "cell_type": "code",
   "execution_count": 35,
   "metadata": {
    "id": "O90K1nZdAZVL"
   },
   "outputs": [],
   "source": [
    "# exact_err indicates whether we use exact error calculation or randomised error calculation\n",
    "# list_factors indicates whether we return the list of factors generated at each iteration\n",
    "# we stop the algorithm if min_err is not updated for err_it_max iterations\n",
    "\n",
    "def her_CPRAND(tensor,rank,n_samples,exact_err=True,it_max=100,err_it_max=20,tol=1e-6,beta=0.1,eta=2,gamma=1.01,gamma_bar=1.005,list_factors=False):\n",
    "  beta_bar=1\n",
    "  N=tl.ndim(tensor) # order of tensor\n",
    "  norm_tensor=tl.norm(tensor) # norm of tensor\n",
    "  factors=[]\n",
    "  if list_factors==True : list_fac=[]\n",
    "\n",
    "  # Initializtion of factor matrices by left singular vectors (same as in als)\n",
    "  for mode in range(N):\n",
    "    unfolded=tl.unfold(tensor, mode)\n",
    "    if rank<=tl.shape(tensor)[mode] : \n",
    "      u,s,v=tl.partial_svd(unfolded,n_eigenvecs=rank) \n",
    "    else : \n",
    "      u,s,v=tl.partial_svd(unfolded,n_eigenvecs=tl.shape(tensor)[mode]) \n",
    "      u=np.append(u,np.random.random((np.shape(u)[0],rank-tl.shape(tensor)[mode])),axis=1)  \n",
    "    factors+=[u]\n",
    "  # Initialization of factor hat matrice by factor matrices\n",
    "  factors_hat=factors\n",
    "  if list_factors==True : list_fac.append(factors)\n",
    "  F_hat_bf=err(tensor,None,factors) # exact cost\n",
    "\n",
    "  it=0\n",
    "  err_it=0\n",
    "  cpt=0\n",
    "  if(exact_err==False):\n",
    "    error=[err_rand(tensor,None,factors,int(10*rank*np.log(rank)+1))/norm_tensor] \n",
    "  else :\n",
    "    error=[err(tensor,None,factors)/norm_tensor]\n",
    "  min_err=error[len(error)-1]\n",
    "  rng = tl.random.check_random_state(None)\n",
    "  while (min_err>tol and it<it_max and err_it<err_it_max): \n",
    "    for n in range(N):\n",
    "      Zs,indices=tl.decomposition.sample_khatri_rao(factors_hat,n_samples,skip_matrix=n,random_state=rng)\n",
    "      indices_list = [i.tolist() for i in indices]\n",
    "      indices_list.insert(n, slice(None, None, None))\n",
    "      indices_list = tuple(indices_list)\n",
    "      if (n==0) :sampled_unfolding = tl.transpose(tensor[indices_list]) # because of the matricization\n",
    "      else : sampled_unfolding =tensor[indices_list]\n",
    "      factor_bf=factors[n]\n",
    "      # update\n",
    "      factors[n] = tl.transpose(tl.solve(tl.dot(tl.transpose(Zs),Zs),tl.dot(tl.transpose(Zs),sampled_unfolding))) # solve needs a squared matrix, if rank>nb_sampls ok\n",
    "      # if (n==N-1) : F_hat_new=tl.norm(tl.dot(Zs,tl.transpose(factors[n]))-sampled_unfolding,2) # cost update \n",
    "      # extrapolate\n",
    "      factors_hat[n]=factors[n]+beta*(factors[n]-factor_bf)\n",
    "\n",
    "    F_hat_new = err(tensor,None,factors_hat) # exact cost update \n",
    "    if (F_hat_new>F_hat_bf):\n",
    "      factors_hat=factors\n",
    "      beta_bar=beta\n",
    "      beta=beta/eta\n",
    "      cpt=cpt+1\n",
    "    else :\n",
    "      factors=factors_hat\n",
    "      beta_bar=min(1,beta_bar*gamma_bar)\n",
    "      beta=min(beta_bar,gamma*beta)\n",
    "    F_hat_bf=F_hat_new\n",
    "    it=it+1\n",
    "    if list_factors==True : list_fac.append(factors)\n",
    "    if(exact_err==False):\n",
    "      error.append(err_rand(tensor,None,factors,int(10*rank*np.log(rank)+1))/norm_tensor)\n",
    "    else : error.append(err(tensor,None,factors)/norm_tensor)\n",
    "    if(error[len(error)-1]<min_err) : min_err=error[len(error)-1] # err update\n",
    "    else : err_it=err_it+1\n",
    "  weights,factors=tl.cp_normalize((None,factors))\n",
    "  if list_factors==True : return(weights,factors,it,error,cpt/it,list_fac)\n",
    "  return(weights,factors,it,error,cpt/it)"
   ]
  },
  {
   "cell_type": "markdown",
   "metadata": {
    "id": "gvYVQ5Cu5yxr"
   },
   "source": [
    "##### Test "
   ]
  },
  {
   "cell_type": "markdown",
   "metadata": {
    "id": "BHK2DC2QB59N"
   },
   "source": [
    "###### Test sample_kahtri_rao"
   ]
  },
  {
   "cell_type": "code",
   "execution_count": null,
   "metadata": {
    "colab": {
     "base_uri": "https://localhost:8080/",
     "height": 69
    },
    "id": "NatVZHsHh2ps",
    "outputId": "d95b701e-a5c3-4b0b-f460-1cfe594bd6f6"
   },
   "outputs": [
    {
     "name": "stderr",
     "output_type": "stream",
     "text": [
      "/usr/local/lib/python3.6/dist-packages/tensorly/decomposition/_cp.py:604: UserWarning: You are creating a new random number generator at each call.\n",
      "If you are calling sample_khatri_rao inside a loop this will be slow: best to create a rng outside and pass it as argument (random_state=rng).\n",
      "  warnings.warn('You are creating a new random number generator at each call.\\n'\n"
     ]
    }
   ],
   "source": [
    "# test sample_kahtri_rao\n",
    "Zs,indices=tl.decomposition.sample_khatri_rao(factors,2,skip_matrix=1)"
   ]
  },
  {
   "cell_type": "code",
   "execution_count": null,
   "metadata": {
    "colab": {
     "base_uri": "https://localhost:8080/",
     "height": 69
    },
    "id": "fDJFocRxsyfS",
    "outputId": "78afb706-8a1d-4ab2-8147-bc906297c367"
   },
   "outputs": [
    {
     "data": {
      "text/plain": [
       "array([[ 534.,  684.],\n",
       "       [1980., 2562.],\n",
       "       [3426., 4440.]])"
      ]
     },
     "execution_count": 85,
     "metadata": {
      "tags": []
     },
     "output_type": "execute_result"
    }
   ],
   "source": [
    "t_krus[...,0]"
   ]
  },
  {
   "cell_type": "code",
   "execution_count": null,
   "metadata": {
    "colab": {
     "base_uri": "https://localhost:8080/",
     "height": 69
    },
    "id": "Z2kFEzh0s2fx",
    "outputId": "4693d15d-c0ea-4cc0-9867-81d103e76d4b"
   },
   "outputs": [
    {
     "data": {
      "text/plain": [
       "array([[ 630.,  807.],\n",
       "       [2346., 3036.],\n",
       "       [4062., 5265.]])"
      ]
     },
     "execution_count": 86,
     "metadata": {
      "tags": []
     },
     "output_type": "execute_result"
    }
   ],
   "source": [
    "t_krus[...,1]"
   ]
  },
  {
   "cell_type": "code",
   "execution_count": null,
   "metadata": {
    "colab": {
     "base_uri": "https://localhost:8080/",
     "height": 139
    },
    "id": "n8Hsmjtsr1pj",
    "outputId": "41d50872-42de-4536-dd29-6e92a8c2d1d4"
   },
   "outputs": [
    {
     "data": {
      "text/plain": [
       "[array([[0.        , 0.12309149, 0.20739034],\n",
       "        [0.4472136 , 0.49236596, 0.51847585],\n",
       "        [0.89442719, 0.86164044, 0.82956136]]),\n",
       " array([[0.6       , 0.60971076, 0.61782155],\n",
       "        [0.8       , 0.79262399, 0.78631834]]),\n",
       " array([[0.6401844 , 0.64413575, 0.64764842],\n",
       "        [0.76822128, 0.7649112 , 0.76193932]])]"
      ]
     },
     "execution_count": 87,
     "metadata": {
      "tags": []
     },
     "output_type": "execute_result"
    }
   ],
   "source": [
    "factors"
   ]
  },
  {
   "cell_type": "code",
   "execution_count": null,
   "metadata": {
    "colab": {
     "base_uri": "https://localhost:8080/",
     "height": 121
    },
    "id": "GzW_nRyot94o",
    "outputId": "0e3d024e-d96e-4756-91a3-a726a9533fcf"
   },
   "outputs": [
    {
     "data": {
      "text/plain": [
       "array([[-7.49125408e-07,  2.62419513e+02,  6.05352789e+02],\n",
       "       [-8.98950490e-07,  3.11623172e+02,  7.12179752e+02],\n",
       "       [ 6.74999997e+02,  1.04967805e+03,  1.51338197e+03],\n",
       "       [ 8.09999996e+02,  1.24649269e+03,  1.78044938e+03],\n",
       "       [ 1.35000003e+03,  1.83693651e+03,  2.42141120e+03],\n",
       "       [ 1.62000004e+03,  2.18136210e+03,  2.84871906e+03]])"
      ]
     },
     "execution_count": 106,
     "metadata": {
      "tags": []
     },
     "output_type": "execute_result"
    }
   ],
   "source": [
    "tl.tenalg.khatri_rao(factors,skip_matrix=1)"
   ]
  },
  {
   "cell_type": "code",
   "execution_count": null,
   "metadata": {
    "colab": {
     "base_uri": "https://localhost:8080/",
     "height": 52
    },
    "id": "UMrJo_ORrvIH",
    "outputId": "e129256e-b1c0-4d31-ed5b-38df042e597f"
   },
   "outputs": [
    {
     "data": {
      "text/plain": [
       "array([[1350.00003412, 1836.93650543, 2421.41119956],\n",
       "       [ 674.99999656, 1049.67805344, 1513.38197013]])"
      ]
     },
     "execution_count": 104,
     "metadata": {
      "tags": []
     },
     "output_type": "execute_result"
    }
   ],
   "source": [
    "Zs # line 5 and 3"
   ]
  },
  {
   "cell_type": "code",
   "execution_count": null,
   "metadata": {
    "colab": {
     "base_uri": "https://localhost:8080/",
     "height": 35
    },
    "id": "hjFGFtEhppZd",
    "outputId": "1c80d737-79f0-4a49-fe2f-2941c504ff63"
   },
   "outputs": [
    {
     "data": {
      "text/plain": [
       "[array([1, 1]), array([0, 1])]"
      ]
     },
     "execution_count": 87,
     "metadata": {
      "tags": []
     },
     "output_type": "execute_result"
    }
   ],
   "source": [
    "indices"
   ]
  },
  {
   "cell_type": "code",
   "execution_count": null,
   "metadata": {
    "id": "hzWlRXXek4Wm"
   },
   "outputs": [],
   "source": [
    "indices_list = [i.tolist() for i in indices]"
   ]
  },
  {
   "cell_type": "code",
   "execution_count": null,
   "metadata": {
    "id": "gW9lCd7-qDG-"
   },
   "outputs": [],
   "source": [
    "indices_list.insert(1, slice(None, None, None))"
   ]
  },
  {
   "cell_type": "code",
   "execution_count": null,
   "metadata": {
    "colab": {
     "base_uri": "https://localhost:8080/",
     "height": 35
    },
    "id": "IUbs8C8_nEOc",
    "outputId": "334de6d7-ef88-4d43-b2f4-d1799753ece2"
   },
   "outputs": [
    {
     "data": {
      "text/plain": [
       "[[1, 1], slice(None, None, None), [0, 1]]"
      ]
     },
     "execution_count": 91,
     "metadata": {
      "tags": []
     },
     "output_type": "execute_result"
    }
   ],
   "source": [
    "indices_list"
   ]
  },
  {
   "cell_type": "code",
   "execution_count": null,
   "metadata": {
    "id": "E-GDO7_mnZhc"
   },
   "outputs": [],
   "source": [
    "indices_list = tuple(indices_list)"
   ]
  },
  {
   "cell_type": "code",
   "execution_count": null,
   "metadata": {
    "id": "uDN2tU3RnJl1"
   },
   "outputs": [],
   "source": [
    "sampled_unfolding = t_krus[indices_list]"
   ]
  },
  {
   "cell_type": "code",
   "execution_count": null,
   "metadata": {
    "colab": {
     "base_uri": "https://localhost:8080/",
     "height": 52
    },
    "id": "9CwZZQ8QoGii",
    "outputId": "c37c9a44-73a2-4975-ec8d-90d1df07e75d"
   },
   "outputs": [
    {
     "data": {
      "text/plain": [
       "array([[3426., 4440.],\n",
       "       [1980., 2562.]])"
      ]
     },
     "execution_count": 117,
     "metadata": {
      "tags": []
     },
     "output_type": "execute_result"
    }
   ],
   "source": [
    "sampled_unfolding"
   ]
  },
  {
   "cell_type": "code",
   "execution_count": null,
   "metadata": {
    "id": "R1hbrmhlnomF"
   },
   "outputs": [],
   "source": [
    "sampled_unfolding = tl.transpose(t_krus[indices_list])"
   ]
  },
  {
   "cell_type": "code",
   "execution_count": null,
   "metadata": {
    "colab": {
     "base_uri": "https://localhost:8080/",
     "height": 69
    },
    "id": "LxjkNNhk7k1I",
    "outputId": "f23ead5e-99ac-4d4e-87b3-96b61fe510e5"
   },
   "outputs": [
    {
     "data": {
      "text/plain": [
       "array([[ 1023.30028924, -1093.43495461,  6201.96856949],\n",
       "       [-1727.69563215,  6110.96759931, -5688.58900876],\n",
       "       [ 2048.        ,    -0.        ,  8192.        ]])"
      ]
     },
     "execution_count": 124,
     "metadata": {
      "tags": []
     },
     "output_type": "execute_result"
    }
   ],
   "source": [
    "tl.solve(tl.dot(tl.transpose(Zs),Zs),tl.dot(tl.transpose(Zs),sampled_unfolding))"
   ]
  },
  {
   "cell_type": "markdown",
   "metadata": {
    "id": "o04TDjYWCGGZ"
   },
   "source": [
    "###### Test her_CPRAND"
   ]
  },
  {
   "cell_type": "code",
   "execution_count": 90,
   "metadata": {
    "colab": {
     "base_uri": "https://localhost:8080/"
    },
    "id": "rvMUTzYIJomx",
    "outputId": "8efef726-f61e-4f3e-d959-febec0127f18"
   },
   "outputs": [
    {
     "data": {
      "text/plain": [
       "3"
      ]
     },
     "execution_count": 90,
     "metadata": {
      "tags": []
     },
     "output_type": "execute_result"
    }
   ],
   "source": [
    "# with a cp_tensor (order=3)\n",
    "rank=3\n",
    "n_samples=int(10*rank*np.log(rank)+1) # pour qu'il soit bien conditionne ?\n",
    "weights,factors,it,error,cpt=her_CPRAND(t_krus,rank,n_samples,True) \n",
    "it "
   ]
  },
  {
   "cell_type": "code",
   "execution_count": 47,
   "metadata": {
    "colab": {
     "base_uri": "https://localhost:8080/"
    },
    "id": "OeyS3o3L0m8u",
    "outputId": "ea5e792e-5922-4120-a450-7836ffb78b21"
   },
   "outputs": [
    {
     "data": {
      "text/plain": [
       "0.42857142857142855"
      ]
     },
     "execution_count": 47,
     "metadata": {
      "tags": []
     },
     "output_type": "execute_result"
    }
   ],
   "source": [
    "cpt"
   ]
  },
  {
   "cell_type": "code",
   "execution_count": 48,
   "metadata": {
    "colab": {
     "base_uri": "https://localhost:8080/"
    },
    "id": "eIOd-IWJ0deh",
    "outputId": "4f142ffa-ef93-40b5-944f-8ab1aed28757"
   },
   "outputs": [
    {
     "data": {
      "text/plain": [
       "2.8690861694026314e-07"
      ]
     },
     "execution_count": 48,
     "metadata": {
      "tags": []
     },
     "output_type": "execute_result"
    }
   ],
   "source": [
    "min(error) "
   ]
  },
  {
   "cell_type": "code",
   "execution_count": 49,
   "metadata": {
    "colab": {
     "base_uri": "https://localhost:8080/"
    },
    "id": "nkCllCucTjpy",
    "outputId": "f20a32ae-b54a-4c84-9518-6360e470391b"
   },
   "outputs": [
    {
     "data": {
      "text/plain": [
       "array([[[ 534.00015325,  630.00018085],\n",
       "        [ 684.00019639,  807.00023177]],\n",
       "\n",
       "       [[1980.00056814, 2346.00067308],\n",
       "        [2562.00073518, 3036.00087107]],\n",
       "\n",
       "       [[3426.00098304, 4062.0011653 ],\n",
       "        [4440.00127397, 5265.00151037]]])"
      ]
     },
     "execution_count": 49,
     "metadata": {
      "tags": []
     },
     "output_type": "execute_result"
    }
   ],
   "source": [
    "tl.cp_to_tensor((weights,factors))"
   ]
  },
  {
   "cell_type": "code",
   "execution_count": null,
   "metadata": {
    "colab": {
     "base_uri": "https://localhost:8080/",
     "height": 156
    },
    "id": "P8poiPnsT0O0",
    "outputId": "afb7257f-d8f1-4ee3-a3c2-47a56adc9ae6"
   },
   "outputs": [
    {
     "data": {
      "text/plain": [
       "array([[[ 534.,  630.],\n",
       "        [ 684.,  807.]],\n",
       "\n",
       "       [[1980., 2346.],\n",
       "        [2562., 3036.]],\n",
       "\n",
       "       [[3426., 4062.],\n",
       "        [4440., 5265.]]])"
      ]
     },
     "execution_count": 152,
     "metadata": {
      "tags": []
     },
     "output_type": "execute_result"
    }
   ],
   "source": [
    "t_krus"
   ]
  },
  {
   "cell_type": "code",
   "execution_count": 91,
   "metadata": {
    "colab": {
     "base_uri": "https://localhost:8080/"
    },
    "id": "Ups_Ngcq-9u0",
    "outputId": "a5681bae-c3aa-4575-9e7d-fc45b049d24a"
   },
   "outputs": [
    {
     "data": {
      "text/plain": [
       "array([[[[3.45210759e-01, 2.61596152e-01, 2.02732113e-01,\n",
       "          3.74311288e-01],\n",
       "         [3.45011496e-01, 8.81756739e-01, 5.57438393e-01,\n",
       "          2.26718380e-01]],\n",
       "\n",
       "        [[3.26505074e-02, 8.18877912e-01, 6.40468645e-01,\n",
       "          3.84369049e-01],\n",
       "         [3.09283982e-01, 8.20579969e-01, 3.25873459e-01,\n",
       "          9.02817501e-01]]],\n",
       "\n",
       "\n",
       "       [[[6.17028145e-01, 4.12258733e-01, 6.68918877e-01,\n",
       "          9.71290556e-01],\n",
       "         [3.88504817e-01, 1.81419185e-01, 6.37851147e-01,\n",
       "          1.45103768e-01]],\n",
       "\n",
       "        [[8.83005220e-01, 5.26873996e-01, 6.95104481e-01,\n",
       "          4.29103381e-03],\n",
       "         [4.04611802e-01, 1.26643570e-01, 8.01667481e-04,\n",
       "          8.56884366e-01]]],\n",
       "\n",
       "\n",
       "       [[[3.06671107e-01, 4.66366553e-01, 7.17476186e-01,\n",
       "          9.57018854e-01],\n",
       "         [5.08130723e-01, 5.80589850e-02, 7.42943764e-01,\n",
       "          4.31217220e-02]],\n",
       "\n",
       "        [[2.10543341e-01, 3.59773026e-01, 8.35373039e-01,\n",
       "          4.54509356e-01],\n",
       "         [1.86585209e-01, 3.96049783e-01, 1.35967379e-01,\n",
       "          6.19855619e-01]]]])"
      ]
     },
     "execution_count": 91,
     "metadata": {
      "tags": []
     },
     "output_type": "execute_result"
    }
   ],
   "source": [
    "# with a random tensor, order = 4\n",
    "t_rand = np.random.random((3, 2, 2, 4))\n",
    "t_rand"
   ]
  },
  {
   "cell_type": "code",
   "execution_count": 92,
   "metadata": {
    "colab": {
     "base_uri": "https://localhost:8080/"
    },
    "id": "o_Br200v_WIX",
    "outputId": "2c474074-da56-4427-fc3e-01d1ea06ebee"
   },
   "outputs": [
    {
     "data": {
      "text/plain": [
       "27"
      ]
     },
     "execution_count": 92,
     "metadata": {
      "tags": []
     },
     "output_type": "execute_result"
    }
   ],
   "source": [
    "# here rank=3\n",
    "weights,factors,it,error,cpt=her_CPRAND(t_rand,rank,n_samples) \n",
    "it"
   ]
  },
  {
   "cell_type": "code",
   "execution_count": 36,
   "metadata": {
    "colab": {
     "base_uri": "https://localhost:8080/"
    },
    "id": "N76_s_5W04fD",
    "outputId": "7b7413e7-4ba8-42e1-d939-dbea013f4286"
   },
   "outputs": [
    {
     "data": {
      "text/plain": [
       "0.4230769230769231"
      ]
     },
     "execution_count": 36,
     "metadata": {
      "tags": []
     },
     "output_type": "execute_result"
    }
   ],
   "source": [
    "cpt"
   ]
  },
  {
   "cell_type": "code",
   "execution_count": 35,
   "metadata": {
    "colab": {
     "base_uri": "https://localhost:8080/"
    },
    "id": "V5fOov6p0y1r",
    "outputId": "823fbd73-fbeb-457c-f4e7-9867f1035699"
   },
   "outputs": [
    {
     "data": {
      "text/plain": [
       "0.10042122757586461"
      ]
     },
     "execution_count": 35,
     "metadata": {
      "tags": []
     },
     "output_type": "execute_result"
    }
   ],
   "source": [
    "min(error)"
   ]
  },
  {
   "cell_type": "code",
   "execution_count": 34,
   "metadata": {
    "colab": {
     "base_uri": "https://localhost:8080/"
    },
    "id": "9C6_R2kwCdAj",
    "outputId": "7ce96d6c-431a-4d34-e6ec-2a687e2bb399"
   },
   "outputs": [
    {
     "data": {
      "text/plain": [
       "array([[[[ 0.17663223,  0.73732903,  0.45129973,  0.24985936],\n",
       "         [ 0.5513445 ,  0.30263394,  0.37326805,  0.24943342]],\n",
       "\n",
       "        [[-0.00638867,  0.4985665 ,  0.64057291,  0.68726756],\n",
       "         [ 0.32241669,  0.32540104,  0.33481099,  0.36900561]]],\n",
       "\n",
       "\n",
       "       [[[ 0.44487457,  0.98881828,  0.53529214,  0.73784062],\n",
       "         [ 0.77198149,  0.62789082,  0.78260085,  0.3918231 ]],\n",
       "\n",
       "        [[ 0.71793431,  0.5252496 ,  1.0049337 ,  0.48921553],\n",
       "         [ 0.85272498,  0.32037572,  0.33127989,  0.60122195]]],\n",
       "\n",
       "\n",
       "       [[[ 0.27530702,  0.75004829,  0.84780706, -0.01988332],\n",
       "         [ 0.75989413,  0.13328706,  0.12852173,  0.39556226]],\n",
       "\n",
       "        [[ 0.19429971,  0.31954152,  0.12436782,  0.97401127],\n",
       "         [ 0.1549736 ,  0.527309  ,  0.63901836,  0.21807301]]]])"
      ]
     },
     "execution_count": 34,
     "metadata": {
      "tags": []
     },
     "output_type": "execute_result"
    }
   ],
   "source": [
    "tl.cp_to_tensor((weights,factors))"
   ]
  },
  {
   "cell_type": "code",
   "execution_count": 38,
   "metadata": {
    "colab": {
     "base_uri": "https://localhost:8080/"
    },
    "id": "11E-JxXaDM1t",
    "outputId": "c72e9791-d0a1-4095-abb9-1130f29baac7"
   },
   "outputs": [
    {
     "data": {
      "text/plain": [
       "9"
      ]
     },
     "execution_count": 38,
     "metadata": {
      "tags": []
     },
     "output_type": "execute_result"
    }
   ],
   "source": [
    "# here rank = 100\n",
    "rank=100\n",
    "n_samples=int(10*rank*np.log(rank)+1)\n",
    "weights,factors,it,error,cpt=her_CPRAND(t_rand,rank,n_samples) \n",
    "it"
   ]
  },
  {
   "cell_type": "code",
   "execution_count": 39,
   "metadata": {
    "colab": {
     "base_uri": "https://localhost:8080/"
    },
    "id": "REABOHNz1Axv",
    "outputId": "6e7d5b2b-bf31-453f-8c9e-ea6ee2f4251c"
   },
   "outputs": [
    {
     "data": {
      "text/plain": [
       "0.5555555555555556"
      ]
     },
     "execution_count": 39,
     "metadata": {
      "tags": []
     },
     "output_type": "execute_result"
    }
   ],
   "source": [
    "cpt"
   ]
  },
  {
   "cell_type": "code",
   "execution_count": 96,
   "metadata": {
    "colab": {
     "base_uri": "https://localhost:8080/"
    },
    "id": "JnJ1_pmSDVxp",
    "outputId": "900ab08d-1ae8-4a6e-e61c-9dd249ee84f2"
   },
   "outputs": [
    {
     "data": {
      "text/plain": [
       "array([[[[3.45210759e-01, 2.61752792e-01, 2.02732113e-01,\n",
       "          3.73842529e-01],\n",
       "         [3.45011496e-01, 8.81699508e-01, 5.57438393e-01,\n",
       "          2.27029632e-01]],\n",
       "\n",
       "        [[3.26505074e-02, 8.18877912e-01, 6.40468645e-01,\n",
       "          3.84369049e-01],\n",
       "         [3.09283982e-01, 8.20579969e-01, 3.25873460e-01,\n",
       "          9.02817501e-01]]],\n",
       "\n",
       "\n",
       "       [[[6.17028145e-01, 4.12064230e-01, 6.68918877e-01,\n",
       "          9.71290556e-01],\n",
       "         [3.88504817e-01, 1.81469760e-01, 6.37851147e-01,\n",
       "          1.45103768e-01]],\n",
       "\n",
       "        [[8.83005220e-01, 5.26873996e-01, 6.95104481e-01,\n",
       "          4.29103381e-03],\n",
       "         [4.04611802e-01, 1.26643570e-01, 8.01667481e-04,\n",
       "          8.56884366e-01]]],\n",
       "\n",
       "\n",
       "       [[[3.06671107e-01, 4.66302246e-01, 7.17476187e-01,\n",
       "          9.57018854e-01],\n",
       "         [5.08130723e-01, 5.81296213e-02, 7.42943764e-01,\n",
       "          4.31217220e-02]],\n",
       "\n",
       "        [[2.10596398e-01, 3.60004571e-01, 8.35373039e-01,\n",
       "          4.54509356e-01],\n",
       "         [1.86578110e-01, 3.95983741e-01, 1.35967379e-01,\n",
       "          6.19855619e-01]]]])"
      ]
     },
     "execution_count": 96,
     "metadata": {
      "tags": []
     },
     "output_type": "execute_result"
    }
   ],
   "source": [
    "tl.cp_to_tensor((weights,factors))"
   ]
  },
  {
   "cell_type": "code",
   "execution_count": 95,
   "metadata": {
    "id": "Yi892bJdbfXB"
   },
   "outputs": [],
   "source": [
    "# here rank=100, n_samples=40\n",
    "weights,factors,it,error,cpt=her_CPRAND(t_rand,100,40) "
   ]
  },
  {
   "cell_type": "markdown",
   "metadata": {
    "id": "xVDfOeSaOmaT"
   },
   "source": [
    "#### Research of optimal parameters"
   ]
  },
  {
   "cell_type": "markdown",
   "metadata": {
    "id": "5oDkTVSxY0IT"
   },
   "source": [
    "cf P12, 14-15, long article of her.  \n",
    "y-axis : data fitting error $f-f_{min}$ with exact error calculation (or factors error)  \n",
    "x-axis : nb iteration"
   ]
  },
  {
   "cell_type": "code",
   "execution_count": 36,
   "metadata": {
    "id": "xuRJdfi-PbDg"
   },
   "outputs": [],
   "source": [
    "I=50\n",
    "J=50\n",
    "K=50\n",
    "r=10 # rank\n",
    "n_samples=int(10*r*np.log(r)+1) # nb of randomized samples\n",
    "nb_rand=10 # nb of random initialization"
   ]
  },
  {
   "cell_type": "code",
   "execution_count": 37,
   "metadata": {
    "id": "z-xQrhG0PlcU"
   },
   "outputs": [],
   "source": [
    "def param_research(I,J,K,r,nb_rand,n_samples,exact_err=True,beta=True,eta=False,gamma=False):\n",
    "  list_err1=[]\n",
    "  list_err2=[]\n",
    "  list_err3=[]\n",
    "  min_e=None\n",
    "  for i in range(nb_rand) : \n",
    "    # Random initialization of a noised cp_tensor\n",
    "    A=np.random.normal(0, 1, size=(I, r))\n",
    "    B=np.random.normal(0, 1, size=(J, r))\n",
    "    C=np.random.normal(0, 1, size=(K, r))\n",
    "    noise=np.random.normal(0, 0.001, size=(I,J,K))\n",
    "    tensor=tl.cp_to_tensor((None,[A,B,C]))+noise\n",
    "    norm_tensor=tl.norm(tensor,2)\n",
    "    if(min_e==None) : min_e=norm_tensor\n",
    "    # parameter choice\n",
    "    if(beta==True):\n",
    "      weights1,factors1,it1,error1,cpt1=her_CPRAND(tensor,r,n_samples,it_max=500,exact_err=exact_err,err_it_max=200,beta=0.1) # beta0=0.1\n",
    "      weights2,factors2,it2,error2,cpt2=her_CPRAND(tensor,r,n_samples,it_max=500,exact_err=exact_err,err_it_max=200,beta=0.3) # beta0=0.3\n",
    "      weights3,factors3,it3,error3,cpt3=her_CPRAND(tensor,r,n_samples,it_max=500,exact_err=exact_err,err_it_max=200,beta=0.5) # beta0=0.5\n",
    "    if(eta==True):\n",
    "      weights1,factors1,it1,error1,cpt1=her_CPRAND(tensor,r,n_samples,it_max=500,exact_err=exact_err,err_it_max=200,eta=1.1) # eta=1.1\n",
    "      weights2,factors2,it2,error2,cpt2=her_CPRAND(tensor,r,n_samples,it_max=500,exact_err=exact_err,err_it_max=200,eta=2) # eta=2\n",
    "      weights3,factors3,it3,error3,cpt3=her_CPRAND(tensor,r,n_samples,it_max=500,exact_err=exact_err,err_it_max=200,eta=3) # eta=3\n",
    "    if(gamma==True):\n",
    "      weights1,factors1,it1,error1,cpt1=her_CPRAND(tensor,r,n_samples,it_max=200,exact_err=exact_err,err_it_max=100,gamma=1.01,gamma_bar=1.005) \n",
    "      weights2,factors2,it2,error2,cpt2=her_CPRAND(tensor,r,n_samples,it_max=200,exact_err=exact_err,err_it_max=100,gamma=1.05,gamma_bar=1.01) \n",
    "      weights3,factors3,it3,error3,cpt3=her_CPRAND(tensor,r,n_samples,it_max=200,exact_err=exact_err,err_it_max=100,gamma=1.9,gamma_bar=1.5) \n",
    "    error1=[i * norm_tensor for i in error1]\n",
    "    list_err1.append(error1)\n",
    "    error2=[i * norm_tensor for i in error2]\n",
    "    list_err2.append(error2)\n",
    "    error3=[i * norm_tensor for i in error3]\n",
    "    list_err3.append(error3)\n",
    "    if (min_e>min(min(error1),min(error2),min(error3))) : min_e=min(min(error1),min(error2),min(error3))\n",
    "  list_err1=[x-min_e for x in list_err1]\n",
    "  list_err2=[x-min_e for x in list_err2]\n",
    "  list_err3=[x-min_e for x in list_err3]\n",
    "  # plot\n",
    "  for i in range(len(list_err1)):\n",
    "    plt.plot(range(len(list_err1[i])),list_err1[i],'b-') \n",
    "  for i in range(len(list_err2)):\n",
    "    plt.plot(range(len(list_err2[i])),list_err2[i],'r-') \n",
    "  for i in range(len(list_err3)):\n",
    "    plt.plot(range(len(list_err3[i])),list_err3[i],'g-')\n",
    "  plt.yscale(\"log\") "
   ]
  },
  {
   "cell_type": "code",
   "execution_count": 38,
   "metadata": {
    "colab": {
     "base_uri": "https://localhost:8080/",
     "height": 265
    },
    "id": "3BkbNxLyWJkM",
    "outputId": "d1e1373c-e8f9-4f41-848f-1ae9096f90ba"
   },
   "outputs": [
    {
     "data": {
      "image/png": "[encoded data removed]",
      "text/plain": [
       "<Figure size 432x288 with 1 Axes>"
      ]
     },
     "metadata": {
      "needs_background": "light"
     },
     "output_type": "display_data"
    }
   ],
   "source": [
    "# with exact_error\n",
    "param_research(I,J,K,r,nb_rand,n_samples,beta=True,exact_err=True)"
   ]
  },
  {
   "cell_type": "code",
   "execution_count": 39,
   "metadata": {
    "colab": {
     "base_uri": "https://localhost:8080/",
     "height": 265
    },
    "id": "EA4WJJDjpcG9",
    "outputId": "6e27cb46-879b-43b7-b894-fd7ccb13cc03"
   },
   "outputs": [
    {
     "data": {
      "image/png": "[encoded data removed]",
      "text/plain": [
       "<Figure size 432x288 with 1 Axes>"
      ]
     },
     "metadata": {
      "needs_background": "light"
     },
     "output_type": "display_data"
    }
   ],
   "source": [
    "param_research(I,J,K,r,nb_rand,n_samples,beta=False,eta=True)"
   ]
  },
  {
   "cell_type": "code",
   "execution_count": 40,
   "metadata": {
    "colab": {
     "base_uri": "https://localhost:8080/",
     "height": 265
    },
    "id": "HpiZIMykX9SR",
    "outputId": "5591e1e2-de4a-47bf-8e34-c1e3bfe39df4"
   },
   "outputs": [
    {
     "data": {
      "image/png": "[encoded data removed]",
      "text/plain": [
       "<Figure size 432x288 with 1 Axes>"
      ]
     },
     "metadata": {
      "needs_background": "light"
     },
     "output_type": "display_data"
    }
   ],
   "source": [
    "param_research(I,J,K,r,nb_rand,n_samples,beta=False,gamma=True)"
   ]
  },
  {
   "cell_type": "markdown",
   "metadata": {
    "id": "xu8s3QF3RL4a"
   },
   "source": [
    "### Comparaison of algorithms"
   ]
  },
  {
   "cell_type": "markdown",
   "metadata": {
    "id": "GQVMqkTbWgJx"
   },
   "source": [
    "#### her_Als and als for 1 tensor"
   ]
  },
  {
   "cell_type": "code",
   "execution_count": 41,
   "metadata": {
    "colab": {
     "base_uri": "https://localhost:8080/",
     "height": 265
    },
    "id": "j5S_XZ_cVFxA",
    "outputId": "1882f03a-60ca-434f-b37e-dc9b5e670853"
   },
   "outputs": [
    {
     "data": {
      "image/png": "[encoded data removed]",
      "text/plain": [
       "<Figure size 432x288 with 1 Axes>"
      ]
     },
     "metadata": {
      "needs_background": "light"
     },
     "output_type": "display_data"
    }
   ],
   "source": [
    "# initialization of a random tensor with noise\n",
    "A=np.random.normal(0, 1, size=(I*2, r))\n",
    "B=np.random.normal(0, 1, size=(J*2, r))\n",
    "C=np.random.normal(0, 1, size=(K*2, r))\n",
    "noise=np.random.normal(0, 0.001, size=(I*2,J*2,K*2))\n",
    "tensor=tl.cp_to_tensor((None,[A,B,C]))+noise\n",
    "\n",
    "# her als\n",
    "weights1,factors1,it1,error1,cpt=her_Als(tensor,r,it_max=100,err_it_max=20) \n",
    "# als\n",
    "weights2,factors2,it2,error2=als(tensor,r,it_max=100)\n",
    "\n",
    "# plot\n",
    "plt.plot(range(len(error1)),error1,'b-')\n",
    "plt.plot(range(len(error2)),error2,'r-') \n",
    "plt.yscale(\"log\") "
   ]
  },
  {
   "cell_type": "code",
   "execution_count": 42,
   "metadata": {
    "colab": {
     "base_uri": "https://localhost:8080/"
    },
    "id": "nC2SV39EQqve",
    "outputId": "14bd4a4f-86e3-4967-976e-244bb6a97b08"
   },
   "outputs": [
    {
     "name": "stdout",
     "output_type": "stream",
     "text": [
      "it her als: 100 it als: 100\n"
     ]
    }
   ],
   "source": [
    "print(\"it her als:\",it1,\"it als:\",it2)"
   ]
  },
  {
   "cell_type": "code",
   "execution_count": 43,
   "metadata": {
    "colab": {
     "base_uri": "https://localhost:8080/"
    },
    "id": "aNzol5ceV19P",
    "outputId": "4560d855-1629-4426-abf1-aaeb7c5ff116"
   },
   "outputs": [
    {
     "data": {
      "text/plain": [
       "0.08"
      ]
     },
     "execution_count": 43,
     "metadata": {},
     "output_type": "execute_result"
    }
   ],
   "source": [
    "cpt"
   ]
  },
  {
   "cell_type": "code",
   "execution_count": 44,
   "metadata": {
    "colab": {
     "base_uri": "https://localhost:8080/"
    },
    "id": "3xp12JtSVBqE",
    "outputId": "bd67117b-a493-4b89-cc97-2b9d35852dd1"
   },
   "outputs": [
    {
     "data": {
      "text/plain": [
       "0.0003374664892447755"
      ]
     },
     "execution_count": 44,
     "metadata": {},
     "output_type": "execute_result"
    }
   ],
   "source": [
    "min(error1)"
   ]
  },
  {
   "cell_type": "markdown",
   "metadata": {
    "id": "lvMaZ1hBkdG_"
   },
   "source": [
    "#### CPRAND and als for 1 tensor"
   ]
  },
  {
   "cell_type": "code",
   "execution_count": 45,
   "metadata": {
    "colab": {
     "base_uri": "https://localhost:8080/",
     "height": 265
    },
    "id": "qphkRAilkihi",
    "outputId": "9e453009-11de-44ec-c072-9c0125c0a644"
   },
   "outputs": [
    {
     "data": {
      "image/png": "[encoded data removed]",
      "text/plain": [
       "<Figure size 432x288 with 1 Axes>"
      ]
     },
     "metadata": {
      "needs_background": "light"
     },
     "output_type": "display_data"
    }
   ],
   "source": [
    "# initialization of a random tensor with noise\n",
    "A=np.random.normal(0, 1, size=(I, r))\n",
    "B=np.random.normal(0, 1, size=(J, r))\n",
    "C=np.random.normal(0, 1, size=(K, r))\n",
    "noise=np.random.normal(0, 0.001, size=(I,J,K))\n",
    "tensor=tl.cp_to_tensor((None,[A,B,C]))+noise\n",
    "\n",
    "# her als\n",
    "weights1,factors1,it1,error1=CPRAND(tensor,r,int(10*r*np.log(r)+1),it_max=100,err_it_max=20) \n",
    "# als\n",
    "weights2,factors2,it2,error2=als(tensor,r,it_max=100)\n",
    "\n",
    "# plot\n",
    "plt.plot(range(len(error1)),error1,'b-')\n",
    "plt.plot(range(len(error2)),error2,'r-') \n",
    "plt.yscale(\"log\")"
   ]
  },
  {
   "cell_type": "markdown",
   "metadata": {
    "id": "NAyPxi6uVvbz"
   },
   "source": [
    "#### 3 algorithms for 10 random initializations"
   ]
  },
  {
   "cell_type": "code",
   "execution_count": 48,
   "metadata": {
    "id": "PCpEYmYKR45v"
   },
   "outputs": [],
   "source": [
    "# plot the median of data fitting/factors error over nb_rand initializations\n",
    "def comparaison(I,J,K,r,nb_rand,n_samples,exact_err=True,list_factors=False):\n",
    "  list_err1=[]\n",
    "  list_err2=[]\n",
    "  min_e=None\n",
    "  for i in range(nb_rand) : \n",
    "    # Random initialization of a noised cp_tensor\n",
    "    A=np.random.normal(0, 1, size=(I, r))\n",
    "    B=np.random.normal(0, 1, size=(J, r))\n",
    "    C=np.random.normal(0, 1, size=(K, r))\n",
    "    fac_true=[A,B,C]\n",
    "    noise=np.random.normal(0, 0.001, size=(I,J,K))\n",
    "    tensor=tl.cp_to_tensor((None,fac_true))+noise\n",
    "    norm_tensor=tl.norm(tensor,2)\n",
    "    if(min_e==None) : min_e=norm_tensor\n",
    "    if list_factors ==False : \n",
    "      #weights1,factors1,it1,error1,cpt=her_CPRAND(tensor,r,n_samples,exact_err=exact_err,it_max=500,err_it_max=200) \n",
    "      weights1,factors1,it1,error1,cpt=her_Als(tensor,r,it_max=500,err_it_max=100) \n",
    "      #weights1,factors1,it1,error1=CPRAND(tensor,r,n_samples,exact_err=exact_err,it_max=500,err_it_max=200) \n",
    "      weights2,factors2,it2,error2=als(tensor,r,it_max=500) \n",
    "      error1=[i * norm_tensor for i in error1]\n",
    "      error2=[i * norm_tensor for i in error2]\n",
    "    else : \n",
    "      #weights1,factors1,it1,error,cpt,l1=her_CPRAND(tensor,r,n_samples,exact_err=exact_err,it_max=500,err_it_max=200,list_factors=list_factors) \n",
    "      weights1,factors1,it1,error,cpt,l1=her_Als(tensor,r,it_max=500,err_it_max=100,list_factors=list_factors) \n",
    "      #weights1,factors1,it1,error,l1=CPRAND(tensor,r,n_samples,exact_err=exact_err,it_max=500,err_it_max=200,list_factors=list_factors) \n",
    "      weights2,factors2,it2,error,l2=als(tensor,r,it_max=500,list_factors=list_factors) \n",
    "      error1=[err_fac(fac_true,i) for i in l1]\n",
    "      error2=[err_fac(fac_true,i) for i in l2]\n",
    "    if (min_e>min(min(error1),min(error2))) : min_e=min(min(error1),min(error2))\n",
    "    list_err1.append(error1)\n",
    "    list_err2.append(error2)\n",
    "  n_max1=len(max(list_err1, key=len)) # length of the longest error\n",
    "  n_max2=len(max(list_err2, key=len))\n",
    "  mat1=np.array([i + [i[len(i)-1]]*(n_max1-len(i)) for i in list_err1])\n",
    "  mat2=np.array([i + [i[len(i)-1]]*(n_max2-len(i)) for i in list_err2])\n",
    "  mat1=mat1-min_e\n",
    "  mat2=mat2-min_e\n",
    "  # plot\n",
    "\n",
    "  plt.plot(range(n_max1),np.median(mat1, axis=0),'b-') \n",
    "  plt.plot(range(n_max2),np.median(mat2, axis=0),'r-') \n",
    "  plt.yscale(\"log\") "
   ]
  },
  {
   "cell_type": "markdown",
   "metadata": {},
   "source": [
    "Attention : modifier la fonction ci-dessus à la main pour faire affichage des différents algo"
   ]
  },
  {
   "cell_type": "code",
   "execution_count": 49,
   "metadata": {
    "colab": {
     "base_uri": "https://localhost:8080/",
     "height": 265
    },
    "id": "xxiiMRVXEQxV",
    "outputId": "d3a6e92e-0ebd-48fc-bb13-80a840ae1376"
   },
   "outputs": [
    {
     "data": {
      "image/png": "[encoded data removed]",
      "text/plain": [
       "<Figure size 432x288 with 1 Axes>"
      ]
     },
     "metadata": {
      "needs_background": "light"
     },
     "output_type": "display_data"
    }
   ],
   "source": [
    "# exact_err=True\n",
    "comparaison(I,J,K,r,nb_rand,n_samples)\n",
    "# data-fitting median error : her_Als in blue and als in red"
   ]
  },
  {
   "cell_type": "code",
   "execution_count": 155,
   "metadata": {
    "colab": {
     "base_uri": "https://localhost:8080/",
     "height": 266
    },
    "id": "j_XS1FNYtM4g",
    "outputId": "c8d3960c-21b3-4419-cf73-258d1660de40"
   },
   "outputs": [
    {
     "data": {
      "image/png": "[encoded data removed]",
      "text/plain": [
       "<Figure size 432x288 with 1 Axes>"
      ]
     },
     "metadata": {
      "needs_background": "light",
      "tags": []
     },
     "output_type": "display_data"
    }
   ],
   "source": [
    "# factors error\n",
    "comparaison(I,J,K,r,nb_rand,n_samples,list_factors=True)"
   ]
  },
  {
   "cell_type": "code",
   "execution_count": 158,
   "metadata": {
    "colab": {
     "base_uri": "https://localhost:8080/",
     "height": 265
    },
    "id": "KKembavoSdKT",
    "outputId": "64ceb37e-c85f-4404-8462-5eecef33308c"
   },
   "outputs": [
    {
     "data": {
      "image/png": "[encoded data removed]",
      "text/plain": [
       "<Figure size 432x288 with 1 Axes>"
      ]
     },
     "metadata": {
      "needs_background": "light",
      "tags": []
     },
     "output_type": "display_data"
    }
   ],
   "source": [
    "comparaison(I,J,K,r,nb_rand,n_samples)\n",
    "# data-fitting median error : CPRAND in blue and als in red"
   ]
  },
  {
   "cell_type": "code",
   "execution_count": 159,
   "metadata": {
    "colab": {
     "base_uri": "https://localhost:8080/",
     "height": 265
    },
    "id": "OBiq6EyIu-TE",
    "outputId": "1ed97554-70a0-40e8-f3be-0b0b6e470c87"
   },
   "outputs": [
    {
     "data": {
      "image/png": "[encoded data removed]",
      "text/plain": [
       "<Figure size 432x288 with 1 Axes>"
      ]
     },
     "metadata": {
      "needs_background": "light",
      "tags": []
     },
     "output_type": "display_data"
    }
   ],
   "source": [
    "# factors error\n",
    "comparaison(I,J,K,r,nb_rand,n_samples,list_factors=True)"
   ]
  },
  {
   "cell_type": "code",
   "execution_count": 161,
   "metadata": {
    "colab": {
     "base_uri": "https://localhost:8080/",
     "height": 265
    },
    "id": "qW90W5NtUJly",
    "outputId": "2116e0cc-80ac-40f7-cbad-f62fd268f471"
   },
   "outputs": [
    {
     "data": {
      "image/png": "[encoded data removed]",
      "text/plain": [
       "<Figure size 432x288 with 1 Axes>"
      ]
     },
     "metadata": {
      "needs_background": "light",
      "tags": []
     },
     "output_type": "display_data"
    }
   ],
   "source": [
    "comparaison(I,J,K,r,nb_rand,n_samples)\n",
    "# data-fitting median error : her_CPRAND in blue and als in red"
   ]
  },
  {
   "cell_type": "code",
   "execution_count": 162,
   "metadata": {
    "colab": {
     "base_uri": "https://localhost:8080/",
     "height": 265
    },
    "id": "jo14eAenv0-L",
    "outputId": "acdf776e-0826-49f1-d76e-0b40f875547e"
   },
   "outputs": [
    {
     "data": {
      "image/png": "[encoded data removed]",
      "text/plain": [
       "<Figure size 432x288 with 1 Axes>"
      ]
     },
     "metadata": {
      "needs_background": "light",
      "tags": []
     },
     "output_type": "display_data"
    }
   ],
   "source": [
    "# factors error\n",
    "comparaison(I,J,K,r,nb_rand,n_samples,list_factors=True)"
   ]
  },
  {
   "cell_type": "markdown",
   "metadata": {
    "id": "1IsWodHiBaxD"
   },
   "source": [
    "plot en fonction du temps à faire"
   ]
  }
 ],
 "metadata": {
  "colab": {
   "collapsed_sections": [
    "vr-gtvgUV0X-",
    "8_RTreV8qTT8",
    "HeOKykNzthXB",
    "jaK87iJXwy2O",
    "lE7UPcpbBFRt",
    "JODkeWzrJHZW",
    "1FQaVrZQ5mHj",
    "pP0QZ5_TQ-6a",
    "2z51Ooy3RE0r",
    "U8sVDeXuyZ-Z",
    "iOSWsevBuPRT",
    "drqAkp1q3PVu",
    "g9AC_UkREjTn",
    "dqe_g21dDz_E",
    "qrNUAYKhEw-v",
    "gvYVQ5Cu5yxr",
    "BHK2DC2QB59N",
    "o04TDjYWCGGZ",
    "xVDfOeSaOmaT",
    "lvMaZ1hBkdG_"
   ],
   "name": "PIRS7.ipynb",
   "provenance": []
  },
  "kernelspec": {
   "display_name": "Python 3",
   "language": "python",
   "name": "python3"
  },
  "language_info": {
   "codemirror_mode": {
    "name": "ipython",
    "version": 3
   },
   "file_extension": ".py",
   "mimetype": "text/x-python",
   "name": "python",
   "nbconvert_exporter": "python",
   "pygments_lexer": "ipython3",
   "version": "3.7.4"
  }
 },
 "nbformat": 4,
 "nbformat_minor": 1
}
