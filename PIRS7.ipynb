{
  "nbformat": 4,
  "nbformat_minor": 0,
  "metadata": {
    "colab": {
      "name": "PIRS7.ipynb",
      "provenance": [],
      "collapsed_sections": [
        "8_RTreV8qTT8",
        "HeOKykNzthXB",
        "jaK87iJXwy2O",
        "lE7UPcpbBFRt",
        "JODkeWzrJHZW",
        "1FQaVrZQ5mHj",
        "g9AC_UkREjTn",
        "dqe_g21dDz_E",
        "gvYVQ5Cu5yxr",
        "BHK2DC2QB59N",
        "o04TDjYWCGGZ"
      ]
    },
    "kernelspec": {
      "name": "python3",
      "display_name": "Python 3"
    }
  },
  "cells": [
    {
      "cell_type": "markdown",
      "metadata": {
        "id": "vr-gtvgUV0X-"
      },
      "source": [
        "# To do for 20/Oct\n",
        "1. Test als with rank=100 for random tensor (ok)\n",
        "2. Test als kruskal tensor (ok)\n",
        "3. implementer her-CPRAND (sample kahtrihao CPRAND existe déjà dans tensorly) et trouver les paramètres (gama bar, beta bar plus petits peut etre cf article her)\n",
        "4. comparaison des algos (3 versions) en fonction du temps (t) et it cf doc her (court et long). --> il a trouvé que pour les tensors simple, her sert à rien.\n",
        "5. Pour les entrées de factors non negative, her marche mieux. Est ce le cas pour her-CPRAND ? (ligne 6, A>=0)\n",
        "6. Optimiser le code pour her_CPRAND"
      ]
    },
    {
      "cell_type": "code",
      "metadata": {
        "id": "wPqhk22PpS8P"
      },
      "source": [
        "pip install -U tensorly"
      ],
      "execution_count": null,
      "outputs": []
    },
    {
      "cell_type": "code",
      "metadata": {
        "id": "vgIKe3ZhpeCO"
      },
      "source": [
        "import numpy as np"
      ],
      "execution_count": 4,
      "outputs": []
    },
    {
      "cell_type": "code",
      "metadata": {
        "id": "qql9Eberh_jX"
      },
      "source": [
        "import tensorly as tl"
      ],
      "execution_count": 5,
      "outputs": []
    },
    {
      "cell_type": "code",
      "metadata": {
        "id": "9ojNuF8jlp1e"
      },
      "source": [
        "import matplotlib.pyplot as plt"
      ],
      "execution_count": 6,
      "outputs": []
    },
    {
      "cell_type": "code",
      "metadata": {
        "id": "3MMLhyosL_fd"
      },
      "source": [
        "from tensorly.decomposition import sample_khatri_rao"
      ],
      "execution_count": 7,
      "outputs": []
    },
    {
      "cell_type": "markdown",
      "metadata": {
        "id": "8_RTreV8qTT8"
      },
      "source": [
        "# Basic operations"
      ]
    },
    {
      "cell_type": "markdown",
      "metadata": {
        "id": "HeOKykNzthXB"
      },
      "source": [
        "### Creation of tensors"
      ]
    },
    {
      "cell_type": "code",
      "metadata": {
        "id": "W_U-YtKOqYSa"
      },
      "source": [
        "# create a random 3x3x3 tensor\n",
        "t_rand = np.random.random((3, 3, 3))"
      ],
      "execution_count": 91,
      "outputs": []
    },
    {
      "cell_type": "code",
      "metadata": {
        "id": "1_87W-T_r2Bg"
      },
      "source": [
        "# create a constant 3x4x2 tensor\n",
        "t_cons = tl.tensor(np.arange(24,dtype='d').reshape((3, 4, 2)))"
      ],
      "execution_count": null,
      "outputs": []
    },
    {
      "cell_type": "code",
      "metadata": {
        "id": "T5G348pr86Nd"
      },
      "source": [
        "# create a kruskal tensor\n",
        "# factor matrices\n",
        "A=np.arange(9).reshape(3,3)\n",
        "B=np.arange(6).reshape(2,3)+9\n",
        "C=np.arange(6).reshape(2,3)+15\n",
        "factors=[]\n",
        "factors+=[A]\n",
        "factors+=[B]\n",
        "factors+=[C]\n",
        "weights,factors=tl.cp_tensor.cp_normalize((None,factors)) \n",
        "t_krus = tl.cp_to_tensor((weights,factors))"
      ],
      "execution_count": 106,
      "outputs": []
    },
    {
      "cell_type": "code",
      "metadata": {
        "id": "ziV_hTgfD1v7",
        "outputId": "d276b93c-921c-4d2a-89ee-0c347f33bee5",
        "colab": {
          "base_uri": "https://localhost:8080/",
          "height": 35
        }
      },
      "source": [
        "weights"
      ],
      "execution_count": 19,
      "outputs": [
        {
          "output_type": "execute_result",
          "data": {
            "text/plain": [
              "array([2357.67364154, 3309.71569776, 4506.92899878])"
            ]
          },
          "metadata": {
            "tags": []
          },
          "execution_count": 19
        }
      ]
    },
    {
      "cell_type": "code",
      "metadata": {
        "id": "WbehZxAd_aDL",
        "outputId": "c1c89f59-feaa-4f5d-8ab2-5ff0e9196d87",
        "colab": {
          "base_uri": "https://localhost:8080/",
          "height": 69
        }
      },
      "source": [
        "factors[0]"
      ],
      "execution_count": 20,
      "outputs": [
        {
          "output_type": "execute_result",
          "data": {
            "text/plain": [
              "array([[0.        , 0.12309149, 0.20739034],\n",
              "       [0.4472136 , 0.49236596, 0.51847585],\n",
              "       [0.89442719, 0.86164044, 0.82956136]])"
            ]
          },
          "metadata": {
            "tags": []
          },
          "execution_count": 20
        }
      ]
    },
    {
      "cell_type": "code",
      "metadata": {
        "id": "XndOK0VT_c1M",
        "outputId": "20f075d7-a74e-4ce0-ecf6-b59e7f2f6ef0",
        "colab": {
          "base_uri": "https://localhost:8080/",
          "height": 52
        }
      },
      "source": [
        "factors[1]"
      ],
      "execution_count": 21,
      "outputs": [
        {
          "output_type": "execute_result",
          "data": {
            "text/plain": [
              "array([[0.6       , 0.60971076, 0.61782155],\n",
              "       [0.8       , 0.79262399, 0.78631834]])"
            ]
          },
          "metadata": {
            "tags": []
          },
          "execution_count": 21
        }
      ]
    },
    {
      "cell_type": "code",
      "metadata": {
        "id": "cdW--TKw_c-i",
        "outputId": "67cfd78f-de23-4e07-aaf0-62320a4438ef",
        "colab": {
          "base_uri": "https://localhost:8080/",
          "height": 52
        }
      },
      "source": [
        "factors[2]"
      ],
      "execution_count": 22,
      "outputs": [
        {
          "output_type": "execute_result",
          "data": {
            "text/plain": [
              "array([[0.6401844 , 0.64413575, 0.64764842],\n",
              "       [0.76822128, 0.7649112 , 0.76193932]])"
            ]
          },
          "metadata": {
            "tags": []
          },
          "execution_count": 22
        }
      ]
    },
    {
      "cell_type": "code",
      "metadata": {
        "id": "PE6tvt8LwmoU",
        "outputId": "463785f2-f351-4e5b-d820-28f162c47b39",
        "colab": {
          "base_uri": "https://localhost:8080/",
          "height": 260
        }
      },
      "source": [
        "t_cons"
      ],
      "execution_count": null,
      "outputs": [
        {
          "output_type": "execute_result",
          "data": {
            "text/plain": [
              "array([[[ 0.,  1.],\n",
              "        [ 2.,  3.],\n",
              "        [ 4.,  5.],\n",
              "        [ 6.,  7.]],\n",
              "\n",
              "       [[ 8.,  9.],\n",
              "        [10., 11.],\n",
              "        [12., 13.],\n",
              "        [14., 15.]],\n",
              "\n",
              "       [[16., 17.],\n",
              "        [18., 19.],\n",
              "        [20., 21.],\n",
              "        [22., 23.]]])"
            ]
          },
          "metadata": {
            "tags": []
          },
          "execution_count": 6
        }
      ]
    },
    {
      "cell_type": "code",
      "metadata": {
        "id": "aw_I9Z-WQVHR",
        "outputId": "0c8c4bbb-6f58-4e8d-d416-49008c3cd34a",
        "colab": {
          "base_uri": "https://localhost:8080/",
          "height": 35
        }
      },
      "source": [
        "# squared Frobenius norm \n",
        "tl.norm(t_cons,2)**2"
      ],
      "execution_count": null,
      "outputs": [
        {
          "output_type": "execute_result",
          "data": {
            "text/plain": [
              "4323.999999999999"
            ]
          },
          "metadata": {
            "tags": []
          },
          "execution_count": 7
        }
      ]
    },
    {
      "cell_type": "code",
      "metadata": {
        "id": "XyE6K3Oks-vV",
        "outputId": "8c51fea2-3660-4f69-c183-a4a3f5749461",
        "colab": {
          "base_uri": "https://localhost:8080/",
          "height": 69
        }
      },
      "source": [
        "# show frontal slices\n",
        "t_cons[..., 0]"
      ],
      "execution_count": null,
      "outputs": [
        {
          "output_type": "execute_result",
          "data": {
            "text/plain": [
              "array([[ 0.,  2.,  4.,  6.],\n",
              "       [ 8., 10., 12., 14.],\n",
              "       [16., 18., 20., 22.]])"
            ]
          },
          "metadata": {
            "tags": []
          },
          "execution_count": 8
        }
      ]
    },
    {
      "cell_type": "code",
      "metadata": {
        "id": "TR9PfAZxs_6F",
        "outputId": "856f5c85-5b9d-4e5b-ef38-a4c21c55da4b",
        "colab": {
          "base_uri": "https://localhost:8080/",
          "height": 69
        }
      },
      "source": [
        "t_cons[..., 1]"
      ],
      "execution_count": null,
      "outputs": [
        {
          "output_type": "execute_result",
          "data": {
            "text/plain": [
              "array([[ 1.,  3.,  5.,  7.],\n",
              "       [ 9., 11., 13., 15.],\n",
              "       [17., 19., 21., 23.]])"
            ]
          },
          "metadata": {
            "tags": []
          },
          "execution_count": 9
        }
      ]
    },
    {
      "cell_type": "markdown",
      "metadata": {
        "id": "jaK87iJXwy2O"
      },
      "source": [
        "### Unfolding"
      ]
    },
    {
      "cell_type": "code",
      "metadata": {
        "id": "MG9deHbnqsD8"
      },
      "source": [
        "# mode-1 unfolding (i.e. zeroth mode)\n",
        "unfolded = tl.unfold(t_cons, mode=0)"
      ],
      "execution_count": null,
      "outputs": []
    },
    {
      "cell_type": "code",
      "metadata": {
        "id": "ulHvpRe2rWmW",
        "outputId": "0558bdf1-84da-4af0-9405-e096d2af714c",
        "colab": {
          "base_uri": "https://localhost:8080/",
          "height": 69
        }
      },
      "source": [
        "print(unfolded)"
      ],
      "execution_count": null,
      "outputs": [
        {
          "output_type": "stream",
          "text": [
            "[[ 0.  1.  2.  3.  4.  5.  6.  7.]\n",
            " [ 8.  9. 10. 11. 12. 13. 14. 15.]\n",
            " [16. 17. 18. 19. 20. 21. 22. 23.]]\n"
          ],
          "name": "stdout"
        }
      ]
    },
    {
      "cell_type": "code",
      "metadata": {
        "id": "YIXIuPRWqsw5",
        "outputId": "7d2bde87-ad5d-41ff-a7a9-56c0052ef2e0",
        "colab": {
          "base_uri": "https://localhost:8080/",
          "height": 260
        }
      },
      "source": [
        "# refold the unfolded tensor\n",
        "tl.fold(unfolded, mode=0, shape=t_cons.shape)"
      ],
      "execution_count": null,
      "outputs": [
        {
          "output_type": "execute_result",
          "data": {
            "text/plain": [
              "array([[[ 0.,  1.],\n",
              "        [ 2.,  3.],\n",
              "        [ 4.,  5.],\n",
              "        [ 6.,  7.]],\n",
              "\n",
              "       [[ 8.,  9.],\n",
              "        [10., 11.],\n",
              "        [12., 13.],\n",
              "        [14., 15.]],\n",
              "\n",
              "       [[16., 17.],\n",
              "        [18., 19.],\n",
              "        [20., 21.],\n",
              "        [22., 23.]]])"
            ]
          },
          "metadata": {
            "tags": []
          },
          "execution_count": 12
        }
      ]
    },
    {
      "cell_type": "markdown",
      "metadata": {
        "id": "lE7UPcpbBFRt"
      },
      "source": [
        "### Other basic operations"
      ]
    },
    {
      "cell_type": "code",
      "metadata": {
        "id": "AC50ysLuBJhn",
        "outputId": "cecb87a1-32e9-43d5-bcc3-612facfe4d59",
        "colab": {
          "base_uri": "https://localhost:8080/",
          "height": 35
        }
      },
      "source": [
        "# dimension of tensor\n",
        "tl.shape(t_rand)"
      ],
      "execution_count": null,
      "outputs": [
        {
          "output_type": "execute_result",
          "data": {
            "text/plain": [
              "(3, 3, 3)"
            ]
          },
          "metadata": {
            "tags": []
          },
          "execution_count": 29
        }
      ]
    },
    {
      "cell_type": "markdown",
      "metadata": {
        "id": "HlpS-9tXIrlt"
      },
      "source": [
        "# Decomposition"
      ]
    },
    {
      "cell_type": "markdown",
      "metadata": {
        "id": "JODkeWzrJHZW"
      },
      "source": [
        "### ALS"
      ]
    },
    {
      "cell_type": "code",
      "metadata": {
        "id": "gKJc6YJPKZzl"
      },
      "source": [
        "# stopping criteria \n",
        "def err(tensor,weight,factors): \n",
        "  t_tilde=tl.kruskal_to_tensor((weight,factors)) # transform tensor decomposition (kruskal tensor) to tensor\n",
        "  return(tl.norm(tensor-t_tilde))"
      ],
      "execution_count": 62,
      "outputs": []
    },
    {
      "cell_type": "code",
      "metadata": {
        "id": "f-2qmNUpIuRZ"
      },
      "source": [
        "# ALS method to compute tensor decomposition\n",
        "def als(tensor,rank,it_max=100,tol=1e-5):\n",
        "  N=tl.ndim(tensor) # order of tensor\n",
        "  norm_tensor=tl.norm(tensor) # norm of tensor\n",
        "  factors=[] # list of factor matrices\n",
        "  # Initializtion of factor matrices by left singular vectors\n",
        "  for mode in range(N):\n",
        "    unfolded=tl.unfold(tensor, mode)\n",
        "    if rank<=tl.shape(tensor)[mode] : \n",
        "      u,s,v=tl.partial_svd(unfolded,n_eigenvecs=rank) # first rank eigenvectors/values (ascendent)\n",
        "    else : \n",
        "      u,s,v=tl.partial_svd(unfolded,n_eigenvecs=tl.shape(tensor)[mode]) \n",
        "      u=np.append(u,np.random.random((np.shape(u)[0],rank-tl.shape(tensor)[mode])),axis=1)  # sometimes we have singular matrix error\n",
        "    factors+=[u]\n",
        "  weights,factors=tl.cp_tensor.cp_normalize((None,factors)) # normalise factor matrices\n",
        "  it=0\n",
        "  error=[err(tensor,weights,factors)/norm_tensor]\n",
        "  while (error[len(error)-1]>tol and it<it_max): \n",
        "    for n in range(N):\n",
        "      V=np.ones((rank,rank))\n",
        "      for i in range(len(factors)):\n",
        "        if i != n : V=V*tl.dot(tl.transpose(factors[i]),factors[i])\n",
        "      W=tl.cp_tensor.unfolding_dot_khatri_rao(tensor, (None,factors), n) # do I need to reverse factors ? --> no deja bon ordre (même matricization que dans le chapitre)\n",
        "      factors[n]= tl.transpose(tl.solve(tl.transpose(V),tl.transpose(W)))\n",
        "    weights,factors=tl.cp_tensor.cp_normalize((None,factors))\n",
        "    it=it+1\n",
        "    error.append(err(tensor,weights,factors)/norm_tensor)\n",
        "  return(weights,factors,it,error)"
      ],
      "execution_count": 96,
      "outputs": []
    },
    {
      "cell_type": "markdown",
      "metadata": {
        "id": "1FQaVrZQ5mHj"
      },
      "source": [
        "#### Test"
      ]
    },
    {
      "cell_type": "code",
      "metadata": {
        "id": "iI1KcXURSP9F",
        "outputId": "1fdd74dc-992c-4093-c18d-c5e87275eb68",
        "colab": {
          "base_uri": "https://localhost:8080/",
          "height": 201
        }
      },
      "source": [
        "# test err\n",
        "tensor=tl.tensor(np.arange(12,dtype='d').reshape((3, 2, 2)))\n",
        "err(tensor,None,factors) # with factors of t_krus"
      ],
      "execution_count": 92,
      "outputs": [
        {
          "output_type": "error",
          "ename": "NameError",
          "evalue": "ignored",
          "traceback": [
            "\u001b[0;31m---------------------------------------------------------------------------\u001b[0m",
            "\u001b[0;31mNameError\u001b[0m                                 Traceback (most recent call last)",
            "\u001b[0;32m<ipython-input-92-eeabcd309de3>\u001b[0m in \u001b[0;36m<module>\u001b[0;34m()\u001b[0m\n\u001b[1;32m      1\u001b[0m \u001b[0;31m# test err\u001b[0m\u001b[0;34m\u001b[0m\u001b[0;34m\u001b[0m\u001b[0;34m\u001b[0m\u001b[0m\n\u001b[1;32m      2\u001b[0m \u001b[0mtensor\u001b[0m\u001b[0;34m=\u001b[0m\u001b[0mtl\u001b[0m\u001b[0;34m.\u001b[0m\u001b[0mtensor\u001b[0m\u001b[0;34m(\u001b[0m\u001b[0mnp\u001b[0m\u001b[0;34m.\u001b[0m\u001b[0marange\u001b[0m\u001b[0;34m(\u001b[0m\u001b[0;36m12\u001b[0m\u001b[0;34m,\u001b[0m\u001b[0mdtype\u001b[0m\u001b[0;34m=\u001b[0m\u001b[0;34m'd'\u001b[0m\u001b[0;34m)\u001b[0m\u001b[0;34m.\u001b[0m\u001b[0mreshape\u001b[0m\u001b[0;34m(\u001b[0m\u001b[0;34m(\u001b[0m\u001b[0;36m3\u001b[0m\u001b[0;34m,\u001b[0m \u001b[0;36m2\u001b[0m\u001b[0;34m,\u001b[0m \u001b[0;36m2\u001b[0m\u001b[0;34m)\u001b[0m\u001b[0;34m)\u001b[0m\u001b[0;34m)\u001b[0m\u001b[0;34m\u001b[0m\u001b[0;34m\u001b[0m\u001b[0m\n\u001b[0;32m----> 3\u001b[0;31m \u001b[0merr\u001b[0m\u001b[0;34m(\u001b[0m\u001b[0mtensor\u001b[0m\u001b[0;34m,\u001b[0m\u001b[0;32mNone\u001b[0m\u001b[0;34m,\u001b[0m\u001b[0mfactors\u001b[0m\u001b[0;34m)\u001b[0m \u001b[0;31m# with factors of t_krus\u001b[0m\u001b[0;34m\u001b[0m\u001b[0;34m\u001b[0m\u001b[0m\n\u001b[0m",
            "\u001b[0;31mNameError\u001b[0m: name 'factors' is not defined"
          ]
        }
      ]
    },
    {
      "cell_type": "code",
      "metadata": {
        "id": "M2QEzhOvMYiI",
        "outputId": "8ff9bb48-25b4-4090-d3fa-ad2bcab2bc4d",
        "colab": {
          "base_uri": "https://localhost:8080/",
          "height": 208
        }
      },
      "source": [
        "# test als with a random tensor, rank = 3 (order)\n",
        "weights,factors,it,error=als(t_rand,3)\n",
        "tl.kruskal_to_tensor((weights,factors))"
      ],
      "execution_count": 98,
      "outputs": [
        {
          "output_type": "execute_result",
          "data": {
            "text/plain": [
              "array([[[0.85246198, 0.36474356, 0.90508098],\n",
              "        [0.47107042, 0.08714579, 0.25079474],\n",
              "        [0.88009196, 0.94653382, 0.20147073]],\n",
              "\n",
              "       [[0.24697925, 0.34971545, 0.12977341],\n",
              "        [0.76543105, 0.86956049, 0.61198147],\n",
              "        [0.77780261, 0.76612332, 0.71077175]],\n",
              "\n",
              "       [[0.7218168 , 0.75701287, 0.47140794],\n",
              "        [0.74666465, 0.39177018, 0.68204332],\n",
              "        [0.89206894, 0.32226626, 0.94492172]]])"
            ]
          },
          "metadata": {
            "tags": []
          },
          "execution_count": 98
        }
      ]
    },
    {
      "cell_type": "code",
      "metadata": {
        "id": "OoeRDG2uBhSY"
      },
      "source": [
        "from tensorly.decomposition import parafac"
      ],
      "execution_count": null,
      "outputs": []
    },
    {
      "cell_type": "code",
      "metadata": {
        "id": "mIMG96oSK0sU"
      },
      "source": [
        "# compare with parafac in tensorly\n",
        "kt=parafac(t_rand,3)\n",
        "tl.kruskal_to_tensor(kt)"
      ],
      "execution_count": null,
      "outputs": []
    },
    {
      "cell_type": "code",
      "metadata": {
        "id": "-wpLlIgvDdXc"
      },
      "source": [
        "# compare with the initial tensor\n",
        "t_rand"
      ],
      "execution_count": null,
      "outputs": []
    },
    {
      "cell_type": "code",
      "metadata": {
        "id": "-bIyq42LB-rw"
      },
      "source": [
        "# test als with a random tensor, rank = 100\n",
        "weights,factors=als(t_rand,100)\n",
        "tl.kruskal_to_tensor((weights,factors))"
      ],
      "execution_count": null,
      "outputs": []
    },
    {
      "cell_type": "code",
      "metadata": {
        "id": "i7HJlZRNCSfl"
      },
      "source": [
        "# test als with a Kurskal tensor\n",
        "weights,factors=als(t_krus,3)\n",
        "weights"
      ],
      "execution_count": null,
      "outputs": []
    },
    {
      "cell_type": "code",
      "metadata": {
        "id": "hFIG7oJVHA2Q"
      },
      "source": [
        "factors[0]"
      ],
      "execution_count": null,
      "outputs": []
    },
    {
      "cell_type": "code",
      "metadata": {
        "id": "E-P8OH4pHEe-"
      },
      "source": [
        "factors[1]"
      ],
      "execution_count": null,
      "outputs": []
    },
    {
      "cell_type": "code",
      "metadata": {
        "id": "1m0Llx3kHGfA"
      },
      "source": [
        "factors[2]"
      ],
      "execution_count": null,
      "outputs": []
    },
    {
      "cell_type": "code",
      "metadata": {
        "id": "0_8gtRuXIMIY"
      },
      "source": [
        "tl.kruskal_to_tensor((weights,factors))"
      ],
      "execution_count": null,
      "outputs": []
    },
    {
      "cell_type": "code",
      "metadata": {
        "id": "KrQkFswpIKYd"
      },
      "source": [
        "# compare with the initial tensor\n",
        "t_krus"
      ],
      "execution_count": null,
      "outputs": []
    },
    {
      "cell_type": "markdown",
      "metadata": {
        "id": "gOtSFomrJIPQ"
      },
      "source": [
        "We obtain the same tensor, but not the same decomposition (weights and factors are different from the definition of t_krus), because of permutation and normalization."
      ]
    },
    {
      "cell_type": "markdown",
      "metadata": {
        "id": "bySkFPMeP-Cc"
      },
      "source": [
        "**Questions :**\n",
        "\n",
        "\n",
        "1.   multi_mode_dot : formule ? Reverse factors ? --> No\n",
        "2.   rank <= N1? singular matrix lorsque rank>N1 --> inevitable\n",
        "3.   ça ne converge pas ? --> normal\n",
        "4.   pseudo-code : où normaliser les factor matrices ?\n",
        "5.   CPRAND : retrieve idx ?\n",
        "\n",
        "\n",
        "\n",
        "**Remarks :**\n",
        "\n",
        "\n",
        "1.   useless to initialize mode=0 factor matrix\n",
        "\n",
        "\n"
      ]
    },
    {
      "cell_type": "markdown",
      "metadata": {
        "id": "ZDxixI6O_0bh"
      },
      "source": [
        "### her-CPRAND\n",
        "\n"
      ]
    },
    {
      "cell_type": "markdown",
      "metadata": {
        "id": "gXJ3IhdMIFMp"
      },
      "source": [
        "**Questions**\n",
        "\n",
        "1.   algo comparaison : condition number to 100, log scale ? P4\n",
        "2.   parameter researche : hungarian algo\n",
        "3.   f-fmin est grand (pour parameter et comparaison)\n",
        "\n",
        "\n",
        "\n"
      ]
    },
    {
      "cell_type": "markdown",
      "metadata": {
        "id": "g9AC_UkREjTn"
      },
      "source": [
        "#### Stopping criteria"
      ]
    },
    {
      "cell_type": "code",
      "metadata": {
        "id": "gZoUOpCkhPNz"
      },
      "source": [
        "# Stopping criteria of CPRAND\n",
        "def err_rand(tensor,weights,factors,P): # P should be little than the total number of indices, otherwise no sense.\n",
        "  indices_list = [np.random.randint(0, tl.shape(m)[0], size=P, dtype=int) for m in factors] \n",
        "  indices_list = [i.tolist() for i in indices_list]\n",
        "  indices_list = tuple(indices_list)\n",
        "  est_values=[]\n",
        "  for i in range(P):\n",
        "     value=weights\n",
        "     for mode in range(tl.ndim(tensor)) :\n",
        "       value=value*factors[mode][indices_list[mode][i],:]\n",
        "     est_values+=[sum(value)]\n",
        "  return(np.sqrt(sum((tensor[indices_list]-est_values)**2))) "
      ],
      "execution_count": 63,
      "outputs": []
    },
    {
      "cell_type": "markdown",
      "metadata": {
        "id": "dqe_g21dDz_E"
      },
      "source": [
        "##### Test for err"
      ]
    },
    {
      "cell_type": "code",
      "metadata": {
        "id": "6eFd263nH26C"
      },
      "source": [
        "indices_list=[np.random.randint(0, tl.shape(m)[0], size=4, dtype=int) for m in factors]"
      ],
      "execution_count": 175,
      "outputs": []
    },
    {
      "cell_type": "code",
      "metadata": {
        "id": "ld4X_douJnaQ",
        "outputId": "6defd7b1-a06e-470e-ec03-2d229626606e",
        "colab": {
          "base_uri": "https://localhost:8080/",
          "height": 35
        }
      },
      "source": [
        "indices_list = [i.tolist() for i in indices_list]\n",
        "indices_list = tuple(indices_list) \n",
        "indices_list"
      ],
      "execution_count": 176,
      "outputs": [
        {
          "output_type": "execute_result",
          "data": {
            "text/plain": [
              "([2, 2, 1, 0], [1, 0, 1, 0], [0, 0, 1, 0])"
            ]
          },
          "metadata": {
            "tags": []
          },
          "execution_count": 176
        }
      ]
    },
    {
      "cell_type": "code",
      "metadata": {
        "id": "T_uDNFG9KLOs",
        "outputId": "8a214f77-6e30-444e-b4ae-4bb5f1d94962",
        "colab": {
          "base_uri": "https://localhost:8080/",
          "height": 35
        }
      },
      "source": [
        "t_krus[indices_list] "
      ],
      "execution_count": 177,
      "outputs": [
        {
          "output_type": "execute_result",
          "data": {
            "text/plain": [
              "array([4440., 3426., 3036.,  534.])"
            ]
          },
          "metadata": {
            "tags": []
          },
          "execution_count": 177
        }
      ]
    },
    {
      "cell_type": "code",
      "metadata": {
        "id": "8ePYqJmQKkW4"
      },
      "source": [
        "est_values=[]\n",
        "for i in range(4) : # P \n",
        "  value=weights\n",
        "  for mode in range(tl.ndim(t_krus)) : \n",
        "     value=value*factors[mode][indices_list[mode][i],:]\n",
        "  est_values+=[sum(value)]"
      ],
      "execution_count": 178,
      "outputs": []
    },
    {
      "cell_type": "code",
      "metadata": {
        "id": "sTXsrnCNChCI",
        "outputId": "a069bded-fb44-4ac3-804f-767c3c8e668c",
        "colab": {
          "base_uri": "https://localhost:8080/",
          "height": 35
        }
      },
      "source": [
        "est_values"
      ],
      "execution_count": 179,
      "outputs": [
        {
          "output_type": "execute_result",
          "data": {
            "text/plain": [
              "[4440.5388217838645, 3426.4158191844895, 3036.3684338114426, 534.064722692172]"
            ]
          },
          "metadata": {
            "tags": []
          },
          "execution_count": 179
        }
      ]
    },
    {
      "cell_type": "code",
      "metadata": {
        "id": "-q1rmxN-DoaN"
      },
      "source": [
        "err(t_krus,weights,factors,4)"
      ],
      "execution_count": null,
      "outputs": []
    },
    {
      "cell_type": "markdown",
      "metadata": {
        "id": "qrNUAYKhEw-v"
      },
      "source": [
        "#### Main method"
      ]
    },
    {
      "cell_type": "code",
      "metadata": {
        "id": "O90K1nZdAZVL"
      },
      "source": [
        "# exact_err indicates whether we use exact error calculation or randomised error calculation\n",
        "# we stop the algorithm if min_err is not updated for err_it_max iterations\n",
        "\n",
        "def her_CPRAND(tensor,rank,n_samples,exact_err=False,it_max=100,err_it_max=20,tol=1e-3,beta=0.5,eta=1.5,gamma=1.05,gamma_bar=1.01):\n",
        "  beta_bar=1\n",
        "  N=tl.ndim(tensor) # order of tensor\n",
        "  norm_tensor=tl.norm(tensor) # norm of tensor\n",
        "  factors=[]\n",
        "\n",
        "  # Initializtion of factor matrices by left singular vectors (same as in als)\n",
        "  for mode in range(N):\n",
        "    unfolded=tl.unfold(tensor, mode)\n",
        "    if rank<=tl.shape(tensor)[mode] : \n",
        "      u,s,v=tl.partial_svd(unfolded,n_eigenvecs=rank) \n",
        "    else : \n",
        "      u,s,v=tl.partial_svd(unfolded,n_eigenvecs=tl.shape(tensor)[mode]) \n",
        "      u=np.append(u,np.random.random((np.shape(u)[0],rank-tl.shape(tensor)[mode])),axis=1)  \n",
        "    factors+=[u]\n",
        "  weights,factors=tl.cp_tensor.cp_normalize((None,factors)) \n",
        "  # Initialization of factor hat matrice by factor matrices\n",
        "  factors_hat=factors\n",
        "  F_hat_bf=tl.norm(tensor-tl.cp_to_tensor((weights,factors)),2) # cost\n",
        "\n",
        "  it=0\n",
        "  err_it=0\n",
        "  if(exact_err==False):\n",
        "    error=[err_rand(tensor,weights,factors,P=int(10*rank*np.log(rank)+1))/norm_tensor] # P is chosen as 10*rank*ln(rank)\n",
        "  else :\n",
        "    error=[err(tensor,weights,factors)/norm_tensor]\n",
        "  min_err=error[len(error)-1]\n",
        "  rng = tl.random.check_random_state(None)\n",
        "  while (min_err>tol and it<it_max and err_it<err_it_max): \n",
        "    for n in range(N):\n",
        "      Zs,indices=tl.decomposition.sample_khatri_rao(factors_hat,n_samples,skip_matrix=n,random_state=rng)\n",
        "      indices_list = [i.tolist() for i in indices]\n",
        "      indices_list.insert(n, slice(None, None, None))\n",
        "      indices_list = tuple(indices_list)\n",
        "      if (n==0) :sampled_unfolding = tl.transpose(tensor[indices_list]) # because of the matricization\n",
        "      else : sampled_unfolding =tensor[indices_list]\n",
        "      factor_bf=factors[n]\n",
        "      # update\n",
        "      factors[n] = tl.transpose(tl.solve(tl.dot(tl.transpose(Zs),Zs),tl.dot(tl.transpose(Zs),sampled_unfolding))) # solve needs a squared matrix\n",
        "      if (n==N-1) : F_hat_new=tl.norm(tl.dot(Zs,tl.transpose(factors[n]))-sampled_unfolding,2) # cost update\n",
        "      # extrapolate\n",
        "      factors_hat[n]=factors[n]+beta*(factors[n]-factor_bf)\n",
        "\n",
        "    if (F_hat_new>F_hat_bf):\n",
        "      weights,factors = tl.cp_tensor.cp_normalize((None,factors))\n",
        "      factors_hat=factors\n",
        "      beta_bar=beta\n",
        "      beta=beta/eta\n",
        "    else :\n",
        "      weights,factors = tl.cp_tensor.cp_normalize((None,factors_hat))\n",
        "      beta_bar=min(1,beta_bar*gamma_bar)\n",
        "      beta=min(beta_bar,gamma*beta)\n",
        "    F_hat_bf=F_hat_new\n",
        "    it=it+1\n",
        "    if(exact_err==False):\n",
        "      error.append(err_rand(tensor,weights,factors,P=int(10*rank*np.log(rank)+1))/norm_tensor)\n",
        "    else : error.append(err(tensor,weights,factors)/norm_tensor)\n",
        "    if(error[len(error)-1]<min_err) : min_err=error[len(error)-1] # err update\n",
        "    else : err_it=err_it+1\n",
        "  return(weights,factors,it,error)"
      ],
      "execution_count": 70,
      "outputs": []
    },
    {
      "cell_type": "markdown",
      "metadata": {
        "id": "gvYVQ5Cu5yxr"
      },
      "source": [
        "##### Test "
      ]
    },
    {
      "cell_type": "markdown",
      "metadata": {
        "id": "BHK2DC2QB59N"
      },
      "source": [
        "###### Test sample_kahtri_rao"
      ]
    },
    {
      "cell_type": "code",
      "metadata": {
        "id": "NatVZHsHh2ps",
        "outputId": "d95b701e-a5c3-4b0b-f460-1cfe594bd6f6",
        "colab": {
          "base_uri": "https://localhost:8080/",
          "height": 69
        }
      },
      "source": [
        "# test sample_kahtri_rao\n",
        "Zs,indices=tl.decomposition.sample_khatri_rao(factors,2,skip_matrix=1)"
      ],
      "execution_count": 84,
      "outputs": [
        {
          "output_type": "stream",
          "text": [
            "/usr/local/lib/python3.6/dist-packages/tensorly/decomposition/_cp.py:604: UserWarning: You are creating a new random number generator at each call.\n",
            "If you are calling sample_khatri_rao inside a loop this will be slow: best to create a rng outside and pass it as argument (random_state=rng).\n",
            "  warnings.warn('You are creating a new random number generator at each call.\\n'\n"
          ],
          "name": "stderr"
        }
      ]
    },
    {
      "cell_type": "code",
      "metadata": {
        "id": "fDJFocRxsyfS",
        "outputId": "78afb706-8a1d-4ab2-8147-bc906297c367",
        "colab": {
          "base_uri": "https://localhost:8080/",
          "height": 69
        }
      },
      "source": [
        "t_krus[...,0]"
      ],
      "execution_count": 85,
      "outputs": [
        {
          "output_type": "execute_result",
          "data": {
            "text/plain": [
              "array([[ 534.,  684.],\n",
              "       [1980., 2562.],\n",
              "       [3426., 4440.]])"
            ]
          },
          "metadata": {
            "tags": []
          },
          "execution_count": 85
        }
      ]
    },
    {
      "cell_type": "code",
      "metadata": {
        "id": "Z2kFEzh0s2fx",
        "outputId": "4693d15d-c0ea-4cc0-9867-81d103e76d4b",
        "colab": {
          "base_uri": "https://localhost:8080/",
          "height": 69
        }
      },
      "source": [
        "t_krus[...,1]"
      ],
      "execution_count": 86,
      "outputs": [
        {
          "output_type": "execute_result",
          "data": {
            "text/plain": [
              "array([[ 630.,  807.],\n",
              "       [2346., 3036.],\n",
              "       [4062., 5265.]])"
            ]
          },
          "metadata": {
            "tags": []
          },
          "execution_count": 86
        }
      ]
    },
    {
      "cell_type": "code",
      "metadata": {
        "id": "n8Hsmjtsr1pj",
        "outputId": "41d50872-42de-4536-dd29-6e92a8c2d1d4",
        "colab": {
          "base_uri": "https://localhost:8080/",
          "height": 139
        }
      },
      "source": [
        "factors"
      ],
      "execution_count": null,
      "outputs": [
        {
          "output_type": "execute_result",
          "data": {
            "text/plain": [
              "[array([[0.        , 0.12309149, 0.20739034],\n",
              "        [0.4472136 , 0.49236596, 0.51847585],\n",
              "        [0.89442719, 0.86164044, 0.82956136]]),\n",
              " array([[0.6       , 0.60971076, 0.61782155],\n",
              "        [0.8       , 0.79262399, 0.78631834]]),\n",
              " array([[0.6401844 , 0.64413575, 0.64764842],\n",
              "        [0.76822128, 0.7649112 , 0.76193932]])]"
            ]
          },
          "metadata": {
            "tags": []
          },
          "execution_count": 87
        }
      ]
    },
    {
      "cell_type": "code",
      "metadata": {
        "id": "GzW_nRyot94o",
        "outputId": "0e3d024e-d96e-4756-91a3-a726a9533fcf",
        "colab": {
          "base_uri": "https://localhost:8080/",
          "height": 121
        }
      },
      "source": [
        "tl.tenalg.khatri_rao(factors,skip_matrix=1)"
      ],
      "execution_count": null,
      "outputs": [
        {
          "output_type": "execute_result",
          "data": {
            "text/plain": [
              "array([[-7.49125408e-07,  2.62419513e+02,  6.05352789e+02],\n",
              "       [-8.98950490e-07,  3.11623172e+02,  7.12179752e+02],\n",
              "       [ 6.74999997e+02,  1.04967805e+03,  1.51338197e+03],\n",
              "       [ 8.09999996e+02,  1.24649269e+03,  1.78044938e+03],\n",
              "       [ 1.35000003e+03,  1.83693651e+03,  2.42141120e+03],\n",
              "       [ 1.62000004e+03,  2.18136210e+03,  2.84871906e+03]])"
            ]
          },
          "metadata": {
            "tags": []
          },
          "execution_count": 106
        }
      ]
    },
    {
      "cell_type": "code",
      "metadata": {
        "id": "UMrJo_ORrvIH",
        "outputId": "e129256e-b1c0-4d31-ed5b-38df042e597f",
        "colab": {
          "base_uri": "https://localhost:8080/",
          "height": 52
        }
      },
      "source": [
        "Zs # line 5 and 3"
      ],
      "execution_count": null,
      "outputs": [
        {
          "output_type": "execute_result",
          "data": {
            "text/plain": [
              "array([[1350.00003412, 1836.93650543, 2421.41119956],\n",
              "       [ 674.99999656, 1049.67805344, 1513.38197013]])"
            ]
          },
          "metadata": {
            "tags": []
          },
          "execution_count": 104
        }
      ]
    },
    {
      "cell_type": "code",
      "metadata": {
        "id": "hjFGFtEhppZd",
        "outputId": "1c80d737-79f0-4a49-fe2f-2941c504ff63",
        "colab": {
          "base_uri": "https://localhost:8080/",
          "height": 35
        }
      },
      "source": [
        "indices"
      ],
      "execution_count": 87,
      "outputs": [
        {
          "output_type": "execute_result",
          "data": {
            "text/plain": [
              "[array([1, 1]), array([0, 1])]"
            ]
          },
          "metadata": {
            "tags": []
          },
          "execution_count": 87
        }
      ]
    },
    {
      "cell_type": "code",
      "metadata": {
        "id": "hzWlRXXek4Wm"
      },
      "source": [
        "indices_list = [i.tolist() for i in indices]"
      ],
      "execution_count": 88,
      "outputs": []
    },
    {
      "cell_type": "code",
      "metadata": {
        "id": "gW9lCd7-qDG-"
      },
      "source": [
        "indices_list.insert(1, slice(None, None, None))"
      ],
      "execution_count": 90,
      "outputs": []
    },
    {
      "cell_type": "code",
      "metadata": {
        "id": "IUbs8C8_nEOc",
        "outputId": "334de6d7-ef88-4d43-b2f4-d1799753ece2",
        "colab": {
          "base_uri": "https://localhost:8080/",
          "height": 35
        }
      },
      "source": [
        "indices_list"
      ],
      "execution_count": 91,
      "outputs": [
        {
          "output_type": "execute_result",
          "data": {
            "text/plain": [
              "[[1, 1], slice(None, None, None), [0, 1]]"
            ]
          },
          "metadata": {
            "tags": []
          },
          "execution_count": 91
        }
      ]
    },
    {
      "cell_type": "code",
      "metadata": {
        "id": "E-GDO7_mnZhc"
      },
      "source": [
        "indices_list = tuple(indices_list)"
      ],
      "execution_count": null,
      "outputs": []
    },
    {
      "cell_type": "code",
      "metadata": {
        "id": "uDN2tU3RnJl1"
      },
      "source": [
        "sampled_unfolding = t_krus[indices_list]"
      ],
      "execution_count": null,
      "outputs": []
    },
    {
      "cell_type": "code",
      "metadata": {
        "id": "9CwZZQ8QoGii",
        "outputId": "c37c9a44-73a2-4975-ec8d-90d1df07e75d",
        "colab": {
          "base_uri": "https://localhost:8080/",
          "height": 52
        }
      },
      "source": [
        "sampled_unfolding"
      ],
      "execution_count": null,
      "outputs": [
        {
          "output_type": "execute_result",
          "data": {
            "text/plain": [
              "array([[3426., 4440.],\n",
              "       [1980., 2562.]])"
            ]
          },
          "metadata": {
            "tags": []
          },
          "execution_count": 117
        }
      ]
    },
    {
      "cell_type": "code",
      "metadata": {
        "id": "R1hbrmhlnomF"
      },
      "source": [
        "sampled_unfolding = tl.transpose(t_krus[indices_list])"
      ],
      "execution_count": null,
      "outputs": []
    },
    {
      "cell_type": "code",
      "metadata": {
        "id": "LxjkNNhk7k1I",
        "outputId": "f23ead5e-99ac-4d4e-87b3-96b61fe510e5",
        "colab": {
          "base_uri": "https://localhost:8080/",
          "height": 69
        }
      },
      "source": [
        "tl.solve(tl.dot(tl.transpose(Zs),Zs),tl.dot(tl.transpose(Zs),sampled_unfolding))"
      ],
      "execution_count": null,
      "outputs": [
        {
          "output_type": "execute_result",
          "data": {
            "text/plain": [
              "array([[ 1023.30028924, -1093.43495461,  6201.96856949],\n",
              "       [-1727.69563215,  6110.96759931, -5688.58900876],\n",
              "       [ 2048.        ,    -0.        ,  8192.        ]])"
            ]
          },
          "metadata": {
            "tags": []
          },
          "execution_count": 124
        }
      ]
    },
    {
      "cell_type": "markdown",
      "metadata": {
        "id": "o04TDjYWCGGZ"
      },
      "source": [
        "###### Test her_CPRAND"
      ]
    },
    {
      "cell_type": "code",
      "metadata": {
        "id": "rvMUTzYIJomx",
        "outputId": "58816dbd-23ad-4a71-f6d7-1a5f9daf739b",
        "colab": {
          "base_uri": "https://localhost:8080/",
          "height": 35
        }
      },
      "source": [
        "# with a cp_tensor (order=3)\n",
        "rank=4\n",
        "n_samples=int(10*rank*np.log(rank)+1)\n",
        "weights,factors,it,error=her_CPRAND(t_krus,rank,n_samples) \n",
        "it # converge in 34 iterations\n",
        "min(error) # 0.0007"
      ],
      "execution_count": 107,
      "outputs": [
        {
          "output_type": "execute_result",
          "data": {
            "text/plain": [
              "0.0007841188748593731"
            ]
          },
          "metadata": {
            "tags": []
          },
          "execution_count": 107
        }
      ]
    },
    {
      "cell_type": "code",
      "metadata": {
        "id": "nkCllCucTjpy",
        "outputId": "ae0a1cb0-d429-4b42-a0c3-bd145ca1fca9",
        "colab": {
          "base_uri": "https://localhost:8080/",
          "height": 156
        }
      },
      "source": [
        "tl.cp_to_tensor((weights,factors))"
      ],
      "execution_count": 108,
      "outputs": [
        {
          "output_type": "execute_result",
          "data": {
            "text/plain": [
              "array([[[ 534.18651877,  630.21988366],\n",
              "        [ 684.23871369,  807.28201053]],\n",
              "\n",
              "       [[1980.69156964, 2346.81935909],\n",
              "        [2562.89479051, 3037.06045545]],\n",
              "\n",
              "       [[3427.19662051, 4063.41883451],\n",
              "        [4441.55086733, 5266.83890036]]])"
            ]
          },
          "metadata": {
            "tags": []
          },
          "execution_count": 108
        }
      ]
    },
    {
      "cell_type": "code",
      "metadata": {
        "id": "P8poiPnsT0O0",
        "outputId": "07366b61-8ad0-425b-af1a-9496316874c9",
        "colab": {
          "base_uri": "https://localhost:8080/",
          "height": 156
        }
      },
      "source": [
        "t_krus"
      ],
      "execution_count": 109,
      "outputs": [
        {
          "output_type": "execute_result",
          "data": {
            "text/plain": [
              "array([[[ 534.,  630.],\n",
              "        [ 684.,  807.]],\n",
              "\n",
              "       [[1980., 2346.],\n",
              "        [2562., 3036.]],\n",
              "\n",
              "       [[3426., 4062.],\n",
              "        [4440., 5265.]]])"
            ]
          },
          "metadata": {
            "tags": []
          },
          "execution_count": 109
        }
      ]
    },
    {
      "cell_type": "code",
      "metadata": {
        "id": "Ups_Ngcq-9u0",
        "outputId": "9c7f4f0f-918b-49c9-a221-6df5c7b716f1",
        "colab": {
          "base_uri": "https://localhost:8080/",
          "height": 347
        }
      },
      "source": [
        "# with a random tensor, order = 4\n",
        "t_rand = np.random.random((3, 2, 2, 4))\n",
        "t_rand"
      ],
      "execution_count": 113,
      "outputs": [
        {
          "output_type": "execute_result",
          "data": {
            "text/plain": [
              "array([[[[0.36695226, 0.30445972, 0.7344427 , 0.95387413],\n",
              "         [0.88918399, 0.21935205, 0.09265019, 0.27907827]],\n",
              "\n",
              "        [[0.3901823 , 0.19371545, 0.14779691, 0.7696922 ],\n",
              "         [0.99412117, 0.4068988 , 0.74950894, 0.18558491]]],\n",
              "\n",
              "\n",
              "       [[[0.36961743, 0.30059259, 0.76479028, 0.27251397],\n",
              "         [0.96675812, 0.8224456 , 0.26362656, 0.46895818]],\n",
              "\n",
              "        [[0.33780669, 0.7292523 , 0.82390922, 0.17570944],\n",
              "         [0.86190809, 0.8172921 , 0.97753618, 0.06177867]]],\n",
              "\n",
              "\n",
              "       [[[0.61591675, 0.15941027, 0.90926407, 0.00506779],\n",
              "         [0.3552033 , 0.56083339, 0.35054984, 0.26543316]],\n",
              "\n",
              "        [[0.84913973, 0.74095254, 0.65473975, 0.44477737],\n",
              "         [0.94796881, 0.83968156, 0.81753246, 0.65504819]]]])"
            ]
          },
          "metadata": {
            "tags": []
          },
          "execution_count": 113
        }
      ]
    },
    {
      "cell_type": "code",
      "metadata": {
        "id": "o_Br200v_WIX",
        "outputId": "69402421-7f17-4371-b06b-80a5c03a7a52",
        "colab": {
          "base_uri": "https://localhost:8080/",
          "height": 35
        }
      },
      "source": [
        "# here rank=3\n",
        "weights,factors,it,error=her_CPRAND(t_rand,rank,n_samples) \n",
        "it"
      ],
      "execution_count": 114,
      "outputs": [
        {
          "output_type": "execute_result",
          "data": {
            "text/plain": [
              "26"
            ]
          },
          "metadata": {
            "tags": []
          },
          "execution_count": 114
        }
      ]
    },
    {
      "cell_type": "code",
      "metadata": {
        "id": "9C6_R2kwCdAj",
        "outputId": "4e0fbf11-dd19-4d05-a16a-6f57457b4a98",
        "colab": {
          "base_uri": "https://localhost:8080/",
          "height": 347
        }
      },
      "source": [
        "tl.cp_to_tensor((weights,factors))"
      ],
      "execution_count": 115,
      "outputs": [
        {
          "output_type": "execute_result",
          "data": {
            "text/plain": [
              "array([[[[0.39021057, 0.13334874, 0.76566831, 0.87829243],\n",
              "         [0.8441751 , 0.31440105, 0.06847771, 0.27168006]],\n",
              "\n",
              "        [[0.28163923, 0.39675116, 0.18245681, 0.78973879],\n",
              "         [0.77311072, 0.58016159, 0.74065398, 0.27552033]]],\n",
              "\n",
              "\n",
              "       [[[0.35959881, 0.28066413, 0.71394008, 0.23060209],\n",
              "         [1.15259349, 0.39818686, 0.31290682, 0.42805466]],\n",
              "\n",
              "        [[0.5589313 , 0.60634386, 0.57031645, 0.40742761],\n",
              "         [0.94338467, 0.73850392, 0.87887917, 0.41837207]]],\n",
              "\n",
              "\n",
              "       [[[0.59611264, 0.3538578 , 0.83311822, 0.14838246],\n",
              "         [0.40904962, 0.38851457, 0.24491329, 0.2410787 ]],\n",
              "\n",
              "        [[0.69722448, 0.70845761, 0.70578901, 0.35793334],\n",
              "         [0.91645229, 0.82741652, 0.96704937, 0.44453209]]]])"
            ]
          },
          "metadata": {
            "tags": []
          },
          "execution_count": 115
        }
      ]
    },
    {
      "cell_type": "code",
      "metadata": {
        "id": "11E-JxXaDM1t",
        "outputId": "b262bc5f-6bc4-441e-c724-2880595d3925",
        "colab": {
          "base_uri": "https://localhost:8080/",
          "height": 35
        }
      },
      "source": [
        "# here rank = 100\n",
        "rank=100\n",
        "n_samples=int(10*rank*np.log(rank)+1)\n",
        "weights,factors,it,error=her_CPRAND(t_rand,rank,n_samples) \n",
        "it"
      ],
      "execution_count": 117,
      "outputs": [
        {
          "output_type": "execute_result",
          "data": {
            "text/plain": [
              "17"
            ]
          },
          "metadata": {
            "tags": []
          },
          "execution_count": 117
        }
      ]
    },
    {
      "cell_type": "code",
      "metadata": {
        "id": "JnJ1_pmSDVxp",
        "outputId": "261a7c5a-6252-44ec-91ab-54ebf93a8430",
        "colab": {
          "base_uri": "https://localhost:8080/",
          "height": 347
        }
      },
      "source": [
        "tl.cp_to_tensor((weights,factors))"
      ],
      "execution_count": 118,
      "outputs": [
        {
          "output_type": "execute_result",
          "data": {
            "text/plain": [
              "array([[[[0.36691415, 0.30443346, 0.73441466, 0.95385302],\n",
              "         [0.88919431, 0.2193703 , 0.09266391, 0.27909468]],\n",
              "\n",
              "        [[0.39018016, 0.19371898, 0.1477979 , 0.76966792],\n",
              "         [0.99405875, 0.40686618, 0.74947599, 0.18555972]]],\n",
              "\n",
              "\n",
              "       [[[0.36956929, 0.30057688, 0.7647626 , 0.27250053],\n",
              "         [0.96669091, 0.82241648, 0.26361046, 0.46894354]],\n",
              "\n",
              "        [[0.33782972, 0.72924025, 0.82389502, 0.1757131 ],\n",
              "         [0.86192273, 0.81727949, 0.97751959, 0.06178176]]],\n",
              "\n",
              "\n",
              "       [[[0.61588729, 0.15940333, 0.90923162, 0.0050489 ],\n",
              "         [0.35521116, 0.56084025, 0.35054467, 0.26541129]],\n",
              "\n",
              "        [[0.84912182, 0.74093109, 0.65472614, 0.44478697],\n",
              "         [0.94793645, 0.83964709, 0.81750925, 0.65504847]]]])"
            ]
          },
          "metadata": {
            "tags": []
          },
          "execution_count": 118
        }
      ]
    },
    {
      "cell_type": "markdown",
      "metadata": {
        "id": "xVDfOeSaOmaT"
      },
      "source": [
        "#### Research of optimal parameters"
      ]
    },
    {
      "cell_type": "markdown",
      "metadata": {
        "id": "5oDkTVSxY0IT"
      },
      "source": [
        "cf P12, 14-15, long article of her.  \n",
        "y-axis : data fitting error $f-f_{min}$ with exact error calculation (or factors error)  \n",
        "x-axis : nb iteration"
      ]
    },
    {
      "cell_type": "code",
      "metadata": {
        "id": "xuRJdfi-PbDg"
      },
      "source": [
        "I=50\n",
        "J=50\n",
        "K=50\n",
        "r=10 # rank\n",
        "n_samples=int(10*r*np.log(r)+1) # nb of randomized samples\n",
        "nb_rand=10 # nb of random initialization"
      ],
      "execution_count": 9,
      "outputs": []
    },
    {
      "cell_type": "code",
      "metadata": {
        "id": "z-xQrhG0PlcU"
      },
      "source": [
        "def param_research(I,J,K,r,nb_rand,n_samples,beta=True,eta=False,gamma=False):\n",
        "  list_err1=[]\n",
        "  list_err2=[]\n",
        "  list_err3=[]\n",
        "  min_e=None\n",
        "  for i in range(nb_rand) : \n",
        "    # Random initialization of a noised cp_tensor\n",
        "    A=np.random.normal(0, 1, size=(I, r))\n",
        "    B=np.random.normal(0, 1, size=(J, r))\n",
        "    C=np.random.normal(0, 1, size=(K, r))\n",
        "    noise=np.random.normal(0, 1, size=(I,J,K))\n",
        "    tensor=tl.cp_to_tensor((None,[A,B,C]))+noise\n",
        "    norm_tensor=tl.norm(tensor,2)\n",
        "    if(min_e==None) : min_e=norm_tensor\n",
        "    # parameter choice\n",
        "    if(beta==True):\n",
        "      weights1,factors1,it1,error1=her_CPRAND(tensor,r,n_samples,exact_err=True,it_max=500,err_it_max=200,beta=0.1,eta=1.5) # beta0=0.1\n",
        "      weights2,factors2,it2,error2=her_CPRAND(tensor,r,n_samples,exact_err=True,it_max=500,err_it_max=200,beta=0.3,eta=1.5) # beta0=0.3\n",
        "      weights3,factors3,it3,error3=her_CPRAND(tensor,r,n_samples,exact_err=True,it_max=500,err_it_max=200,beta=0.5,eta=1.5) # beta0=0.5\n",
        "    if(eta==True):\n",
        "      weights1,factors1,it1,error1=her_CPRAND(tensor,r,n_samples,exact_err=True,it_max=500,err_it_max=200,eta=1.1) # eta=1.1\n",
        "      weights2,factors2,it2,error2=her_CPRAND(tensor,r,n_samples,exact_err=True,it_max=500,err_it_max=200) # eta=1.5\n",
        "      weights3,factors3,it3,error3=her_CPRAND(tensor,r,n_samples,exact_err=True,it_max=500,err_it_max=200,eta=2) # eta=2\n",
        "    if(gamma==True):\n",
        "      weights1,factors1,it1,error1=her_CPRAND(tensor,r,n_samples,exact_err=True,it_max=200,err_it_max=100,eta=1.5,gamma=1.01,gamma_bar=1.005) \n",
        "      weights2,factors2,it2,error2=her_CPRAND(tensor,r,n_samples,exact_err=True,it_max=200,err_it_max=100,eta=1.5) \n",
        "      weights3,factors3,it3,error3=her_CPRAND(tensor,r,n_samples,exact_err=True,it_max=200,err_it_max=100,eta=1.5,gamma=1.1,gamma_bar=1.05) \n",
        "    error1=[i * norm_tensor for i in error1]\n",
        "    list_err1.append(error1)\n",
        "    error2=[i * norm_tensor for i in error2]\n",
        "    list_err2.append(error2)\n",
        "    error3=[i * norm_tensor for i in error3]\n",
        "    list_err3.append(error3)\n",
        "    if (min_e>min(min(error1),min(error2),min(error3))) : min_e=min(min(error1),min(error2),min(error3))\n",
        "  list_err1=[x-min_e for x in list_err1]\n",
        "  list_err2=[x-min_e for x in list_err2]\n",
        "  list_err3=[x-min_e for x in list_err3]\n",
        "  # plot\n",
        "  for i in range(len(list_err1)):\n",
        "    plt.plot(range(len(list_err1[i])),list_err1[i],'b-') \n",
        "  for i in range(len(list_err2)):\n",
        "    plt.plot(range(len(list_err2[i])),list_err2[i],'r-') \n",
        "  for i in range(len(list_err3)):\n",
        "    plt.plot(range(len(list_err3[i])),list_err3[i],'g-')\n",
        "  plt.yscale(\"log\") "
      ],
      "execution_count": 85,
      "outputs": []
    },
    {
      "cell_type": "code",
      "metadata": {
        "id": "hmpUZoLTh-yF",
        "outputId": "d4fcd572-2462-48dc-f552-186f5f3a2708",
        "colab": {
          "base_uri": "https://localhost:8080/",
          "height": 265
        }
      },
      "source": [
        "param_research(I,J,K,r,nb_rand,n_samples,beta=True)\n",
        "# no difference"
      ],
      "execution_count": 86,
      "outputs": [
        {
          "output_type": "display_data",
          "data": {
            "image/png": "[encoded data removed]",
            "text/plain": [
              "<Figure size 432x288 with 1 Axes>"
            ]
          },
          "metadata": {
            "tags": [],
            "needs_background": "light"
          }
        }
      ]
    },
    {
      "cell_type": "code",
      "metadata": {
        "id": "EA4WJJDjpcG9",
        "outputId": "005e3729-4949-4f1b-db88-8f9a8cb83b2f",
        "colab": {
          "base_uri": "https://localhost:8080/",
          "height": 265
        }
      },
      "source": [
        "param_research(I,J,K,r,nb_rand,n_samples,beta=False,eta=True)\n",
        "# we set eta=1.5 (or 2)"
      ],
      "execution_count": 87,
      "outputs": [
        {
          "output_type": "display_data",
          "data": {
            "image/png": "[encoded data removed]",
            "text/plain": [
              "<Figure size 432x288 with 1 Axes>"
            ]
          },
          "metadata": {
            "tags": [],
            "needs_background": "light"
          }
        }
      ]
    },
    {
      "cell_type": "code",
      "metadata": {
        "id": "7CtGvyUEquir",
        "outputId": "fa7bfab2-efc5-4690-fe84-a97c12687e43",
        "colab": {
          "base_uri": "https://localhost:8080/",
          "height": 265
        }
      },
      "source": [
        "param_research(I,J,K,r,nb_rand,n_samples,beta=False,gamma=True)\n",
        "# no difference"
      ],
      "execution_count": 88,
      "outputs": [
        {
          "output_type": "display_data",
          "data": {
            "image/png": "[encoded data removed]",
            "text/plain": [
              "<Figure size 432x288 with 1 Axes>"
            ]
          },
          "metadata": {
            "tags": [],
            "needs_background": "light"
          }
        }
      ]
    },
    {
      "cell_type": "markdown",
      "metadata": {
        "id": "xu8s3QF3RL4a"
      },
      "source": [
        "### Comparaison of algorithms"
      ]
    },
    {
      "cell_type": "code",
      "metadata": {
        "id": "PCpEYmYKR45v"
      },
      "source": [
        "def comparaison(I,J,K,r,nb_rand,n_samples):\n",
        "  list_err1=[]\n",
        "  list_err2=[]\n",
        "  min_e=None\n",
        "  for i in range(nb_rand) : \n",
        "    # Random initialization of a noised cp_tensor\n",
        "    A=np.random.normal(0, 1, size=(I, r))\n",
        "    B=np.random.normal(0, 1, size=(J, r))\n",
        "    C=np.random.normal(0, 1, size=(K, r))\n",
        "    noise=np.random.normal(0, 1, size=(I,J,K))\n",
        "    tensor=tl.cp_to_tensor((None,[A,B,C]))+noise\n",
        "    norm_tensor=tl.norm(tensor,2)\n",
        "    if(min_e==None) : min_e=norm_tensor\n",
        "    weights1,factors1,it1,error1=her_CPRAND(tensor,r,n_samples,exact_err=True,it_max=500,err_it_max=200) \n",
        "    weights2,factors2,it2,error2=als(tensor,r,it_max=500) \n",
        "    error1=[i * norm_tensor for i in error1]\n",
        "    list_err1.append(error1)\n",
        "    error2=[i * norm_tensor for i in error2]\n",
        "    list_err2.append(error2)\n",
        "    if (min_e>min(min(error1),min(error2),min(error3))) : min_e=min(min(error1),min(error2),min(error3))\n",
        "  list_err1=[x-min_e for x in list_err1]\n",
        "  list_err2=[x-min_e for x in list_err2]\n",
        "  # plot\n",
        "  for i in range(len(list_err1)):\n",
        "    plt.plot(range(len(list_err1[i])),list_err1[i],'b-') \n",
        "  for i in range(len(list_err2)):\n",
        "    plt.plot(range(len(list_err2[i])),list_err2[i],'r-') \n",
        "  plt.yscale(\"log\") "
      ],
      "execution_count": 124,
      "outputs": []
    },
    {
      "cell_type": "code",
      "metadata": {
        "id": "6R6WSXbgAfmL",
        "outputId": "527c1558-bdf4-4865-c0ad-ff35763adaf2",
        "colab": {
          "base_uri": "https://localhost:8080/",
          "height": 265
        }
      },
      "source": [
        "comparaison(I,J,K,r,nb_rand,n_samples)"
      ],
      "execution_count": 123,
      "outputs": [
        {
          "output_type": "display_data",
          "data": {
            "image/png": "[encoded data removed]",
            "text/plain": [
              "<Figure size 432x288 with 1 Axes>"
            ]
          },
          "metadata": {
            "tags": [],
            "needs_background": "light"
          }
        }
      ]
    },
    {
      "cell_type": "code",
      "metadata": {
        "id": "xxiiMRVXEQxV",
        "outputId": "1231cea2-16bc-4adb-c77d-ecca1428db62",
        "colab": {
          "base_uri": "https://localhost:8080/",
          "height": 265
        }
      },
      "source": [
        "# with exact_err=True ???\n",
        "comparaison(I,J,K,r,nb_rand,n_samples)"
      ],
      "execution_count": 125,
      "outputs": [
        {
          "output_type": "display_data",
          "data": {
            "image/png": "[encoded data removed]",
            "text/plain": [
              "<Figure size 432x288 with 1 Axes>"
            ]
          },
          "metadata": {
            "tags": [],
            "needs_background": "light"
          }
        }
      ]
    },
    {
      "cell_type": "markdown",
      "metadata": {
        "id": "1IsWodHiBaxD"
      },
      "source": [
        "plot median  \n",
        "en fonction du temps"
      ]
    }
  ]
}